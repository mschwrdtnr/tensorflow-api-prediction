{
 "cells": [
  {
   "cell_type": "code",
   "execution_count": 1,
   "metadata": {},
   "outputs": [
    {
     "output_type": "display_data",
     "data": {
      "text/html": "        <script type=\"text/javascript\">\n        window.PlotlyConfig = {MathJaxConfig: 'local'};\n        if (window.MathJax) {MathJax.Hub.Config({SVG: {font: \"STIX-Web\"}});}\n        if (typeof require !== 'undefined') {\n        require.undef(\"plotly\");\n        requirejs.config({\n            paths: {\n                'plotly': ['https://cdn.plot.ly/plotly-latest.min']\n            }\n        });\n        require(['plotly'], function(Plotly) {\n            window._Plotly = Plotly;\n        });\n        }\n        </script>\n        "
     },
     "metadata": {}
    },
    {
     "output_type": "execute_result",
     "data": {
      "text/plain": [
       "           Lateness      Assembly      Material    OpenOrders     NewOrders  \\\n",
       "count  21826.000000  21826.000000  2.182600e+04  21826.000000  21826.000000   \n",
       "mean   -1750.832938    200.750551  1.662396e+09     11.979611      1.912169   \n",
       "std      183.041920     91.524932  7.601338e+08      3.369562      1.384262   \n",
       "min    -3117.000000      6.721726  3.780357e+07      2.000000      0.000000   \n",
       "25%    -1855.569625    124.209190  1.036610e+09     10.000000      1.000000   \n",
       "50%    -1757.139050    211.321315  1.745546e+09     12.000000      2.000000   \n",
       "75%    -1643.860550    279.427617  2.312483e+09     14.000000      3.000000   \n",
       "max        0.000000    393.516050  3.205616e+09     28.000000      9.000000   \n",
       "\n",
       "          TotalWork    TotalSetup   SumDuration  SumOperations  \\\n",
       "count  21826.000000  21826.000000  21826.000000   21826.000000   \n",
       "mean       4.490679      9.556896    218.859067      21.896820   \n",
       "std        1.609028      2.727428     76.394084       7.567101   \n",
       "min        0.000000      0.000000    133.000000      15.000000   \n",
       "25%        3.490000      8.220000    151.000000      15.000000   \n",
       "50%        4.640000     10.380000    201.000000      20.000000   \n",
       "75%        5.620000     11.580000    256.000000      25.000000   \n",
       "max       10.070000     13.710000    575.000000      55.000000   \n",
       "\n",
       "       ProductionOrders     CycleTime  \n",
       "count      21826.000000  21826.000000  \n",
       "mean           4.379364   2737.396408  \n",
       "std            1.513420   1013.295298  \n",
       "min            3.000000   1332.000000  \n",
       "25%            3.000000   1952.000000  \n",
       "50%            4.000000   2491.500000  \n",
       "75%            5.000000   3351.000000  \n",
       "max           11.000000   8582.000000  "
      ],
      "text/html": "<div>\n<style scoped>\n    .dataframe tbody tr th:only-of-type {\n        vertical-align: middle;\n    }\n\n    .dataframe tbody tr th {\n        vertical-align: top;\n    }\n\n    .dataframe thead th {\n        text-align: right;\n    }\n</style>\n<table border=\"1\" class=\"dataframe\">\n  <thead>\n    <tr style=\"text-align: right;\">\n      <th></th>\n      <th>Lateness</th>\n      <th>Assembly</th>\n      <th>Material</th>\n      <th>OpenOrders</th>\n      <th>NewOrders</th>\n      <th>TotalWork</th>\n      <th>TotalSetup</th>\n      <th>SumDuration</th>\n      <th>SumOperations</th>\n      <th>ProductionOrders</th>\n      <th>CycleTime</th>\n    </tr>\n  </thead>\n  <tbody>\n    <tr>\n      <th>count</th>\n      <td>21826.000000</td>\n      <td>21826.000000</td>\n      <td>2.182600e+04</td>\n      <td>21826.000000</td>\n      <td>21826.000000</td>\n      <td>21826.000000</td>\n      <td>21826.000000</td>\n      <td>21826.000000</td>\n      <td>21826.000000</td>\n      <td>21826.000000</td>\n      <td>21826.000000</td>\n    </tr>\n    <tr>\n      <th>mean</th>\n      <td>-1750.832938</td>\n      <td>200.750551</td>\n      <td>1.662396e+09</td>\n      <td>11.979611</td>\n      <td>1.912169</td>\n      <td>4.490679</td>\n      <td>9.556896</td>\n      <td>218.859067</td>\n      <td>21.896820</td>\n      <td>4.379364</td>\n      <td>2737.396408</td>\n    </tr>\n    <tr>\n      <th>std</th>\n      <td>183.041920</td>\n      <td>91.524932</td>\n      <td>7.601338e+08</td>\n      <td>3.369562</td>\n      <td>1.384262</td>\n      <td>1.609028</td>\n      <td>2.727428</td>\n      <td>76.394084</td>\n      <td>7.567101</td>\n      <td>1.513420</td>\n      <td>1013.295298</td>\n    </tr>\n    <tr>\n      <th>min</th>\n      <td>-3117.000000</td>\n      <td>6.721726</td>\n      <td>3.780357e+07</td>\n      <td>2.000000</td>\n      <td>0.000000</td>\n      <td>0.000000</td>\n      <td>0.000000</td>\n      <td>133.000000</td>\n      <td>15.000000</td>\n      <td>3.000000</td>\n      <td>1332.000000</td>\n    </tr>\n    <tr>\n      <th>25%</th>\n      <td>-1855.569625</td>\n      <td>124.209190</td>\n      <td>1.036610e+09</td>\n      <td>10.000000</td>\n      <td>1.000000</td>\n      <td>3.490000</td>\n      <td>8.220000</td>\n      <td>151.000000</td>\n      <td>15.000000</td>\n      <td>3.000000</td>\n      <td>1952.000000</td>\n    </tr>\n    <tr>\n      <th>50%</th>\n      <td>-1757.139050</td>\n      <td>211.321315</td>\n      <td>1.745546e+09</td>\n      <td>12.000000</td>\n      <td>2.000000</td>\n      <td>4.640000</td>\n      <td>10.380000</td>\n      <td>201.000000</td>\n      <td>20.000000</td>\n      <td>4.000000</td>\n      <td>2491.500000</td>\n    </tr>\n    <tr>\n      <th>75%</th>\n      <td>-1643.860550</td>\n      <td>279.427617</td>\n      <td>2.312483e+09</td>\n      <td>14.000000</td>\n      <td>3.000000</td>\n      <td>5.620000</td>\n      <td>11.580000</td>\n      <td>256.000000</td>\n      <td>25.000000</td>\n      <td>5.000000</td>\n      <td>3351.000000</td>\n    </tr>\n    <tr>\n      <th>max</th>\n      <td>0.000000</td>\n      <td>393.516050</td>\n      <td>3.205616e+09</td>\n      <td>28.000000</td>\n      <td>9.000000</td>\n      <td>10.070000</td>\n      <td>13.710000</td>\n      <td>575.000000</td>\n      <td>55.000000</td>\n      <td>11.000000</td>\n      <td>8582.000000</td>\n    </tr>\n  </tbody>\n</table>\n</div>"
     },
     "metadata": {},
     "execution_count": 1
    }
   ],
   "source": [
    "import warnings\n",
    "import numpy as np\n",
    "import pandas as pd\n",
    "import matplotlib.pyplot as plt\n",
    "import keras\n",
    "from keras.utils.vis_utils import plot_model\n",
    "import sklearn\n",
    "import chart_studio.plotly as py\n",
    "import plotly.graph_objs as go\n",
    "from plotly.offline import init_notebook_mode, iplot\n",
    "import math\n",
    "import matplotlib.pyplot as plt\n",
    "\n",
    "%matplotlib inline\n",
    "warnings.filterwarnings(\"ignore\")\n",
    "init_notebook_mode(connected=True)\n",
    "\n",
    "# Set seeds to make the experiment more reproducible.\n",
    "#from tensorflow import set_random_seed\n",
    "from numpy.random import seed\n",
    "#set_random_seed(1)\n",
    "seed(1)\n",
    "\n",
    "train = pd.read_csv('../data/train_full.csv',',')\n",
    "\n",
    "train.describe()"
   ]
  },
  {
   "cell_type": "code",
   "execution_count": 2,
   "metadata": {},
   "outputs": [
    {
     "output_type": "execute_result",
     "data": {
      "text/plain": [
       "        Lateness    Assembly      Material  OpenOrders  NewOrders  TotalWork  \\\n",
       "0     -1393.0000   22.948214  2.267202e+08          15          3       6.00   \n",
       "1     -1465.2858   33.055325  2.787615e+08          16          0       5.40   \n",
       "2     -1517.0000   38.106250  3.069545e+08          12          0       5.35   \n",
       "3     -1448.2354   42.731410  4.160865e+08          12          0       5.36   \n",
       "4     -1431.8889   49.299152  3.960410e+08          12          1       4.26   \n",
       "...          ...         ...           ...         ...        ...        ...   \n",
       "21821 -1780.5779  336.136870  2.872004e+09          18          3       7.16   \n",
       "21822 -1777.0586  337.835850  2.877212e+09          19          2       5.95   \n",
       "21823 -1770.3424  339.095250  2.894094e+09          19          2       5.68   \n",
       "21824 -1767.9797  340.269600  2.924395e+09          18          3       4.88   \n",
       "21825 -1764.7024  344.404000  2.933143e+09          16          1       5.69   \n",
       "\n",
       "       TotalSetup  SumDuration  SumOperations  ProductionOrders  CycleTime  \n",
       "0           10.54          357             35                 7       3826  \n",
       "1           11.05          192             20                 4       2068  \n",
       "2           10.88          296             30                 6       4109  \n",
       "3           12.07          297             30                 6       3599  \n",
       "4            8.88          264             25                 5       3775  \n",
       "...           ...          ...            ...               ...        ...  \n",
       "21821       11.41          147             15                 3       1554  \n",
       "21822       11.78          245             25                 5       3363  \n",
       "21823       12.59          198             20                 4       2933  \n",
       "21824       12.06          156             15                 3       1795  \n",
       "21825       12.23          150             15                 3       1673  \n",
       "\n",
       "[21826 rows x 11 columns]"
      ],
      "text/html": "<div>\n<style scoped>\n    .dataframe tbody tr th:only-of-type {\n        vertical-align: middle;\n    }\n\n    .dataframe tbody tr th {\n        vertical-align: top;\n    }\n\n    .dataframe thead th {\n        text-align: right;\n    }\n</style>\n<table border=\"1\" class=\"dataframe\">\n  <thead>\n    <tr style=\"text-align: right;\">\n      <th></th>\n      <th>Lateness</th>\n      <th>Assembly</th>\n      <th>Material</th>\n      <th>OpenOrders</th>\n      <th>NewOrders</th>\n      <th>TotalWork</th>\n      <th>TotalSetup</th>\n      <th>SumDuration</th>\n      <th>SumOperations</th>\n      <th>ProductionOrders</th>\n      <th>CycleTime</th>\n    </tr>\n  </thead>\n  <tbody>\n    <tr>\n      <th>0</th>\n      <td>-1393.0000</td>\n      <td>22.948214</td>\n      <td>2.267202e+08</td>\n      <td>15</td>\n      <td>3</td>\n      <td>6.00</td>\n      <td>10.54</td>\n      <td>357</td>\n      <td>35</td>\n      <td>7</td>\n      <td>3826</td>\n    </tr>\n    <tr>\n      <th>1</th>\n      <td>-1465.2858</td>\n      <td>33.055325</td>\n      <td>2.787615e+08</td>\n      <td>16</td>\n      <td>0</td>\n      <td>5.40</td>\n      <td>11.05</td>\n      <td>192</td>\n      <td>20</td>\n      <td>4</td>\n      <td>2068</td>\n    </tr>\n    <tr>\n      <th>2</th>\n      <td>-1517.0000</td>\n      <td>38.106250</td>\n      <td>3.069545e+08</td>\n      <td>12</td>\n      <td>0</td>\n      <td>5.35</td>\n      <td>10.88</td>\n      <td>296</td>\n      <td>30</td>\n      <td>6</td>\n      <td>4109</td>\n    </tr>\n    <tr>\n      <th>3</th>\n      <td>-1448.2354</td>\n      <td>42.731410</td>\n      <td>4.160865e+08</td>\n      <td>12</td>\n      <td>0</td>\n      <td>5.36</td>\n      <td>12.07</td>\n      <td>297</td>\n      <td>30</td>\n      <td>6</td>\n      <td>3599</td>\n    </tr>\n    <tr>\n      <th>4</th>\n      <td>-1431.8889</td>\n      <td>49.299152</td>\n      <td>3.960410e+08</td>\n      <td>12</td>\n      <td>1</td>\n      <td>4.26</td>\n      <td>8.88</td>\n      <td>264</td>\n      <td>25</td>\n      <td>5</td>\n      <td>3775</td>\n    </tr>\n    <tr>\n      <th>...</th>\n      <td>...</td>\n      <td>...</td>\n      <td>...</td>\n      <td>...</td>\n      <td>...</td>\n      <td>...</td>\n      <td>...</td>\n      <td>...</td>\n      <td>...</td>\n      <td>...</td>\n      <td>...</td>\n    </tr>\n    <tr>\n      <th>21821</th>\n      <td>-1780.5779</td>\n      <td>336.136870</td>\n      <td>2.872004e+09</td>\n      <td>18</td>\n      <td>3</td>\n      <td>7.16</td>\n      <td>11.41</td>\n      <td>147</td>\n      <td>15</td>\n      <td>3</td>\n      <td>1554</td>\n    </tr>\n    <tr>\n      <th>21822</th>\n      <td>-1777.0586</td>\n      <td>337.835850</td>\n      <td>2.877212e+09</td>\n      <td>19</td>\n      <td>2</td>\n      <td>5.95</td>\n      <td>11.78</td>\n      <td>245</td>\n      <td>25</td>\n      <td>5</td>\n      <td>3363</td>\n    </tr>\n    <tr>\n      <th>21823</th>\n      <td>-1770.3424</td>\n      <td>339.095250</td>\n      <td>2.894094e+09</td>\n      <td>19</td>\n      <td>2</td>\n      <td>5.68</td>\n      <td>12.59</td>\n      <td>198</td>\n      <td>20</td>\n      <td>4</td>\n      <td>2933</td>\n    </tr>\n    <tr>\n      <th>21824</th>\n      <td>-1767.9797</td>\n      <td>340.269600</td>\n      <td>2.924395e+09</td>\n      <td>18</td>\n      <td>3</td>\n      <td>4.88</td>\n      <td>12.06</td>\n      <td>156</td>\n      <td>15</td>\n      <td>3</td>\n      <td>1795</td>\n    </tr>\n    <tr>\n      <th>21825</th>\n      <td>-1764.7024</td>\n      <td>344.404000</td>\n      <td>2.933143e+09</td>\n      <td>16</td>\n      <td>1</td>\n      <td>5.69</td>\n      <td>12.23</td>\n      <td>150</td>\n      <td>15</td>\n      <td>3</td>\n      <td>1673</td>\n    </tr>\n  </tbody>\n</table>\n<p>21826 rows × 11 columns</p>\n</div>"
     },
     "metadata": {},
     "execution_count": 2
    }
   ],
   "source": [
    "train"
   ]
  },
  {
   "cell_type": "code",
   "execution_count": 3,
   "metadata": {},
   "outputs": [],
   "source": [
    "split_fraction = 0.70\n",
    "train_split = int(split_fraction * int(train.shape[0]))\n",
    "step = 1\n",
    "\n",
    "#past = 0\n",
    "#future = 8\n",
    "learning_rate = 0.0005\n",
    "batch = 32\n",
    "epochs = 100\n",
    "mean = 0\n",
    "std = 0\n",
    "\n",
    "def normalize(data, train_split):\n",
    "    global mean\n",
    "    global std\n",
    "    data_mean = data[:train_split].mean(axis=0)\n",
    "    mean = data_mean\n",
    "    data_std = data[:train_split].std(axis=0)\n",
    "    std = data_std\n",
    "    return (data - data_mean) / data_std"
   ]
  },
  {
   "cell_type": "code",
   "execution_count": 4,
   "metadata": {},
   "outputs": [
    {
     "output_type": "execute_result",
     "data": {
      "text/plain": [
       "         0         1         2         3         4         5         6   \\\n",
       "0  1.907736 -1.938091 -1.885840  0.928719  0.797825  0.967270  0.397561   \n",
       "1  1.518026 -1.826954 -1.816839  1.229582 -1.373385  0.589939  0.586819   \n",
       "2  1.239222 -1.771414 -1.779457  0.026132 -1.373385  0.558494  0.523733   \n",
       "3  1.609949 -1.720555 -1.634759  0.026132 -1.373385  0.564783  0.965335   \n",
       "4  1.698076 -1.648337 -1.661338  0.026132 -0.649648 -0.126991 -0.218455   \n",
       "\n",
       "         7         8         9         10  \n",
       "0  1.779054  1.706758  1.706758  1.053601  \n",
       "1 -0.355724 -0.254176 -0.254176 -0.660104  \n",
       "2  0.989833  1.053114  1.053114  1.329470  \n",
       "3  1.002771  1.053114  1.053114  0.832320  \n",
       "4  0.575815  0.399469  0.399469  1.003886  "
      ],
      "text/html": "<div>\n<style scoped>\n    .dataframe tbody tr th:only-of-type {\n        vertical-align: middle;\n    }\n\n    .dataframe tbody tr th {\n        vertical-align: top;\n    }\n\n    .dataframe thead th {\n        text-align: right;\n    }\n</style>\n<table border=\"1\" class=\"dataframe\">\n  <thead>\n    <tr style=\"text-align: right;\">\n      <th></th>\n      <th>0</th>\n      <th>1</th>\n      <th>2</th>\n      <th>3</th>\n      <th>4</th>\n      <th>5</th>\n      <th>6</th>\n      <th>7</th>\n      <th>8</th>\n      <th>9</th>\n      <th>10</th>\n    </tr>\n  </thead>\n  <tbody>\n    <tr>\n      <th>0</th>\n      <td>1.907736</td>\n      <td>-1.938091</td>\n      <td>-1.885840</td>\n      <td>0.928719</td>\n      <td>0.797825</td>\n      <td>0.967270</td>\n      <td>0.397561</td>\n      <td>1.779054</td>\n      <td>1.706758</td>\n      <td>1.706758</td>\n      <td>1.053601</td>\n    </tr>\n    <tr>\n      <th>1</th>\n      <td>1.518026</td>\n      <td>-1.826954</td>\n      <td>-1.816839</td>\n      <td>1.229582</td>\n      <td>-1.373385</td>\n      <td>0.589939</td>\n      <td>0.586819</td>\n      <td>-0.355724</td>\n      <td>-0.254176</td>\n      <td>-0.254176</td>\n      <td>-0.660104</td>\n    </tr>\n    <tr>\n      <th>2</th>\n      <td>1.239222</td>\n      <td>-1.771414</td>\n      <td>-1.779457</td>\n      <td>0.026132</td>\n      <td>-1.373385</td>\n      <td>0.558494</td>\n      <td>0.523733</td>\n      <td>0.989833</td>\n      <td>1.053114</td>\n      <td>1.053114</td>\n      <td>1.329470</td>\n    </tr>\n    <tr>\n      <th>3</th>\n      <td>1.609949</td>\n      <td>-1.720555</td>\n      <td>-1.634759</td>\n      <td>0.026132</td>\n      <td>-1.373385</td>\n      <td>0.564783</td>\n      <td>0.965335</td>\n      <td>1.002771</td>\n      <td>1.053114</td>\n      <td>1.053114</td>\n      <td>0.832320</td>\n    </tr>\n    <tr>\n      <th>4</th>\n      <td>1.698076</td>\n      <td>-1.648337</td>\n      <td>-1.661338</td>\n      <td>0.026132</td>\n      <td>-0.649648</td>\n      <td>-0.126991</td>\n      <td>-0.218455</td>\n      <td>0.575815</td>\n      <td>0.399469</td>\n      <td>0.399469</td>\n      <td>1.003886</td>\n    </tr>\n  </tbody>\n</table>\n</div>"
     },
     "metadata": {},
     "execution_count": 4
    }
   ],
   "source": [
    "titles = ['Lateness',\n",
    "          'Assembly',\n",
    "          'Material',\n",
    "          'OpenOrders',\n",
    "          'NewOrders',\n",
    "          'TotalWork',\n",
    "          'TotalSetup',\n",
    "          'SumDuration',\n",
    "          'SumOperations',\n",
    "          'ProductionOrders',\n",
    "          'CycleTime']\n",
    "#  \n",
    "# for c in train.columns:\n",
    "#     titles.append(c);\n",
    "    \n",
    "features = train[titles]\n",
    "features = normalize(features.values, train_split)\n",
    "features = pd.DataFrame(features)\n",
    "features.head()"
   ]
  },
  {
   "cell_type": "code",
   "execution_count": 5,
   "metadata": {},
   "outputs": [
    {
     "output_type": "execute_result",
     "data": {
      "text/plain": [
       "             0         1         2         3         4         5         6   \\\n",
       "0      1.907736 -1.938091 -1.885840  0.928719  0.797825  0.967270  0.397561   \n",
       "1      1.518026 -1.826954 -1.816839  1.229582 -1.373385  0.589939  0.586819   \n",
       "2      1.239222 -1.771414 -1.779457  0.026132 -1.373385  0.558494  0.523733   \n",
       "3      1.609949 -1.720555 -1.634759  0.026132 -1.373385  0.564783  0.965335   \n",
       "4      1.698076 -1.648337 -1.661338  0.026132 -0.649648 -0.126991 -0.218455   \n",
       "...         ...       ...       ...       ...       ...       ...       ...   \n",
       "15273 -0.108771  0.911477  0.840288 -0.575593  0.074089 -0.189880  0.386428   \n",
       "15274 -0.115239  0.905066  0.860612  0.026132  0.797825  0.715716  1.291898   \n",
       "15275 -0.114340  0.922803  0.914206 -0.274730  0.074089  0.470450  1.136038   \n",
       "15276 -0.114340  0.941792  0.955875  0.026132 -0.649648  0.533339  0.557131   \n",
       "15277 -0.100646  1.008390  0.968719  0.627857  0.797825  0.319518  0.315920   \n",
       "\n",
       "             7         8         9         10  \n",
       "0      1.779054  1.706758  1.706758  1.053601  \n",
       "1     -0.355724 -0.254176 -0.254176 -0.660104  \n",
       "2      0.989833  1.053114  1.053114  1.329470  \n",
       "3      1.002771  1.053114  1.053114  0.832320  \n",
       "4      0.575815  0.399469  0.399469  1.003886  \n",
       "...         ...       ...       ...       ...  \n",
       "15273  0.420559  0.399469  0.399469  0.039805  \n",
       "15274 -1.002627 -0.907821 -0.907821 -0.807300  \n",
       "15275  2.956417  3.014048  3.014048  2.964216  \n",
       "15276  0.317054  0.399469  0.399469  0.133386  \n",
       "15277 -0.860308 -0.907821 -0.907821 -0.802426  \n",
       "\n",
       "[15278 rows x 11 columns]"
      ],
      "text/html": "<div>\n<style scoped>\n    .dataframe tbody tr th:only-of-type {\n        vertical-align: middle;\n    }\n\n    .dataframe tbody tr th {\n        vertical-align: top;\n    }\n\n    .dataframe thead th {\n        text-align: right;\n    }\n</style>\n<table border=\"1\" class=\"dataframe\">\n  <thead>\n    <tr style=\"text-align: right;\">\n      <th></th>\n      <th>0</th>\n      <th>1</th>\n      <th>2</th>\n      <th>3</th>\n      <th>4</th>\n      <th>5</th>\n      <th>6</th>\n      <th>7</th>\n      <th>8</th>\n      <th>9</th>\n      <th>10</th>\n    </tr>\n  </thead>\n  <tbody>\n    <tr>\n      <th>0</th>\n      <td>1.907736</td>\n      <td>-1.938091</td>\n      <td>-1.885840</td>\n      <td>0.928719</td>\n      <td>0.797825</td>\n      <td>0.967270</td>\n      <td>0.397561</td>\n      <td>1.779054</td>\n      <td>1.706758</td>\n      <td>1.706758</td>\n      <td>1.053601</td>\n    </tr>\n    <tr>\n      <th>1</th>\n      <td>1.518026</td>\n      <td>-1.826954</td>\n      <td>-1.816839</td>\n      <td>1.229582</td>\n      <td>-1.373385</td>\n      <td>0.589939</td>\n      <td>0.586819</td>\n      <td>-0.355724</td>\n      <td>-0.254176</td>\n      <td>-0.254176</td>\n      <td>-0.660104</td>\n    </tr>\n    <tr>\n      <th>2</th>\n      <td>1.239222</td>\n      <td>-1.771414</td>\n      <td>-1.779457</td>\n      <td>0.026132</td>\n      <td>-1.373385</td>\n      <td>0.558494</td>\n      <td>0.523733</td>\n      <td>0.989833</td>\n      <td>1.053114</td>\n      <td>1.053114</td>\n      <td>1.329470</td>\n    </tr>\n    <tr>\n      <th>3</th>\n      <td>1.609949</td>\n      <td>-1.720555</td>\n      <td>-1.634759</td>\n      <td>0.026132</td>\n      <td>-1.373385</td>\n      <td>0.564783</td>\n      <td>0.965335</td>\n      <td>1.002771</td>\n      <td>1.053114</td>\n      <td>1.053114</td>\n      <td>0.832320</td>\n    </tr>\n    <tr>\n      <th>4</th>\n      <td>1.698076</td>\n      <td>-1.648337</td>\n      <td>-1.661338</td>\n      <td>0.026132</td>\n      <td>-0.649648</td>\n      <td>-0.126991</td>\n      <td>-0.218455</td>\n      <td>0.575815</td>\n      <td>0.399469</td>\n      <td>0.399469</td>\n      <td>1.003886</td>\n    </tr>\n    <tr>\n      <th>...</th>\n      <td>...</td>\n      <td>...</td>\n      <td>...</td>\n      <td>...</td>\n      <td>...</td>\n      <td>...</td>\n      <td>...</td>\n      <td>...</td>\n      <td>...</td>\n      <td>...</td>\n      <td>...</td>\n    </tr>\n    <tr>\n      <th>15273</th>\n      <td>-0.108771</td>\n      <td>0.911477</td>\n      <td>0.840288</td>\n      <td>-0.575593</td>\n      <td>0.074089</td>\n      <td>-0.189880</td>\n      <td>0.386428</td>\n      <td>0.420559</td>\n      <td>0.399469</td>\n      <td>0.399469</td>\n      <td>0.039805</td>\n    </tr>\n    <tr>\n      <th>15274</th>\n      <td>-0.115239</td>\n      <td>0.905066</td>\n      <td>0.860612</td>\n      <td>0.026132</td>\n      <td>0.797825</td>\n      <td>0.715716</td>\n      <td>1.291898</td>\n      <td>-1.002627</td>\n      <td>-0.907821</td>\n      <td>-0.907821</td>\n      <td>-0.807300</td>\n    </tr>\n    <tr>\n      <th>15275</th>\n      <td>-0.114340</td>\n      <td>0.922803</td>\n      <td>0.914206</td>\n      <td>-0.274730</td>\n      <td>0.074089</td>\n      <td>0.470450</td>\n      <td>1.136038</td>\n      <td>2.956417</td>\n      <td>3.014048</td>\n      <td>3.014048</td>\n      <td>2.964216</td>\n    </tr>\n    <tr>\n      <th>15276</th>\n      <td>-0.114340</td>\n      <td>0.941792</td>\n      <td>0.955875</td>\n      <td>0.026132</td>\n      <td>-0.649648</td>\n      <td>0.533339</td>\n      <td>0.557131</td>\n      <td>0.317054</td>\n      <td>0.399469</td>\n      <td>0.399469</td>\n      <td>0.133386</td>\n    </tr>\n    <tr>\n      <th>15277</th>\n      <td>-0.100646</td>\n      <td>1.008390</td>\n      <td>0.968719</td>\n      <td>0.627857</td>\n      <td>0.797825</td>\n      <td>0.319518</td>\n      <td>0.315920</td>\n      <td>-0.860308</td>\n      <td>-0.907821</td>\n      <td>-0.907821</td>\n      <td>-0.802426</td>\n    </tr>\n  </tbody>\n</table>\n<p>15278 rows × 11 columns</p>\n</div>"
     },
     "metadata": {},
     "execution_count": 5
    }
   ],
   "source": [
    "train_data = features.loc[0 : train_split - 1] #Training Data\n",
    "val_data = features.loc[train_split:] #Validation Data\n",
    "train_data"
   ]
  },
  {
   "cell_type": "code",
   "execution_count": 6,
   "metadata": {},
   "outputs": [
    {
     "output_type": "execute_result",
     "data": {
      "text/plain": [
       "array([ 1.90773563, -1.93809139, -1.88584016,  0.92871925,  0.79782542,\n",
       "        0.96727015,  0.3975609 ,  1.77905411,  1.7067585 ,  1.7067585 ])"
      ]
     },
     "metadata": {},
     "execution_count": 6
    }
   ],
   "source": [
    "#start = past + future\n",
    "start = 0\n",
    "end = start + train_split\n",
    "\n",
    "x_train = train_data[[i for i in range(len(titles) - 1)]].values\n",
    "y_train = features.iloc[start:end][[len(titles)-1]]\n",
    "\n",
    "#sequence_length = int(past / step)\n",
    "sequence_length = 1\n",
    "x_train[0]"
   ]
  },
  {
   "cell_type": "code",
   "execution_count": 7,
   "metadata": {},
   "outputs": [],
   "source": [
    "dataset_train = keras.preprocessing.timeseries_dataset_from_array(\n",
    "    x_train,\n",
    "    y_train,\n",
    "    sequence_length=sequence_length,\n",
    "    sampling_rate=step,\n",
    "    batch_size=batch\n",
    ")"
   ]
  },
  {
   "cell_type": "code",
   "execution_count": 8,
   "metadata": {},
   "outputs": [
    {
     "output_type": "stream",
     "name": "stdout",
     "text": [
      "[[-0.16017242  1.0309859   1.01233673 ...  1.52029307  1.7067585\n   1.7067585 ]\n [-0.11347139  1.08258297  1.050463   ... -0.22634393 -0.25417623\n  -0.25417623]\n [-0.11347139  1.131149    1.1759868  ... -1.1190695  -0.90782114\n  -0.90782114]\n ...\n [-0.12660605  1.538261    1.65083247 ... -0.27809613 -0.25417623\n  -0.25417623]\n [-0.11386818  1.55117416  1.69100792 ... -0.82149431 -0.90782114\n  -0.90782114]\n [-0.09619949  1.59663601  1.70260756 ... -0.89912262 -0.90782114\n  -0.90782114]]\n             10\n15278  1.660904\n15279  0.069049\n15280 -0.919402\n15281  1.704770\n15282 -0.638659\n...         ...\n21821 -1.161153\n21822  0.602267\n21823  0.183101\n21824 -0.926226\n21825 -1.045152\n\n[6548 rows x 1 columns]\nInput shape: (32, 1, 10)\nTarget shape: (32, 1)\ntf.Tensor(\n[[[ 1.90773563 -1.93809139 -1.88584016  0.92871925  0.79782542\n    0.96727015  0.3975609   1.77905411  1.7067585   1.7067585 ]]\n\n [[ 1.51802587 -1.82695361 -1.81683853  1.22958167 -1.37338527\n    0.5899387   0.58681892 -0.35572444 -0.25417623 -0.25417623]]\n\n [[ 1.23922245 -1.77141365 -1.77945747  0.02613198 -1.37338527\n    0.55849442  0.52373291  0.98983295  1.05311359  1.05311359]]\n\n [[ 1.60994859 -1.7205554  -1.6347593   0.02613198 -1.37338527\n    0.56478327  0.96533495  1.002771    1.05311359  1.05311359]]\n\n [[ 1.69807642 -1.64833651 -1.66133761  0.02613198 -0.64964837\n   -0.12699104 -0.21845539  0.57581529  0.39946868  0.39946868]]\n\n [[ 1.03827655 -1.63070302 -1.62144379 -0.87645529 -0.64964837\n   -0.32194562  0.200881   -0.21340587 -0.25417623 -0.25417623]]\n\n [[ 0.96403493 -1.62297481 -1.63567513 -0.57559286  0.07408853\n   -0.90680936 -0.83076073 -0.82149431 -0.90782114 -0.90782114]]\n\n [[ 0.84436837 -1.63232641 -1.54940711  0.02613198  1.52156232\n   -0.59236649 -0.559862   -0.09696341 -0.25417623 -0.25417623]]\n\n [[ 0.84436837 -1.61465702 -1.45935805  0.92871925  0.79782542\n    0.82262643  0.55713138 -0.29103419 -0.25417623 -0.25417623]]\n\n [[ 0.77877159 -1.51049377 -1.46418764  0.62785683 -0.64964837\n    0.82262643  0.74267846 -0.92499873 -0.90782114 -0.90782114]]\n\n [[ 0.44112661 -1.49126309 -1.44867479  0.92871925  0.07408853\n    0.24405155  0.67588151 -0.0452112  -0.25417623 -0.25417623]]\n\n [[ 0.33061976 -1.47071564 -1.41921137  1.5304441   1.52156232\n    0.14971869 -0.28154139 -0.82149431 -0.90782114 -0.90782114]]\n\n [[ 0.17055992 -1.37873994 -1.31172544  0.62785683 -1.37338527\n    0.82891528  0.35674054 -0.29103419 -0.25417623 -0.25417623]]\n\n [[ 0.24822821 -1.35177001 -1.3217081   0.62785683  0.07408853\n   -0.46658934  0.18974818 -0.80855626 -0.90782114 -0.90782114]]\n\n [[-0.0109026  -1.34242494 -1.32777011 -0.27473044 -0.64964837\n   -0.74329906 -0.51161976 -0.0452112  -0.25417623 -0.25417623]]\n\n [[ 0.18218881 -1.34102344 -1.30393127 -0.57559286  0.79782542\n   -0.1332799  -0.29638516 -0.89912262 -0.90782114 -0.90782114]]\n\n [[ 0.30316921 -1.31063552 -1.31030356 -0.27473044  0.79782542\n    0.0742524   0.57197515 -0.92499873 -0.90782114 -0.90782114]]\n\n [[ 0.43188496 -1.2619229  -1.29554357 -0.87645529 -1.37338527\n   -0.6489662  -0.33720551  0.52406308  0.39946868  0.39946868]]\n\n [[ 0.39339747 -1.27117745 -1.2862     -1.17731771 -0.64964837\n   -1.46651766 -1.53212867 -0.87324652 -0.90782114 -0.90782114]]\n\n [[ 0.57364102 -1.29006156 -1.31524035 -1.77904255 -0.64964837\n   -2.48531256 -2.82353631 -0.98968899 -0.90782114 -0.90782114]]\n\n [[ 0.56860776 -1.27548575 -1.23695831 -1.47818013 -1.37338527\n    0.34467326  0.19717006  1.77905411  1.7067585   1.7067585 ]]\n\n [[ 0.49302264 -1.2408174  -1.23744566 -1.17731771 -1.37338527\n   -0.99485336 -0.25927574 -0.95087483 -0.90782114 -0.90782114]]\n\n [[ 0.41898481 -1.22363472 -1.2247373  -1.17731771  0.07408853\n   -1.23382994 -1.42822231 -0.87324652 -0.90782114 -0.90782114]]\n\n [[ 0.41898481 -1.22804103 -1.17163684 -0.57559286  0.07408853\n   -1.12691936 -1.02372969 -0.86030847 -0.90782114 -0.90782114]]\n\n [[ 0.42597508 -1.17733371 -1.18542727 -0.87645529 -0.64964837\n   -0.38483419 -0.80849508 -0.32984834 -0.25417623 -0.25417623]]\n\n [[ 0.44744622 -1.17085124 -1.15164856 -0.57559286  0.07408853\n   -0.70556592 -1.05712816 -0.91206067 -0.90782114 -0.90782114]]\n\n [[ 0.45233984 -1.15239043 -1.11207222 -0.57559286  0.07408853\n   -0.17101304 -0.24814292  1.74023996  1.7067585   1.7067585 ]]\n\n [[ 0.45694665 -1.09091615 -1.08907946  0.02613198  0.79782542\n   -0.25905704  0.04502146  1.68848775  1.7067585   1.7067585 ]]\n\n [[ 0.2765791  -1.06461801 -0.98460147  0.62785683  0.79782542\n    0.01765268  0.21943571 -0.79561821 -0.90782114 -0.90782114]]\n\n [[ 0.3165826  -0.99639389 -0.9469778   0.02613198 -0.64964837\n    1.06789186  0.57568609 -0.87324652 -0.90782114 -0.90782114]]\n\n [[ 0.42212682 -0.91502691 -0.93339679  0.02613198  0.07408853\n    0.2503404   0.77607693  0.45937282  0.39946868  0.39946868]]\n\n [[ 0.28266311 -0.87601299 -0.90330362  0.32699441  0.79782542\n    0.22518497  0.95420212 -0.89912262 -0.90782114 -0.90782114]]], shape=(32, 1, 10), dtype=float64)\n"
     ]
    }
   ],
   "source": [
    "label_start = train_split\n",
    "valRange = int(train.shape[0]) - train_split\n",
    "\n",
    "# x_val = val_data.iloc[[i for i in range(valRange)]].values\n",
    "x_val = val_data[[i for i in range(len(titles) - 1)]].values\n",
    "# x_val = val_data.iloc[[i for i in range(49)]].values\n",
    "y_val = features.iloc[label_start:][[len(titles)-1]]\n",
    "\n",
    "dataset_val = keras.preprocessing.timeseries_dataset_from_array(\n",
    "    x_val,\n",
    "    y_val,\n",
    "    sequence_length=sequence_length,\n",
    "    sampling_rate=step,\n",
    "    batch_size=batch\n",
    ")\n",
    "\n",
    "for batch in dataset_train.take(1):\n",
    "    inputs, targets = batch\n",
    "print(x_val)\n",
    "print(y_val)\n",
    "print(\"Input shape:\", inputs.numpy().shape)\n",
    "print(\"Target shape:\", targets.numpy().shape)\n",
    "print(inputs)"
   ]
  },
  {
   "cell_type": "code",
   "execution_count": 12,
   "metadata": {},
   "outputs": [
    {
     "output_type": "stream",
     "name": "stdout",
     "text": [
      "Model: \"model_1\"\n",
      "_________________________________________________________________\n",
      "Layer (type)                 Output Shape              Param #   \n",
      "=================================================================\n",
      "input_2 (InputLayer)         [(None, 1, 10)]           0         \n",
      "_________________________________________________________________\n",
      "lstm_2 (LSTM)                (None, 1, 10)             840       \n",
      "_________________________________________________________________\n",
      "lstm_3 (LSTM)                (None, 1, 10)             840       \n",
      "_________________________________________________________________\n",
      "lstm_4 (LSTM)                (None, 1, 10)             840       \n",
      "_________________________________________________________________\n",
      "lstm_5 (LSTM)                (None, 10)                840       \n",
      "_________________________________________________________________\n",
      "dense_1 (Dense)              (None, 1)                 11        \n",
      "=================================================================\n",
      "Total params: 3,371\n",
      "Trainable params: 3,371\n",
      "Non-trainable params: 0\n",
      "_________________________________________________________________\n",
      "('You must install pydot (`pip install pydot`) and install graphviz (see instructions at https://graphviz.gitlab.io/download/) ', 'for plot_model/model_to_dot to work.')\n",
      "WARNING:absl:Found untraced functions such as lstm_cell_2_layer_call_fn, lstm_cell_2_layer_call_and_return_conditional_losses, lstm_cell_3_layer_call_fn, lstm_cell_3_layer_call_and_return_conditional_losses, lstm_cell_4_layer_call_fn while saving (showing 5 of 20). These functions will not be directly callable after loading.\n",
      "INFO:tensorflow:Assets written to: kerasModel\\assets\n",
      "INFO:tensorflow:Assets written to: kerasModel\\assets\n"
     ]
    }
   ],
   "source": [
    "# Long Short Term Memory - Model als Methodik mit Adam --> stochastic gradient descent algorithm\n",
    "\n",
    "inputs = keras.layers.Input(shape=(inputs.shape[1], inputs.shape[2]))\n",
    "#dropout1 = keras.layers.Dropout(0.4)(inputs)\n",
    "hidden1 = keras.layers.LSTM(10, return_sequences=True)(inputs)\n",
    "hidden2 = keras.layers.LSTM(10, return_sequences=True)(hidden1)\n",
    "hidden3 = keras.layers.LSTM(10, return_sequences=True)(hidden2)\n",
    "lasthidden = keras.layers.LSTM(10)(hidden3)\n",
    "#dropout2 = keras.layers.Dropout(0.4)(hidden1)\n",
    "outputs = keras.layers.Dense(1)(lasthidden)\n",
    "learning_rate = 0.001\n",
    "model = keras.Model(inputs=inputs, outputs=outputs)\n",
    "model.compile(optimizer=keras.optimizers.SGD(learning_rate=learning_rate, momentum=0.99), loss=keras.losses.MeanSquaredError()) #metrics=keras.metrics.MeanAbsoluteError())\n",
    "model.summary()\n",
    "plot_model(model, to_file='model_plot.png', show_shapes=True, show_layer_names=True)\n",
    "model.save(\"kerasModel\")"
   ]
  },
  {
   "cell_type": "code",
   "execution_count": 13,
   "metadata": {
    "tags": []
   },
   "outputs": [
    {
     "output_type": "stream",
     "name": "stdout",
     "text": [
      "Epoch 1/4000\n",
      "\n",
      "Epoch 00001: LearningRateScheduler reducing learning rate to 0.001.\n",
      "478/478 [==============================] - 10s 8ms/step - loss: 1.0015 - val_loss: 0.9179\n",
      "\n",
      "Epoch 00001: val_loss improved from inf to 0.91787, saving model to kerasModel\\simpleModelCheckpoint.h5\n",
      "Epoch 2/4000\n",
      "\n",
      "Epoch 00002: LearningRateScheduler reducing learning rate to 0.001.\n",
      "478/478 [==============================] - 3s 6ms/step - loss: 0.9998 - val_loss: 0.9169\n",
      "\n",
      "Epoch 00002: val_loss improved from 0.91787 to 0.91689, saving model to kerasModel\\simpleModelCheckpoint.h5\n",
      "Epoch 3/4000\n",
      "\n",
      "Epoch 00003: LearningRateScheduler reducing learning rate to 0.001.\n",
      "478/478 [==============================] - 3s 6ms/step - loss: 0.9977 - val_loss: 0.9130\n",
      "\n",
      "Epoch 00003: val_loss improved from 0.91689 to 0.91299, saving model to kerasModel\\simpleModelCheckpoint.h5\n",
      "Epoch 4/4000\n",
      "\n",
      "Epoch 00004: LearningRateScheduler reducing learning rate to 0.001.\n",
      "478/478 [==============================] - 3s 6ms/step - loss: 0.9790 - val_loss: 0.8453\n",
      "\n",
      "Epoch 00004: val_loss improved from 0.91299 to 0.84526, saving model to kerasModel\\simpleModelCheckpoint.h5\n",
      "Epoch 5/4000\n",
      "\n",
      "Epoch 00005: LearningRateScheduler reducing learning rate to 0.001.\n",
      "478/478 [==============================] - 3s 6ms/step - loss: 0.4134 - val_loss: 0.1572\n",
      "\n",
      "Epoch 00005: val_loss improved from 0.84526 to 0.15724, saving model to kerasModel\\simpleModelCheckpoint.h5\n",
      "Epoch 6/4000\n",
      "\n",
      "Epoch 00006: LearningRateScheduler reducing learning rate to 0.001.\n",
      "478/478 [==============================] - 3s 6ms/step - loss: 0.1513 - val_loss: 0.1183\n",
      "\n",
      "Epoch 00006: val_loss improved from 0.15724 to 0.11830, saving model to kerasModel\\simpleModelCheckpoint.h5\n",
      "Epoch 7/4000\n",
      "\n",
      "Epoch 00007: LearningRateScheduler reducing learning rate to 0.001.\n",
      "478/478 [==============================] - 3s 6ms/step - loss: 0.1240 - val_loss: 0.1128\n",
      "\n",
      "Epoch 00007: val_loss improved from 0.11830 to 0.11284, saving model to kerasModel\\simpleModelCheckpoint.h5\n",
      "Epoch 8/4000\n",
      "\n",
      "Epoch 00008: LearningRateScheduler reducing learning rate to 0.001.\n",
      "478/478 [==============================] - 3s 6ms/step - loss: 0.1209 - val_loss: 0.1113\n",
      "\n",
      "Epoch 00008: val_loss improved from 0.11284 to 0.11126, saving model to kerasModel\\simpleModelCheckpoint.h5\n",
      "Epoch 9/4000\n",
      "\n",
      "Epoch 00009: LearningRateScheduler reducing learning rate to 0.001.\n",
      "478/478 [==============================] - 3s 6ms/step - loss: 0.1170 - val_loss: 0.1092\n",
      "\n",
      "Epoch 00009: val_loss improved from 0.11126 to 0.10916, saving model to kerasModel\\simpleModelCheckpoint.h5\n",
      "Epoch 10/4000\n",
      "\n",
      "Epoch 00010: LearningRateScheduler reducing learning rate to 0.001.\n",
      "478/478 [==============================] - 3s 6ms/step - loss: 0.1165 - val_loss: 0.1085\n",
      "\n",
      "Epoch 00010: val_loss improved from 0.10916 to 0.10852, saving model to kerasModel\\simpleModelCheckpoint.h5\n",
      "Epoch 11/4000\n",
      "\n",
      "Epoch 00011: LearningRateScheduler reducing learning rate to 0.001.\n",
      "478/478 [==============================] - 3s 6ms/step - loss: 0.1157 - val_loss: 0.1080\n",
      "\n",
      "Epoch 00011: val_loss improved from 0.10852 to 0.10802, saving model to kerasModel\\simpleModelCheckpoint.h5\n",
      "Epoch 12/4000\n",
      "\n",
      "Epoch 00012: LearningRateScheduler reducing learning rate to 0.001.\n",
      "478/478 [==============================] - 3s 6ms/step - loss: 0.1155 - val_loss: 0.1079\n",
      "\n",
      "Epoch 00012: val_loss improved from 0.10802 to 0.10795, saving model to kerasModel\\simpleModelCheckpoint.h5\n",
      "Epoch 13/4000\n",
      "\n",
      "Epoch 00013: LearningRateScheduler reducing learning rate to 0.001.\n",
      "478/478 [==============================] - 3s 6ms/step - loss: 0.1157 - val_loss: 0.1092\n",
      "\n",
      "Epoch 00013: val_loss did not improve from 0.10795\n",
      "Epoch 14/4000\n",
      "\n",
      "Epoch 00014: LearningRateScheduler reducing learning rate to 0.001.\n",
      "478/478 [==============================] - 3s 6ms/step - loss: 0.1156 - val_loss: 0.1122\n",
      "\n",
      "Epoch 00014: val_loss did not improve from 0.10795\n",
      "Epoch 15/4000\n",
      "\n",
      "Epoch 00015: LearningRateScheduler reducing learning rate to 0.001.\n",
      "478/478 [==============================] - 3s 6ms/step - loss: 0.1145 - val_loss: 0.1119\n",
      "\n",
      "Epoch 00015: val_loss did not improve from 0.10795\n",
      "Epoch 16/4000\n",
      "\n",
      "Epoch 00016: LearningRateScheduler reducing learning rate to 0.001.\n",
      "478/478 [==============================] - 3s 6ms/step - loss: 0.1135 - val_loss: 0.1109\n",
      "\n",
      "Epoch 00016: val_loss did not improve from 0.10795\n",
      "Epoch 17/4000\n",
      "\n",
      "Epoch 00017: LearningRateScheduler reducing learning rate to 0.001.\n",
      "478/478 [==============================] - 3s 6ms/step - loss: 0.1131 - val_loss: 0.1108\n",
      "\n",
      "Epoch 00017: val_loss did not improve from 0.10795\n",
      "Epoch 18/4000\n",
      "\n",
      "Epoch 00018: LearningRateScheduler reducing learning rate to 0.001.\n",
      "478/478 [==============================] - 3s 6ms/step - loss: 0.1128 - val_loss: 0.1107\n",
      "\n",
      "Epoch 00018: val_loss did not improve from 0.10795\n",
      "Epoch 19/4000\n",
      "\n",
      "Epoch 00019: LearningRateScheduler reducing learning rate to 0.001.\n",
      "478/478 [==============================] - 3s 6ms/step - loss: 0.1126 - val_loss: 0.1107\n",
      "\n",
      "Epoch 00019: val_loss did not improve from 0.10795\n",
      "Epoch 20/4000\n",
      "\n",
      "Epoch 00020: LearningRateScheduler reducing learning rate to 0.001.\n",
      "478/478 [==============================] - 3s 6ms/step - loss: 0.1125 - val_loss: 0.1108\n",
      "\n",
      "Epoch 00020: val_loss did not improve from 0.10795\n",
      "Epoch 21/4000\n",
      "\n",
      "Epoch 00021: LearningRateScheduler reducing learning rate to 0.001.\n",
      "478/478 [==============================] - 3s 6ms/step - loss: 0.1125 - val_loss: 0.1111\n",
      "\n",
      "Epoch 00021: val_loss did not improve from 0.10795\n",
      "Epoch 22/4000\n",
      "\n",
      "Epoch 00022: LearningRateScheduler reducing learning rate to 0.001.\n",
      "478/478 [==============================] - 3s 6ms/step - loss: 0.1126 - val_loss: 0.1119\n",
      "\n",
      "Epoch 00022: val_loss did not improve from 0.10795\n"
     ]
    }
   ],
   "source": [
    "path_checkpoint = \"kerasModel/simpleModelCheckpoint.h5\"\n",
    "\n",
    "def scheduler(epoch, lr):\n",
    "    return 0.001\n",
    "    if lr > 0.004:\n",
    "        return lr - 0.0002\n",
    "    else:\n",
    "        if lr > 0.0004:\n",
    "            return lr - 0.000001\n",
    "        else:            \n",
    "            return 0.0001\n",
    "\n",
    "es_callback = keras.callbacks.EarlyStopping(monitor=\"val_loss\", min_delta=0, patience=10)\n",
    "\n",
    "lr_scheduler = keras.callbacks.LearningRateScheduler(scheduler, verbose=1)\n",
    "\n",
    "modelckpt_callback = keras.callbacks.ModelCheckpoint(\n",
    "    monitor=\"val_loss\",\n",
    "    filepath=path_checkpoint,\n",
    "    verbose=1,\n",
    "    save_weights_only=True,\n",
    "    save_best_only=True\n",
    ")\n",
    "\n",
    "epochs = 4000\n",
    "\n",
    "history = model.fit(\n",
    "    dataset_train,\n",
    "    epochs=epochs,\n",
    "    validation_data=dataset_val,\n",
    "    callbacks=[es_callback,modelckpt_callback, lr_scheduler]\n",
    ")"
   ]
  },
  {
   "cell_type": "code",
   "execution_count": 14,
   "metadata": {},
   "outputs": [
    {
     "output_type": "display_data",
     "data": {
      "text/plain": "<Figure size 432x288 with 1 Axes>",
      "image/svg+xml": "<?xml version=\"1.0\" encoding=\"utf-8\" standalone=\"no\"?>\r\n<!DOCTYPE svg PUBLIC \"-//W3C//DTD SVG 1.1//EN\"\r\n  \"http://www.w3.org/Graphics/SVG/1.1/DTD/svg11.dtd\">\r\n<svg height=\"277.314375pt\" version=\"1.1\" viewBox=\"0 0 385.78125 277.314375\" width=\"385.78125pt\" xmlns=\"http://www.w3.org/2000/svg\" xmlns:xlink=\"http://www.w3.org/1999/xlink\">\r\n <metadata>\r\n  <rdf:RDF xmlns:cc=\"http://creativecommons.org/ns#\" xmlns:dc=\"http://purl.org/dc/elements/1.1/\" xmlns:rdf=\"http://www.w3.org/1999/02/22-rdf-syntax-ns#\">\r\n   <cc:Work>\r\n    <dc:type rdf:resource=\"http://purl.org/dc/dcmitype/StillImage\"/>\r\n    <dc:date>2021-06-17T11:19:08.895094</dc:date>\r\n    <dc:format>image/svg+xml</dc:format>\r\n    <dc:creator>\r\n     <cc:Agent>\r\n      <dc:title>Matplotlib v3.4.2, https://matplotlib.org/</dc:title>\r\n     </cc:Agent>\r\n    </dc:creator>\r\n   </cc:Work>\r\n  </rdf:RDF>\r\n </metadata>\r\n <defs>\r\n  <style type=\"text/css\">*{stroke-linecap:butt;stroke-linejoin:round;}</style>\r\n </defs>\r\n <g id=\"figure_1\">\r\n  <g id=\"patch_1\">\r\n   <path d=\"M 0 277.314375 \r\nL 385.78125 277.314375 \r\nL 385.78125 0 \r\nL 0 0 \r\nz\r\n\" style=\"fill:none;\"/>\r\n  </g>\r\n  <g id=\"axes_1\">\r\n   <g id=\"patch_2\">\r\n    <path d=\"M 43.78125 239.758125 \r\nL 378.58125 239.758125 \r\nL 378.58125 22.318125 \r\nL 43.78125 22.318125 \r\nz\r\n\" style=\"fill:#ffffff;\"/>\r\n   </g>\r\n   <g id=\"matplotlib.axis_1\">\r\n    <g id=\"xtick_1\">\r\n     <g id=\"line2d_1\">\r\n      <defs>\r\n       <path d=\"M 0 0 \r\nL 0 3.5 \r\n\" id=\"m01db4f6ec3\" style=\"stroke:#000000;stroke-width:0.8;\"/>\r\n      </defs>\r\n      <g>\r\n       <use style=\"stroke:#000000;stroke-width:0.8;\" x=\"58.999432\" xlink:href=\"#m01db4f6ec3\" y=\"239.758125\"/>\r\n      </g>\r\n     </g>\r\n     <g id=\"text_1\">\r\n      <!-- 0 -->\r\n      <g transform=\"translate(55.818182 254.356562)scale(0.1 -0.1)\">\r\n       <defs>\r\n        <path d=\"M 2034 4250 \r\nQ 1547 4250 1301 3770 \r\nQ 1056 3291 1056 2328 \r\nQ 1056 1369 1301 889 \r\nQ 1547 409 2034 409 \r\nQ 2525 409 2770 889 \r\nQ 3016 1369 3016 2328 \r\nQ 3016 3291 2770 3770 \r\nQ 2525 4250 2034 4250 \r\nz\r\nM 2034 4750 \r\nQ 2819 4750 3233 4129 \r\nQ 3647 3509 3647 2328 \r\nQ 3647 1150 3233 529 \r\nQ 2819 -91 2034 -91 \r\nQ 1250 -91 836 529 \r\nQ 422 1150 422 2328 \r\nQ 422 3509 836 4129 \r\nQ 1250 4750 2034 4750 \r\nz\r\n\" id=\"DejaVuSans-30\" transform=\"scale(0.015625)\"/>\r\n       </defs>\r\n       <use xlink:href=\"#DejaVuSans-30\"/>\r\n      </g>\r\n     </g>\r\n    </g>\r\n    <g id=\"xtick_2\">\r\n     <g id=\"line2d_2\">\r\n      <g>\r\n       <use style=\"stroke:#000000;stroke-width:0.8;\" x=\"131.466964\" xlink:href=\"#m01db4f6ec3\" y=\"239.758125\"/>\r\n      </g>\r\n     </g>\r\n     <g id=\"text_2\">\r\n      <!-- 5 -->\r\n      <g transform=\"translate(128.285714 254.356562)scale(0.1 -0.1)\">\r\n       <defs>\r\n        <path d=\"M 691 4666 \r\nL 3169 4666 \r\nL 3169 4134 \r\nL 1269 4134 \r\nL 1269 2991 \r\nQ 1406 3038 1543 3061 \r\nQ 1681 3084 1819 3084 \r\nQ 2600 3084 3056 2656 \r\nQ 3513 2228 3513 1497 \r\nQ 3513 744 3044 326 \r\nQ 2575 -91 1722 -91 \r\nQ 1428 -91 1123 -41 \r\nQ 819 9 494 109 \r\nL 494 744 \r\nQ 775 591 1075 516 \r\nQ 1375 441 1709 441 \r\nQ 2250 441 2565 725 \r\nQ 2881 1009 2881 1497 \r\nQ 2881 1984 2565 2268 \r\nQ 2250 2553 1709 2553 \r\nQ 1456 2553 1204 2497 \r\nQ 953 2441 691 2322 \r\nL 691 4666 \r\nz\r\n\" id=\"DejaVuSans-35\" transform=\"scale(0.015625)\"/>\r\n       </defs>\r\n       <use xlink:href=\"#DejaVuSans-35\"/>\r\n      </g>\r\n     </g>\r\n    </g>\r\n    <g id=\"xtick_3\">\r\n     <g id=\"line2d_3\">\r\n      <g>\r\n       <use style=\"stroke:#000000;stroke-width:0.8;\" x=\"203.934497\" xlink:href=\"#m01db4f6ec3\" y=\"239.758125\"/>\r\n      </g>\r\n     </g>\r\n     <g id=\"text_3\">\r\n      <!-- 10 -->\r\n      <g transform=\"translate(197.571997 254.356562)scale(0.1 -0.1)\">\r\n       <defs>\r\n        <path d=\"M 794 531 \r\nL 1825 531 \r\nL 1825 4091 \r\nL 703 3866 \r\nL 703 4441 \r\nL 1819 4666 \r\nL 2450 4666 \r\nL 2450 531 \r\nL 3481 531 \r\nL 3481 0 \r\nL 794 0 \r\nL 794 531 \r\nz\r\n\" id=\"DejaVuSans-31\" transform=\"scale(0.015625)\"/>\r\n       </defs>\r\n       <use xlink:href=\"#DejaVuSans-31\"/>\r\n       <use x=\"63.623047\" xlink:href=\"#DejaVuSans-30\"/>\r\n      </g>\r\n     </g>\r\n    </g>\r\n    <g id=\"xtick_4\">\r\n     <g id=\"line2d_4\">\r\n      <g>\r\n       <use style=\"stroke:#000000;stroke-width:0.8;\" x=\"276.402029\" xlink:href=\"#m01db4f6ec3\" y=\"239.758125\"/>\r\n      </g>\r\n     </g>\r\n     <g id=\"text_4\">\r\n      <!-- 15 -->\r\n      <g transform=\"translate(270.039529 254.356562)scale(0.1 -0.1)\">\r\n       <use xlink:href=\"#DejaVuSans-31\"/>\r\n       <use x=\"63.623047\" xlink:href=\"#DejaVuSans-35\"/>\r\n      </g>\r\n     </g>\r\n    </g>\r\n    <g id=\"xtick_5\">\r\n     <g id=\"line2d_5\">\r\n      <g>\r\n       <use style=\"stroke:#000000;stroke-width:0.8;\" x=\"348.869562\" xlink:href=\"#m01db4f6ec3\" y=\"239.758125\"/>\r\n      </g>\r\n     </g>\r\n     <g id=\"text_5\">\r\n      <!-- 20 -->\r\n      <g transform=\"translate(342.507062 254.356562)scale(0.1 -0.1)\">\r\n       <defs>\r\n        <path d=\"M 1228 531 \r\nL 3431 531 \r\nL 3431 0 \r\nL 469 0 \r\nL 469 531 \r\nQ 828 903 1448 1529 \r\nQ 2069 2156 2228 2338 \r\nQ 2531 2678 2651 2914 \r\nQ 2772 3150 2772 3378 \r\nQ 2772 3750 2511 3984 \r\nQ 2250 4219 1831 4219 \r\nQ 1534 4219 1204 4116 \r\nQ 875 4013 500 3803 \r\nL 500 4441 \r\nQ 881 4594 1212 4672 \r\nQ 1544 4750 1819 4750 \r\nQ 2544 4750 2975 4387 \r\nQ 3406 4025 3406 3419 \r\nQ 3406 3131 3298 2873 \r\nQ 3191 2616 2906 2266 \r\nQ 2828 2175 2409 1742 \r\nQ 1991 1309 1228 531 \r\nz\r\n\" id=\"DejaVuSans-32\" transform=\"scale(0.015625)\"/>\r\n       </defs>\r\n       <use xlink:href=\"#DejaVuSans-32\"/>\r\n       <use x=\"63.623047\" xlink:href=\"#DejaVuSans-30\"/>\r\n      </g>\r\n     </g>\r\n    </g>\r\n    <g id=\"text_6\">\r\n     <!-- Epochs -->\r\n     <g transform=\"translate(193.265625 268.034687)scale(0.1 -0.1)\">\r\n      <defs>\r\n       <path d=\"M 628 4666 \r\nL 3578 4666 \r\nL 3578 4134 \r\nL 1259 4134 \r\nL 1259 2753 \r\nL 3481 2753 \r\nL 3481 2222 \r\nL 1259 2222 \r\nL 1259 531 \r\nL 3634 531 \r\nL 3634 0 \r\nL 628 0 \r\nL 628 4666 \r\nz\r\n\" id=\"DejaVuSans-45\" transform=\"scale(0.015625)\"/>\r\n       <path d=\"M 1159 525 \r\nL 1159 -1331 \r\nL 581 -1331 \r\nL 581 3500 \r\nL 1159 3500 \r\nL 1159 2969 \r\nQ 1341 3281 1617 3432 \r\nQ 1894 3584 2278 3584 \r\nQ 2916 3584 3314 3078 \r\nQ 3713 2572 3713 1747 \r\nQ 3713 922 3314 415 \r\nQ 2916 -91 2278 -91 \r\nQ 1894 -91 1617 61 \r\nQ 1341 213 1159 525 \r\nz\r\nM 3116 1747 \r\nQ 3116 2381 2855 2742 \r\nQ 2594 3103 2138 3103 \r\nQ 1681 3103 1420 2742 \r\nQ 1159 2381 1159 1747 \r\nQ 1159 1113 1420 752 \r\nQ 1681 391 2138 391 \r\nQ 2594 391 2855 752 \r\nQ 3116 1113 3116 1747 \r\nz\r\n\" id=\"DejaVuSans-70\" transform=\"scale(0.015625)\"/>\r\n       <path d=\"M 1959 3097 \r\nQ 1497 3097 1228 2736 \r\nQ 959 2375 959 1747 \r\nQ 959 1119 1226 758 \r\nQ 1494 397 1959 397 \r\nQ 2419 397 2687 759 \r\nQ 2956 1122 2956 1747 \r\nQ 2956 2369 2687 2733 \r\nQ 2419 3097 1959 3097 \r\nz\r\nM 1959 3584 \r\nQ 2709 3584 3137 3096 \r\nQ 3566 2609 3566 1747 \r\nQ 3566 888 3137 398 \r\nQ 2709 -91 1959 -91 \r\nQ 1206 -91 779 398 \r\nQ 353 888 353 1747 \r\nQ 353 2609 779 3096 \r\nQ 1206 3584 1959 3584 \r\nz\r\n\" id=\"DejaVuSans-6f\" transform=\"scale(0.015625)\"/>\r\n       <path d=\"M 3122 3366 \r\nL 3122 2828 \r\nQ 2878 2963 2633 3030 \r\nQ 2388 3097 2138 3097 \r\nQ 1578 3097 1268 2742 \r\nQ 959 2388 959 1747 \r\nQ 959 1106 1268 751 \r\nQ 1578 397 2138 397 \r\nQ 2388 397 2633 464 \r\nQ 2878 531 3122 666 \r\nL 3122 134 \r\nQ 2881 22 2623 -34 \r\nQ 2366 -91 2075 -91 \r\nQ 1284 -91 818 406 \r\nQ 353 903 353 1747 \r\nQ 353 2603 823 3093 \r\nQ 1294 3584 2113 3584 \r\nQ 2378 3584 2631 3529 \r\nQ 2884 3475 3122 3366 \r\nz\r\n\" id=\"DejaVuSans-63\" transform=\"scale(0.015625)\"/>\r\n       <path d=\"M 3513 2113 \r\nL 3513 0 \r\nL 2938 0 \r\nL 2938 2094 \r\nQ 2938 2591 2744 2837 \r\nQ 2550 3084 2163 3084 \r\nQ 1697 3084 1428 2787 \r\nQ 1159 2491 1159 1978 \r\nL 1159 0 \r\nL 581 0 \r\nL 581 4863 \r\nL 1159 4863 \r\nL 1159 2956 \r\nQ 1366 3272 1645 3428 \r\nQ 1925 3584 2291 3584 \r\nQ 2894 3584 3203 3211 \r\nQ 3513 2838 3513 2113 \r\nz\r\n\" id=\"DejaVuSans-68\" transform=\"scale(0.015625)\"/>\r\n       <path d=\"M 2834 3397 \r\nL 2834 2853 \r\nQ 2591 2978 2328 3040 \r\nQ 2066 3103 1784 3103 \r\nQ 1356 3103 1142 2972 \r\nQ 928 2841 928 2578 \r\nQ 928 2378 1081 2264 \r\nQ 1234 2150 1697 2047 \r\nL 1894 2003 \r\nQ 2506 1872 2764 1633 \r\nQ 3022 1394 3022 966 \r\nQ 3022 478 2636 193 \r\nQ 2250 -91 1575 -91 \r\nQ 1294 -91 989 -36 \r\nQ 684 19 347 128 \r\nL 347 722 \r\nQ 666 556 975 473 \r\nQ 1284 391 1588 391 \r\nQ 1994 391 2212 530 \r\nQ 2431 669 2431 922 \r\nQ 2431 1156 2273 1281 \r\nQ 2116 1406 1581 1522 \r\nL 1381 1569 \r\nQ 847 1681 609 1914 \r\nQ 372 2147 372 2553 \r\nQ 372 3047 722 3315 \r\nQ 1072 3584 1716 3584 \r\nQ 2034 3584 2315 3537 \r\nQ 2597 3491 2834 3397 \r\nz\r\n\" id=\"DejaVuSans-73\" transform=\"scale(0.015625)\"/>\r\n      </defs>\r\n      <use xlink:href=\"#DejaVuSans-45\"/>\r\n      <use x=\"63.183594\" xlink:href=\"#DejaVuSans-70\"/>\r\n      <use x=\"126.660156\" xlink:href=\"#DejaVuSans-6f\"/>\r\n      <use x=\"187.841797\" xlink:href=\"#DejaVuSans-63\"/>\r\n      <use x=\"242.822266\" xlink:href=\"#DejaVuSans-68\"/>\r\n      <use x=\"306.201172\" xlink:href=\"#DejaVuSans-73\"/>\r\n     </g>\r\n    </g>\r\n   </g>\r\n   <g id=\"matplotlib.axis_2\">\r\n    <g id=\"ytick_1\">\r\n     <g id=\"line2d_6\">\r\n      <defs>\r\n       <path d=\"M 0 0 \r\nL -3.5 0 \r\n\" id=\"m504b45b5f6\" style=\"stroke:#000000;stroke-width:0.8;\"/>\r\n      </defs>\r\n      <g>\r\n       <use style=\"stroke:#000000;stroke-width:0.8;\" x=\"43.78125\" xlink:href=\"#m504b45b5f6\" y=\"209.509762\"/>\r\n      </g>\r\n     </g>\r\n     <g id=\"text_7\">\r\n      <!-- 0.2 -->\r\n      <g transform=\"translate(20.878125 213.308981)scale(0.1 -0.1)\">\r\n       <defs>\r\n        <path d=\"M 684 794 \r\nL 1344 794 \r\nL 1344 0 \r\nL 684 0 \r\nL 684 794 \r\nz\r\n\" id=\"DejaVuSans-2e\" transform=\"scale(0.015625)\"/>\r\n       </defs>\r\n       <use xlink:href=\"#DejaVuSans-30\"/>\r\n       <use x=\"63.623047\" xlink:href=\"#DejaVuSans-2e\"/>\r\n       <use x=\"95.410156\" xlink:href=\"#DejaVuSans-32\"/>\r\n      </g>\r\n     </g>\r\n    </g>\r\n    <g id=\"ytick_2\">\r\n     <g id=\"line2d_7\">\r\n      <g>\r\n       <use style=\"stroke:#000000;stroke-width:0.8;\" x=\"43.78125\" xlink:href=\"#m504b45b5f6\" y=\"165.264279\"/>\r\n      </g>\r\n     </g>\r\n     <g id=\"text_8\">\r\n      <!-- 0.4 -->\r\n      <g transform=\"translate(20.878125 169.063498)scale(0.1 -0.1)\">\r\n       <defs>\r\n        <path d=\"M 2419 4116 \r\nL 825 1625 \r\nL 2419 1625 \r\nL 2419 4116 \r\nz\r\nM 2253 4666 \r\nL 3047 4666 \r\nL 3047 1625 \r\nL 3713 1625 \r\nL 3713 1100 \r\nL 3047 1100 \r\nL 3047 0 \r\nL 2419 0 \r\nL 2419 1100 \r\nL 313 1100 \r\nL 313 1709 \r\nL 2253 4666 \r\nz\r\n\" id=\"DejaVuSans-34\" transform=\"scale(0.015625)\"/>\r\n       </defs>\r\n       <use xlink:href=\"#DejaVuSans-30\"/>\r\n       <use x=\"63.623047\" xlink:href=\"#DejaVuSans-2e\"/>\r\n       <use x=\"95.410156\" xlink:href=\"#DejaVuSans-34\"/>\r\n      </g>\r\n     </g>\r\n    </g>\r\n    <g id=\"ytick_3\">\r\n     <g id=\"line2d_8\">\r\n      <g>\r\n       <use style=\"stroke:#000000;stroke-width:0.8;\" x=\"43.78125\" xlink:href=\"#m504b45b5f6\" y=\"121.018796\"/>\r\n      </g>\r\n     </g>\r\n     <g id=\"text_9\">\r\n      <!-- 0.6 -->\r\n      <g transform=\"translate(20.878125 124.818014)scale(0.1 -0.1)\">\r\n       <defs>\r\n        <path d=\"M 2113 2584 \r\nQ 1688 2584 1439 2293 \r\nQ 1191 2003 1191 1497 \r\nQ 1191 994 1439 701 \r\nQ 1688 409 2113 409 \r\nQ 2538 409 2786 701 \r\nQ 3034 994 3034 1497 \r\nQ 3034 2003 2786 2293 \r\nQ 2538 2584 2113 2584 \r\nz\r\nM 3366 4563 \r\nL 3366 3988 \r\nQ 3128 4100 2886 4159 \r\nQ 2644 4219 2406 4219 \r\nQ 1781 4219 1451 3797 \r\nQ 1122 3375 1075 2522 \r\nQ 1259 2794 1537 2939 \r\nQ 1816 3084 2150 3084 \r\nQ 2853 3084 3261 2657 \r\nQ 3669 2231 3669 1497 \r\nQ 3669 778 3244 343 \r\nQ 2819 -91 2113 -91 \r\nQ 1303 -91 875 529 \r\nQ 447 1150 447 2328 \r\nQ 447 3434 972 4092 \r\nQ 1497 4750 2381 4750 \r\nQ 2619 4750 2861 4703 \r\nQ 3103 4656 3366 4563 \r\nz\r\n\" id=\"DejaVuSans-36\" transform=\"scale(0.015625)\"/>\r\n       </defs>\r\n       <use xlink:href=\"#DejaVuSans-30\"/>\r\n       <use x=\"63.623047\" xlink:href=\"#DejaVuSans-2e\"/>\r\n       <use x=\"95.410156\" xlink:href=\"#DejaVuSans-36\"/>\r\n      </g>\r\n     </g>\r\n    </g>\r\n    <g id=\"ytick_4\">\r\n     <g id=\"line2d_9\">\r\n      <g>\r\n       <use style=\"stroke:#000000;stroke-width:0.8;\" x=\"43.78125\" xlink:href=\"#m504b45b5f6\" y=\"76.773312\"/>\r\n      </g>\r\n     </g>\r\n     <g id=\"text_10\">\r\n      <!-- 0.8 -->\r\n      <g transform=\"translate(20.878125 80.572531)scale(0.1 -0.1)\">\r\n       <defs>\r\n        <path d=\"M 2034 2216 \r\nQ 1584 2216 1326 1975 \r\nQ 1069 1734 1069 1313 \r\nQ 1069 891 1326 650 \r\nQ 1584 409 2034 409 \r\nQ 2484 409 2743 651 \r\nQ 3003 894 3003 1313 \r\nQ 3003 1734 2745 1975 \r\nQ 2488 2216 2034 2216 \r\nz\r\nM 1403 2484 \r\nQ 997 2584 770 2862 \r\nQ 544 3141 544 3541 \r\nQ 544 4100 942 4425 \r\nQ 1341 4750 2034 4750 \r\nQ 2731 4750 3128 4425 \r\nQ 3525 4100 3525 3541 \r\nQ 3525 3141 3298 2862 \r\nQ 3072 2584 2669 2484 \r\nQ 3125 2378 3379 2068 \r\nQ 3634 1759 3634 1313 \r\nQ 3634 634 3220 271 \r\nQ 2806 -91 2034 -91 \r\nQ 1263 -91 848 271 \r\nQ 434 634 434 1313 \r\nQ 434 1759 690 2068 \r\nQ 947 2378 1403 2484 \r\nz\r\nM 1172 3481 \r\nQ 1172 3119 1398 2916 \r\nQ 1625 2713 2034 2713 \r\nQ 2441 2713 2670 2916 \r\nQ 2900 3119 2900 3481 \r\nQ 2900 3844 2670 4047 \r\nQ 2441 4250 2034 4250 \r\nQ 1625 4250 1398 4047 \r\nQ 1172 3844 1172 3481 \r\nz\r\n\" id=\"DejaVuSans-38\" transform=\"scale(0.015625)\"/>\r\n       </defs>\r\n       <use xlink:href=\"#DejaVuSans-30\"/>\r\n       <use x=\"63.623047\" xlink:href=\"#DejaVuSans-2e\"/>\r\n       <use x=\"95.410156\" xlink:href=\"#DejaVuSans-38\"/>\r\n      </g>\r\n     </g>\r\n    </g>\r\n    <g id=\"ytick_5\">\r\n     <g id=\"line2d_10\">\r\n      <g>\r\n       <use style=\"stroke:#000000;stroke-width:0.8;\" x=\"43.78125\" xlink:href=\"#m504b45b5f6\" y=\"32.527829\"/>\r\n      </g>\r\n     </g>\r\n     <g id=\"text_11\">\r\n      <!-- 1.0 -->\r\n      <g transform=\"translate(20.878125 36.327048)scale(0.1 -0.1)\">\r\n       <use xlink:href=\"#DejaVuSans-31\"/>\r\n       <use x=\"63.623047\" xlink:href=\"#DejaVuSans-2e\"/>\r\n       <use x=\"95.410156\" xlink:href=\"#DejaVuSans-30\"/>\r\n      </g>\r\n     </g>\r\n    </g>\r\n    <g id=\"text_12\">\r\n     <!-- Loss -->\r\n     <g transform=\"translate(14.798438 142.005312)rotate(-90)scale(0.1 -0.1)\">\r\n      <defs>\r\n       <path d=\"M 628 4666 \r\nL 1259 4666 \r\nL 1259 531 \r\nL 3531 531 \r\nL 3531 0 \r\nL 628 0 \r\nL 628 4666 \r\nz\r\n\" id=\"DejaVuSans-4c\" transform=\"scale(0.015625)\"/>\r\n      </defs>\r\n      <use xlink:href=\"#DejaVuSans-4c\"/>\r\n      <use x=\"53.962891\" xlink:href=\"#DejaVuSans-6f\"/>\r\n      <use x=\"115.144531\" xlink:href=\"#DejaVuSans-73\"/>\r\n      <use x=\"167.244141\" xlink:href=\"#DejaVuSans-73\"/>\r\n     </g>\r\n    </g>\r\n   </g>\r\n   <g id=\"line2d_11\">\r\n    <path clip-path=\"url(#p7cc6aefaeb)\" d=\"M 58.999432 32.201761 \r\nL 73.492938 32.582644 \r\nL 87.986445 33.041642 \r\nL 102.479951 37.168838 \r\nL 116.973458 162.309709 \r\nL 131.466964 220.294123 \r\nL 145.960471 226.333376 \r\nL 160.453977 227.019687 \r\nL 174.947484 227.863931 \r\nL 189.44099 227.984782 \r\nL 203.934497 228.166527 \r\nL 218.428003 228.193826 \r\nL 232.92151 228.163003 \r\nL 247.415016 228.186934 \r\nL 261.908523 228.42568 \r\nL 276.402029 228.654342 \r\nL 290.895536 228.744959 \r\nL 305.389042 228.793884 \r\nL 319.882549 228.835546 \r\nL 334.376055 228.861015 \r\nL 348.869562 228.866483 \r\nL 363.363068 228.848742 \r\n\" style=\"fill:none;stroke:#0000ff;stroke-linecap:square;stroke-width:1.5;\"/>\r\n   </g>\r\n   <g id=\"line2d_12\">\r\n    <path clip-path=\"url(#p7cc6aefaeb)\" d=\"M 58.999432 50.696752 \r\nL 73.492938 50.913375 \r\nL 87.986445 51.776951 \r\nL 102.479951 66.759816 \r\nL 116.973458 218.969779 \r\nL 131.466964 227.584525 \r\nL 145.960471 228.792408 \r\nL 160.453977 229.141222 \r\nL 174.947484 229.607139 \r\nL 189.44099 229.747245 \r\nL 203.934497 229.857757 \r\nL 218.428003 229.874489 \r\nL 232.92151 229.586545 \r\nL 247.415016 228.926574 \r\nL 261.908523 229.000411 \r\nL 276.402029 229.213704 \r\nL 290.895536 229.242696 \r\nL 305.389042 229.261086 \r\nL 319.882549 229.27234 \r\nL 334.376055 229.247522 \r\nL 348.869562 229.166282 \r\nL 363.363068 228.992758 \r\n\" style=\"fill:none;stroke:#ff0000;stroke-linecap:square;stroke-width:1.5;\"/>\r\n   </g>\r\n   <g id=\"patch_3\">\r\n    <path d=\"M 43.78125 239.758125 \r\nL 43.78125 22.318125 \r\n\" style=\"fill:none;stroke:#000000;stroke-linecap:square;stroke-linejoin:miter;stroke-width:0.8;\"/>\r\n   </g>\r\n   <g id=\"patch_4\">\r\n    <path d=\"M 378.58125 239.758125 \r\nL 378.58125 22.318125 \r\n\" style=\"fill:none;stroke:#000000;stroke-linecap:square;stroke-linejoin:miter;stroke-width:0.8;\"/>\r\n   </g>\r\n   <g id=\"patch_5\">\r\n    <path d=\"M 43.78125 239.758125 \r\nL 378.58125 239.758125 \r\n\" style=\"fill:none;stroke:#000000;stroke-linecap:square;stroke-linejoin:miter;stroke-width:0.8;\"/>\r\n   </g>\r\n   <g id=\"patch_6\">\r\n    <path d=\"M 43.78125 22.318125 \r\nL 378.58125 22.318125 \r\n\" style=\"fill:none;stroke:#000000;stroke-linecap:square;stroke-linejoin:miter;stroke-width:0.8;\"/>\r\n   </g>\r\n   <g id=\"text_13\">\r\n    <!-- Training and Validation loss -->\r\n    <g transform=\"translate(129.283125 16.318125)scale(0.12 -0.12)\">\r\n     <defs>\r\n      <path d=\"M -19 4666 \r\nL 3928 4666 \r\nL 3928 4134 \r\nL 2272 4134 \r\nL 2272 0 \r\nL 1638 0 \r\nL 1638 4134 \r\nL -19 4134 \r\nL -19 4666 \r\nz\r\n\" id=\"DejaVuSans-54\" transform=\"scale(0.015625)\"/>\r\n      <path d=\"M 2631 2963 \r\nQ 2534 3019 2420 3045 \r\nQ 2306 3072 2169 3072 \r\nQ 1681 3072 1420 2755 \r\nQ 1159 2438 1159 1844 \r\nL 1159 0 \r\nL 581 0 \r\nL 581 3500 \r\nL 1159 3500 \r\nL 1159 2956 \r\nQ 1341 3275 1631 3429 \r\nQ 1922 3584 2338 3584 \r\nQ 2397 3584 2469 3576 \r\nQ 2541 3569 2628 3553 \r\nL 2631 2963 \r\nz\r\n\" id=\"DejaVuSans-72\" transform=\"scale(0.015625)\"/>\r\n      <path d=\"M 2194 1759 \r\nQ 1497 1759 1228 1600 \r\nQ 959 1441 959 1056 \r\nQ 959 750 1161 570 \r\nQ 1363 391 1709 391 \r\nQ 2188 391 2477 730 \r\nQ 2766 1069 2766 1631 \r\nL 2766 1759 \r\nL 2194 1759 \r\nz\r\nM 3341 1997 \r\nL 3341 0 \r\nL 2766 0 \r\nL 2766 531 \r\nQ 2569 213 2275 61 \r\nQ 1981 -91 1556 -91 \r\nQ 1019 -91 701 211 \r\nQ 384 513 384 1019 \r\nQ 384 1609 779 1909 \r\nQ 1175 2209 1959 2209 \r\nL 2766 2209 \r\nL 2766 2266 \r\nQ 2766 2663 2505 2880 \r\nQ 2244 3097 1772 3097 \r\nQ 1472 3097 1187 3025 \r\nQ 903 2953 641 2809 \r\nL 641 3341 \r\nQ 956 3463 1253 3523 \r\nQ 1550 3584 1831 3584 \r\nQ 2591 3584 2966 3190 \r\nQ 3341 2797 3341 1997 \r\nz\r\n\" id=\"DejaVuSans-61\" transform=\"scale(0.015625)\"/>\r\n      <path d=\"M 603 3500 \r\nL 1178 3500 \r\nL 1178 0 \r\nL 603 0 \r\nL 603 3500 \r\nz\r\nM 603 4863 \r\nL 1178 4863 \r\nL 1178 4134 \r\nL 603 4134 \r\nL 603 4863 \r\nz\r\n\" id=\"DejaVuSans-69\" transform=\"scale(0.015625)\"/>\r\n      <path d=\"M 3513 2113 \r\nL 3513 0 \r\nL 2938 0 \r\nL 2938 2094 \r\nQ 2938 2591 2744 2837 \r\nQ 2550 3084 2163 3084 \r\nQ 1697 3084 1428 2787 \r\nQ 1159 2491 1159 1978 \r\nL 1159 0 \r\nL 581 0 \r\nL 581 3500 \r\nL 1159 3500 \r\nL 1159 2956 \r\nQ 1366 3272 1645 3428 \r\nQ 1925 3584 2291 3584 \r\nQ 2894 3584 3203 3211 \r\nQ 3513 2838 3513 2113 \r\nz\r\n\" id=\"DejaVuSans-6e\" transform=\"scale(0.015625)\"/>\r\n      <path d=\"M 2906 1791 \r\nQ 2906 2416 2648 2759 \r\nQ 2391 3103 1925 3103 \r\nQ 1463 3103 1205 2759 \r\nQ 947 2416 947 1791 \r\nQ 947 1169 1205 825 \r\nQ 1463 481 1925 481 \r\nQ 2391 481 2648 825 \r\nQ 2906 1169 2906 1791 \r\nz\r\nM 3481 434 \r\nQ 3481 -459 3084 -895 \r\nQ 2688 -1331 1869 -1331 \r\nQ 1566 -1331 1297 -1286 \r\nQ 1028 -1241 775 -1147 \r\nL 775 -588 \r\nQ 1028 -725 1275 -790 \r\nQ 1522 -856 1778 -856 \r\nQ 2344 -856 2625 -561 \r\nQ 2906 -266 2906 331 \r\nL 2906 616 \r\nQ 2728 306 2450 153 \r\nQ 2172 0 1784 0 \r\nQ 1141 0 747 490 \r\nQ 353 981 353 1791 \r\nQ 353 2603 747 3093 \r\nQ 1141 3584 1784 3584 \r\nQ 2172 3584 2450 3431 \r\nQ 2728 3278 2906 2969 \r\nL 2906 3500 \r\nL 3481 3500 \r\nL 3481 434 \r\nz\r\n\" id=\"DejaVuSans-67\" transform=\"scale(0.015625)\"/>\r\n      <path id=\"DejaVuSans-20\" transform=\"scale(0.015625)\"/>\r\n      <path d=\"M 2906 2969 \r\nL 2906 4863 \r\nL 3481 4863 \r\nL 3481 0 \r\nL 2906 0 \r\nL 2906 525 \r\nQ 2725 213 2448 61 \r\nQ 2172 -91 1784 -91 \r\nQ 1150 -91 751 415 \r\nQ 353 922 353 1747 \r\nQ 353 2572 751 3078 \r\nQ 1150 3584 1784 3584 \r\nQ 2172 3584 2448 3432 \r\nQ 2725 3281 2906 2969 \r\nz\r\nM 947 1747 \r\nQ 947 1113 1208 752 \r\nQ 1469 391 1925 391 \r\nQ 2381 391 2643 752 \r\nQ 2906 1113 2906 1747 \r\nQ 2906 2381 2643 2742 \r\nQ 2381 3103 1925 3103 \r\nQ 1469 3103 1208 2742 \r\nQ 947 2381 947 1747 \r\nz\r\n\" id=\"DejaVuSans-64\" transform=\"scale(0.015625)\"/>\r\n      <path d=\"M 1831 0 \r\nL 50 4666 \r\nL 709 4666 \r\nL 2188 738 \r\nL 3669 4666 \r\nL 4325 4666 \r\nL 2547 0 \r\nL 1831 0 \r\nz\r\n\" id=\"DejaVuSans-56\" transform=\"scale(0.015625)\"/>\r\n      <path d=\"M 603 4863 \r\nL 1178 4863 \r\nL 1178 0 \r\nL 603 0 \r\nL 603 4863 \r\nz\r\n\" id=\"DejaVuSans-6c\" transform=\"scale(0.015625)\"/>\r\n      <path d=\"M 1172 4494 \r\nL 1172 3500 \r\nL 2356 3500 \r\nL 2356 3053 \r\nL 1172 3053 \r\nL 1172 1153 \r\nQ 1172 725 1289 603 \r\nQ 1406 481 1766 481 \r\nL 2356 481 \r\nL 2356 0 \r\nL 1766 0 \r\nQ 1100 0 847 248 \r\nQ 594 497 594 1153 \r\nL 594 3053 \r\nL 172 3053 \r\nL 172 3500 \r\nL 594 3500 \r\nL 594 4494 \r\nL 1172 4494 \r\nz\r\n\" id=\"DejaVuSans-74\" transform=\"scale(0.015625)\"/>\r\n     </defs>\r\n     <use xlink:href=\"#DejaVuSans-54\"/>\r\n     <use x=\"46.333984\" xlink:href=\"#DejaVuSans-72\"/>\r\n     <use x=\"87.447266\" xlink:href=\"#DejaVuSans-61\"/>\r\n     <use x=\"148.726562\" xlink:href=\"#DejaVuSans-69\"/>\r\n     <use x=\"176.509766\" xlink:href=\"#DejaVuSans-6e\"/>\r\n     <use x=\"239.888672\" xlink:href=\"#DejaVuSans-69\"/>\r\n     <use x=\"267.671875\" xlink:href=\"#DejaVuSans-6e\"/>\r\n     <use x=\"331.050781\" xlink:href=\"#DejaVuSans-67\"/>\r\n     <use x=\"394.527344\" xlink:href=\"#DejaVuSans-20\"/>\r\n     <use x=\"426.314453\" xlink:href=\"#DejaVuSans-61\"/>\r\n     <use x=\"487.59375\" xlink:href=\"#DejaVuSans-6e\"/>\r\n     <use x=\"550.972656\" xlink:href=\"#DejaVuSans-64\"/>\r\n     <use x=\"614.449219\" xlink:href=\"#DejaVuSans-20\"/>\r\n     <use x=\"646.236328\" xlink:href=\"#DejaVuSans-56\"/>\r\n     <use x=\"706.894531\" xlink:href=\"#DejaVuSans-61\"/>\r\n     <use x=\"768.173828\" xlink:href=\"#DejaVuSans-6c\"/>\r\n     <use x=\"795.957031\" xlink:href=\"#DejaVuSans-69\"/>\r\n     <use x=\"823.740234\" xlink:href=\"#DejaVuSans-64\"/>\r\n     <use x=\"887.216797\" xlink:href=\"#DejaVuSans-61\"/>\r\n     <use x=\"948.496094\" xlink:href=\"#DejaVuSans-74\"/>\r\n     <use x=\"987.705078\" xlink:href=\"#DejaVuSans-69\"/>\r\n     <use x=\"1015.488281\" xlink:href=\"#DejaVuSans-6f\"/>\r\n     <use x=\"1076.669922\" xlink:href=\"#DejaVuSans-6e\"/>\r\n     <use x=\"1140.048828\" xlink:href=\"#DejaVuSans-20\"/>\r\n     <use x=\"1171.835938\" xlink:href=\"#DejaVuSans-6c\"/>\r\n     <use x=\"1199.619141\" xlink:href=\"#DejaVuSans-6f\"/>\r\n     <use x=\"1260.800781\" xlink:href=\"#DejaVuSans-73\"/>\r\n     <use x=\"1312.900391\" xlink:href=\"#DejaVuSans-73\"/>\r\n    </g>\r\n   </g>\r\n   <g id=\"legend_1\">\r\n    <g id=\"patch_7\">\r\n     <path d=\"M 267.70625 59.674375 \r\nL 371.58125 59.674375 \r\nQ 373.58125 59.674375 373.58125 57.674375 \r\nL 373.58125 29.318125 \r\nQ 373.58125 27.318125 371.58125 27.318125 \r\nL 267.70625 27.318125 \r\nQ 265.70625 27.318125 265.70625 29.318125 \r\nL 265.70625 57.674375 \r\nQ 265.70625 59.674375 267.70625 59.674375 \r\nz\r\n\" style=\"fill:#ffffff;opacity:0.8;stroke:#cccccc;stroke-linejoin:miter;\"/>\r\n    </g>\r\n    <g id=\"line2d_13\">\r\n     <path d=\"M 269.70625 35.416562 \r\nL 289.70625 35.416562 \r\n\" style=\"fill:none;stroke:#0000ff;stroke-linecap:square;stroke-width:1.5;\"/>\r\n    </g>\r\n    <g id=\"line2d_14\"/>\r\n    <g id=\"text_14\">\r\n     <!-- Training loss -->\r\n     <g transform=\"translate(297.70625 38.916562)scale(0.1 -0.1)\">\r\n      <use xlink:href=\"#DejaVuSans-54\"/>\r\n      <use x=\"46.333984\" xlink:href=\"#DejaVuSans-72\"/>\r\n      <use x=\"87.447266\" xlink:href=\"#DejaVuSans-61\"/>\r\n      <use x=\"148.726562\" xlink:href=\"#DejaVuSans-69\"/>\r\n      <use x=\"176.509766\" xlink:href=\"#DejaVuSans-6e\"/>\r\n      <use x=\"239.888672\" xlink:href=\"#DejaVuSans-69\"/>\r\n      <use x=\"267.671875\" xlink:href=\"#DejaVuSans-6e\"/>\r\n      <use x=\"331.050781\" xlink:href=\"#DejaVuSans-67\"/>\r\n      <use x=\"394.527344\" xlink:href=\"#DejaVuSans-20\"/>\r\n      <use x=\"426.314453\" xlink:href=\"#DejaVuSans-6c\"/>\r\n      <use x=\"454.097656\" xlink:href=\"#DejaVuSans-6f\"/>\r\n      <use x=\"515.279297\" xlink:href=\"#DejaVuSans-73\"/>\r\n      <use x=\"567.378906\" xlink:href=\"#DejaVuSans-73\"/>\r\n     </g>\r\n    </g>\r\n    <g id=\"line2d_15\">\r\n     <path d=\"M 269.70625 50.094687 \r\nL 289.70625 50.094687 \r\n\" style=\"fill:none;stroke:#ff0000;stroke-linecap:square;stroke-width:1.5;\"/>\r\n    </g>\r\n    <g id=\"line2d_16\"/>\r\n    <g id=\"text_15\">\r\n     <!-- Validation loss -->\r\n     <g transform=\"translate(297.70625 53.594687)scale(0.1 -0.1)\">\r\n      <use xlink:href=\"#DejaVuSans-56\"/>\r\n      <use x=\"60.658203\" xlink:href=\"#DejaVuSans-61\"/>\r\n      <use x=\"121.9375\" xlink:href=\"#DejaVuSans-6c\"/>\r\n      <use x=\"149.720703\" xlink:href=\"#DejaVuSans-69\"/>\r\n      <use x=\"177.503906\" xlink:href=\"#DejaVuSans-64\"/>\r\n      <use x=\"240.980469\" xlink:href=\"#DejaVuSans-61\"/>\r\n      <use x=\"302.259766\" xlink:href=\"#DejaVuSans-74\"/>\r\n      <use x=\"341.46875\" xlink:href=\"#DejaVuSans-69\"/>\r\n      <use x=\"369.251953\" xlink:href=\"#DejaVuSans-6f\"/>\r\n      <use x=\"430.433594\" xlink:href=\"#DejaVuSans-6e\"/>\r\n      <use x=\"493.8125\" xlink:href=\"#DejaVuSans-20\"/>\r\n      <use x=\"525.599609\" xlink:href=\"#DejaVuSans-6c\"/>\r\n      <use x=\"553.382812\" xlink:href=\"#DejaVuSans-6f\"/>\r\n      <use x=\"614.564453\" xlink:href=\"#DejaVuSans-73\"/>\r\n      <use x=\"666.664062\" xlink:href=\"#DejaVuSans-73\"/>\r\n     </g>\r\n    </g>\r\n   </g>\r\n  </g>\r\n </g>\r\n <defs>\r\n  <clipPath id=\"p7cc6aefaeb\">\r\n   <rect height=\"217.44\" width=\"334.8\" x=\"43.78125\" y=\"22.318125\"/>\r\n  </clipPath>\r\n </defs>\r\n</svg>\r\n",
      "image/png": "[encoded data removed]"
     },
     "metadata": {
      "needs_background": "light"
     }
    }
   ],
   "source": [
    "def visualize_loss(history, title):\n",
    "    loss = history.history[\"loss\"]\n",
    "    val_loss = history.history[\"val_loss\"]\n",
    "    epochs = range(len(loss))\n",
    "    plt.figure()\n",
    "    plt.plot(epochs, loss, \"b\", label=\"Training loss\")\n",
    "    plt.plot(epochs, val_loss, \"r\", label=\"Validation loss\")\n",
    "    plt.title(title)\n",
    "    plt.xlabel(\"Epochs\")\n",
    "    plt.ylabel(\"Loss\")\n",
    "    plt.legend()\n",
    "    plt.show()\n",
    "    \n",
    "visualize_loss(history, \"Training and Validation loss\")"
   ]
  },
  {
   "cell_type": "code",
   "execution_count": 15,
   "metadata": {},
   "outputs": [
    {
     "output_type": "display_data",
     "data": {
      "text/plain": "<Figure size 432x288 with 1 Axes>",
      "image/svg+xml": "<?xml version=\"1.0\" encoding=\"utf-8\" standalone=\"no\"?>\r\n<!DOCTYPE svg PUBLIC \"-//W3C//DTD SVG 1.1//EN\"\r\n  \"http://www.w3.org/Graphics/SVG/1.1/DTD/svg11.dtd\">\r\n<svg height=\"277.314375pt\" version=\"1.1\" viewBox=\"0 0 393.207812 277.314375\" width=\"393.207812pt\" xmlns=\"http://www.w3.org/2000/svg\" xmlns:xlink=\"http://www.w3.org/1999/xlink\">\r\n <metadata>\r\n  <rdf:RDF xmlns:cc=\"http://creativecommons.org/ns#\" xmlns:dc=\"http://purl.org/dc/elements/1.1/\" xmlns:rdf=\"http://www.w3.org/1999/02/22-rdf-syntax-ns#\">\r\n   <cc:Work>\r\n    <dc:type rdf:resource=\"http://purl.org/dc/dcmitype/StillImage\"/>\r\n    <dc:date>2021-06-17T11:19:15.447207</dc:date>\r\n    <dc:format>image/svg+xml</dc:format>\r\n    <dc:creator>\r\n     <cc:Agent>\r\n      <dc:title>Matplotlib v3.4.2, https://matplotlib.org/</dc:title>\r\n     </cc:Agent>\r\n    </dc:creator>\r\n   </cc:Work>\r\n  </rdf:RDF>\r\n </metadata>\r\n <defs>\r\n  <style type=\"text/css\">*{stroke-linecap:butt;stroke-linejoin:round;}</style>\r\n </defs>\r\n <g id=\"figure_1\">\r\n  <g id=\"patch_1\">\r\n   <path d=\"M 0 277.314375 \r\nL 393.207812 277.314375 \r\nL 393.207812 0 \r\nL 0 0 \r\nz\r\n\" style=\"fill:none;\"/>\r\n  </g>\r\n  <g id=\"axes_1\">\r\n   <g id=\"patch_2\">\r\n    <path d=\"M 44.845313 239.758125 \r\nL 379.645313 239.758125 \r\nL 379.645313 22.318125 \r\nL 44.845313 22.318125 \r\nz\r\n\" style=\"fill:#ffffff;\"/>\r\n   </g>\r\n   <g id=\"matplotlib.axis_1\">\r\n    <g id=\"xtick_1\">\r\n     <g id=\"line2d_1\">\r\n      <defs>\r\n       <path d=\"M 0 0 \r\nL 0 3.5 \r\n\" id=\"mbc85a7afdb\" style=\"stroke:#000000;stroke-width:0.8;\"/>\r\n      </defs>\r\n      <g>\r\n       <use style=\"stroke:#000000;stroke-width:0.8;\" x=\"70.599159\" xlink:href=\"#mbc85a7afdb\" y=\"239.758125\"/>\r\n      </g>\r\n     </g>\r\n     <g id=\"text_1\">\r\n      <!-- 0 -->\r\n      <g transform=\"translate(67.417909 254.356562)scale(0.1 -0.1)\">\r\n       <defs>\r\n        <path d=\"M 2034 4250 \r\nQ 1547 4250 1301 3770 \r\nQ 1056 3291 1056 2328 \r\nQ 1056 1369 1301 889 \r\nQ 1547 409 2034 409 \r\nQ 2525 409 2770 889 \r\nQ 3016 1369 3016 2328 \r\nQ 3016 3291 2770 3770 \r\nQ 2525 4250 2034 4250 \r\nz\r\nM 2034 4750 \r\nQ 2819 4750 3233 4129 \r\nQ 3647 3509 3647 2328 \r\nQ 3647 1150 3233 529 \r\nQ 2819 -91 2034 -91 \r\nQ 1250 -91 836 529 \r\nQ 422 1150 422 2328 \r\nQ 422 3509 836 4129 \r\nQ 1250 4750 2034 4750 \r\nz\r\n\" id=\"DejaVuSans-30\" transform=\"scale(0.015625)\"/>\r\n       </defs>\r\n       <use xlink:href=\"#DejaVuSans-30\"/>\r\n      </g>\r\n     </g>\r\n    </g>\r\n    <g id=\"xtick_2\">\r\n     <g id=\"line2d_2\">\r\n      <g>\r\n       <use style=\"stroke:#000000;stroke-width:0.8;\" x=\"122.106851\" xlink:href=\"#mbc85a7afdb\" y=\"239.758125\"/>\r\n      </g>\r\n     </g>\r\n     <g id=\"text_2\">\r\n      <!-- 2 -->\r\n      <g transform=\"translate(118.925601 254.356562)scale(0.1 -0.1)\">\r\n       <defs>\r\n        <path d=\"M 1228 531 \r\nL 3431 531 \r\nL 3431 0 \r\nL 469 0 \r\nL 469 531 \r\nQ 828 903 1448 1529 \r\nQ 2069 2156 2228 2338 \r\nQ 2531 2678 2651 2914 \r\nQ 2772 3150 2772 3378 \r\nQ 2772 3750 2511 3984 \r\nQ 2250 4219 1831 4219 \r\nQ 1534 4219 1204 4116 \r\nQ 875 4013 500 3803 \r\nL 500 4441 \r\nQ 881 4594 1212 4672 \r\nQ 1544 4750 1819 4750 \r\nQ 2544 4750 2975 4387 \r\nQ 3406 4025 3406 3419 \r\nQ 3406 3131 3298 2873 \r\nQ 3191 2616 2906 2266 \r\nQ 2828 2175 2409 1742 \r\nQ 1991 1309 1228 531 \r\nz\r\n\" id=\"DejaVuSans-32\" transform=\"scale(0.015625)\"/>\r\n       </defs>\r\n       <use xlink:href=\"#DejaVuSans-32\"/>\r\n      </g>\r\n     </g>\r\n    </g>\r\n    <g id=\"xtick_3\">\r\n     <g id=\"line2d_3\">\r\n      <g>\r\n       <use style=\"stroke:#000000;stroke-width:0.8;\" x=\"173.614543\" xlink:href=\"#mbc85a7afdb\" y=\"239.758125\"/>\r\n      </g>\r\n     </g>\r\n     <g id=\"text_3\">\r\n      <!-- 4 -->\r\n      <g transform=\"translate(170.433293 254.356562)scale(0.1 -0.1)\">\r\n       <defs>\r\n        <path d=\"M 2419 4116 \r\nL 825 1625 \r\nL 2419 1625 \r\nL 2419 4116 \r\nz\r\nM 2253 4666 \r\nL 3047 4666 \r\nL 3047 1625 \r\nL 3713 1625 \r\nL 3713 1100 \r\nL 3047 1100 \r\nL 3047 0 \r\nL 2419 0 \r\nL 2419 1100 \r\nL 313 1100 \r\nL 313 1709 \r\nL 2253 4666 \r\nz\r\n\" id=\"DejaVuSans-34\" transform=\"scale(0.015625)\"/>\r\n       </defs>\r\n       <use xlink:href=\"#DejaVuSans-34\"/>\r\n      </g>\r\n     </g>\r\n    </g>\r\n    <g id=\"xtick_4\">\r\n     <g id=\"line2d_4\">\r\n      <g>\r\n       <use style=\"stroke:#000000;stroke-width:0.8;\" x=\"225.122236\" xlink:href=\"#mbc85a7afdb\" y=\"239.758125\"/>\r\n      </g>\r\n     </g>\r\n     <g id=\"text_4\">\r\n      <!-- 6 -->\r\n      <g transform=\"translate(221.940986 254.356562)scale(0.1 -0.1)\">\r\n       <defs>\r\n        <path d=\"M 2113 2584 \r\nQ 1688 2584 1439 2293 \r\nQ 1191 2003 1191 1497 \r\nQ 1191 994 1439 701 \r\nQ 1688 409 2113 409 \r\nQ 2538 409 2786 701 \r\nQ 3034 994 3034 1497 \r\nQ 3034 2003 2786 2293 \r\nQ 2538 2584 2113 2584 \r\nz\r\nM 3366 4563 \r\nL 3366 3988 \r\nQ 3128 4100 2886 4159 \r\nQ 2644 4219 2406 4219 \r\nQ 1781 4219 1451 3797 \r\nQ 1122 3375 1075 2522 \r\nQ 1259 2794 1537 2939 \r\nQ 1816 3084 2150 3084 \r\nQ 2853 3084 3261 2657 \r\nQ 3669 2231 3669 1497 \r\nQ 3669 778 3244 343 \r\nQ 2819 -91 2113 -91 \r\nQ 1303 -91 875 529 \r\nQ 447 1150 447 2328 \r\nQ 447 3434 972 4092 \r\nQ 1497 4750 2381 4750 \r\nQ 2619 4750 2861 4703 \r\nQ 3103 4656 3366 4563 \r\nz\r\n\" id=\"DejaVuSans-36\" transform=\"scale(0.015625)\"/>\r\n       </defs>\r\n       <use xlink:href=\"#DejaVuSans-36\"/>\r\n      </g>\r\n     </g>\r\n    </g>\r\n    <g id=\"xtick_5\">\r\n     <g id=\"line2d_5\">\r\n      <g>\r\n       <use style=\"stroke:#000000;stroke-width:0.8;\" x=\"276.629928\" xlink:href=\"#mbc85a7afdb\" y=\"239.758125\"/>\r\n      </g>\r\n     </g>\r\n     <g id=\"text_5\">\r\n      <!-- 8 -->\r\n      <g transform=\"translate(273.448678 254.356562)scale(0.1 -0.1)\">\r\n       <defs>\r\n        <path d=\"M 2034 2216 \r\nQ 1584 2216 1326 1975 \r\nQ 1069 1734 1069 1313 \r\nQ 1069 891 1326 650 \r\nQ 1584 409 2034 409 \r\nQ 2484 409 2743 651 \r\nQ 3003 894 3003 1313 \r\nQ 3003 1734 2745 1975 \r\nQ 2488 2216 2034 2216 \r\nz\r\nM 1403 2484 \r\nQ 997 2584 770 2862 \r\nQ 544 3141 544 3541 \r\nQ 544 4100 942 4425 \r\nQ 1341 4750 2034 4750 \r\nQ 2731 4750 3128 4425 \r\nQ 3525 4100 3525 3541 \r\nQ 3525 3141 3298 2862 \r\nQ 3072 2584 2669 2484 \r\nQ 3125 2378 3379 2068 \r\nQ 3634 1759 3634 1313 \r\nQ 3634 634 3220 271 \r\nQ 2806 -91 2034 -91 \r\nQ 1263 -91 848 271 \r\nQ 434 634 434 1313 \r\nQ 434 1759 690 2068 \r\nQ 947 2378 1403 2484 \r\nz\r\nM 1172 3481 \r\nQ 1172 3119 1398 2916 \r\nQ 1625 2713 2034 2713 \r\nQ 2441 2713 2670 2916 \r\nQ 2900 3119 2900 3481 \r\nQ 2900 3844 2670 4047 \r\nQ 2441 4250 2034 4250 \r\nQ 1625 4250 1398 4047 \r\nQ 1172 3844 1172 3481 \r\nz\r\n\" id=\"DejaVuSans-38\" transform=\"scale(0.015625)\"/>\r\n       </defs>\r\n       <use xlink:href=\"#DejaVuSans-38\"/>\r\n      </g>\r\n     </g>\r\n    </g>\r\n    <g id=\"xtick_6\">\r\n     <g id=\"line2d_6\">\r\n      <g>\r\n       <use style=\"stroke:#000000;stroke-width:0.8;\" x=\"328.13762\" xlink:href=\"#mbc85a7afdb\" y=\"239.758125\"/>\r\n      </g>\r\n     </g>\r\n     <g id=\"text_6\">\r\n      <!-- 10 -->\r\n      <g transform=\"translate(321.77512 254.356562)scale(0.1 -0.1)\">\r\n       <defs>\r\n        <path d=\"M 794 531 \r\nL 1825 531 \r\nL 1825 4091 \r\nL 703 3866 \r\nL 703 4441 \r\nL 1819 4666 \r\nL 2450 4666 \r\nL 2450 531 \r\nL 3481 531 \r\nL 3481 0 \r\nL 794 0 \r\nL 794 531 \r\nz\r\n\" id=\"DejaVuSans-31\" transform=\"scale(0.015625)\"/>\r\n       </defs>\r\n       <use xlink:href=\"#DejaVuSans-31\"/>\r\n       <use x=\"63.623047\" xlink:href=\"#DejaVuSans-30\"/>\r\n      </g>\r\n     </g>\r\n    </g>\r\n    <g id=\"xtick_7\">\r\n     <g id=\"line2d_7\">\r\n      <g>\r\n       <use style=\"stroke:#000000;stroke-width:0.8;\" x=\"379.645313\" xlink:href=\"#mbc85a7afdb\" y=\"239.758125\"/>\r\n      </g>\r\n     </g>\r\n     <g id=\"text_7\">\r\n      <!-- 12 -->\r\n      <g transform=\"translate(373.282813 254.356562)scale(0.1 -0.1)\">\r\n       <use xlink:href=\"#DejaVuSans-31\"/>\r\n       <use x=\"63.623047\" xlink:href=\"#DejaVuSans-32\"/>\r\n      </g>\r\n     </g>\r\n    </g>\r\n    <g id=\"text_8\">\r\n     <!-- Time-Step -->\r\n     <g transform=\"translate(186.822656 268.034687)scale(0.1 -0.1)\">\r\n      <defs>\r\n       <path d=\"M -19 4666 \r\nL 3928 4666 \r\nL 3928 4134 \r\nL 2272 4134 \r\nL 2272 0 \r\nL 1638 0 \r\nL 1638 4134 \r\nL -19 4134 \r\nL -19 4666 \r\nz\r\n\" id=\"DejaVuSans-54\" transform=\"scale(0.015625)\"/>\r\n       <path d=\"M 603 3500 \r\nL 1178 3500 \r\nL 1178 0 \r\nL 603 0 \r\nL 603 3500 \r\nz\r\nM 603 4863 \r\nL 1178 4863 \r\nL 1178 4134 \r\nL 603 4134 \r\nL 603 4863 \r\nz\r\n\" id=\"DejaVuSans-69\" transform=\"scale(0.015625)\"/>\r\n       <path d=\"M 3328 2828 \r\nQ 3544 3216 3844 3400 \r\nQ 4144 3584 4550 3584 \r\nQ 5097 3584 5394 3201 \r\nQ 5691 2819 5691 2113 \r\nL 5691 0 \r\nL 5113 0 \r\nL 5113 2094 \r\nQ 5113 2597 4934 2840 \r\nQ 4756 3084 4391 3084 \r\nQ 3944 3084 3684 2787 \r\nQ 3425 2491 3425 1978 \r\nL 3425 0 \r\nL 2847 0 \r\nL 2847 2094 \r\nQ 2847 2600 2669 2842 \r\nQ 2491 3084 2119 3084 \r\nQ 1678 3084 1418 2786 \r\nQ 1159 2488 1159 1978 \r\nL 1159 0 \r\nL 581 0 \r\nL 581 3500 \r\nL 1159 3500 \r\nL 1159 2956 \r\nQ 1356 3278 1631 3431 \r\nQ 1906 3584 2284 3584 \r\nQ 2666 3584 2933 3390 \r\nQ 3200 3197 3328 2828 \r\nz\r\n\" id=\"DejaVuSans-6d\" transform=\"scale(0.015625)\"/>\r\n       <path d=\"M 3597 1894 \r\nL 3597 1613 \r\nL 953 1613 \r\nQ 991 1019 1311 708 \r\nQ 1631 397 2203 397 \r\nQ 2534 397 2845 478 \r\nQ 3156 559 3463 722 \r\nL 3463 178 \r\nQ 3153 47 2828 -22 \r\nQ 2503 -91 2169 -91 \r\nQ 1331 -91 842 396 \r\nQ 353 884 353 1716 \r\nQ 353 2575 817 3079 \r\nQ 1281 3584 2069 3584 \r\nQ 2775 3584 3186 3129 \r\nQ 3597 2675 3597 1894 \r\nz\r\nM 3022 2063 \r\nQ 3016 2534 2758 2815 \r\nQ 2500 3097 2075 3097 \r\nQ 1594 3097 1305 2825 \r\nQ 1016 2553 972 2059 \r\nL 3022 2063 \r\nz\r\n\" id=\"DejaVuSans-65\" transform=\"scale(0.015625)\"/>\r\n       <path d=\"M 313 2009 \r\nL 1997 2009 \r\nL 1997 1497 \r\nL 313 1497 \r\nL 313 2009 \r\nz\r\n\" id=\"DejaVuSans-2d\" transform=\"scale(0.015625)\"/>\r\n       <path d=\"M 3425 4513 \r\nL 3425 3897 \r\nQ 3066 4069 2747 4153 \r\nQ 2428 4238 2131 4238 \r\nQ 1616 4238 1336 4038 \r\nQ 1056 3838 1056 3469 \r\nQ 1056 3159 1242 3001 \r\nQ 1428 2844 1947 2747 \r\nL 2328 2669 \r\nQ 3034 2534 3370 2195 \r\nQ 3706 1856 3706 1288 \r\nQ 3706 609 3251 259 \r\nQ 2797 -91 1919 -91 \r\nQ 1588 -91 1214 -16 \r\nQ 841 59 441 206 \r\nL 441 856 \r\nQ 825 641 1194 531 \r\nQ 1563 422 1919 422 \r\nQ 2459 422 2753 634 \r\nQ 3047 847 3047 1241 \r\nQ 3047 1584 2836 1778 \r\nQ 2625 1972 2144 2069 \r\nL 1759 2144 \r\nQ 1053 2284 737 2584 \r\nQ 422 2884 422 3419 \r\nQ 422 4038 858 4394 \r\nQ 1294 4750 2059 4750 \r\nQ 2388 4750 2728 4690 \r\nQ 3069 4631 3425 4513 \r\nz\r\n\" id=\"DejaVuSans-53\" transform=\"scale(0.015625)\"/>\r\n       <path d=\"M 1172 4494 \r\nL 1172 3500 \r\nL 2356 3500 \r\nL 2356 3053 \r\nL 1172 3053 \r\nL 1172 1153 \r\nQ 1172 725 1289 603 \r\nQ 1406 481 1766 481 \r\nL 2356 481 \r\nL 2356 0 \r\nL 1766 0 \r\nQ 1100 0 847 248 \r\nQ 594 497 594 1153 \r\nL 594 3053 \r\nL 172 3053 \r\nL 172 3500 \r\nL 594 3500 \r\nL 594 4494 \r\nL 1172 4494 \r\nz\r\n\" id=\"DejaVuSans-74\" transform=\"scale(0.015625)\"/>\r\n       <path d=\"M 1159 525 \r\nL 1159 -1331 \r\nL 581 -1331 \r\nL 581 3500 \r\nL 1159 3500 \r\nL 1159 2969 \r\nQ 1341 3281 1617 3432 \r\nQ 1894 3584 2278 3584 \r\nQ 2916 3584 3314 3078 \r\nQ 3713 2572 3713 1747 \r\nQ 3713 922 3314 415 \r\nQ 2916 -91 2278 -91 \r\nQ 1894 -91 1617 61 \r\nQ 1341 213 1159 525 \r\nz\r\nM 3116 1747 \r\nQ 3116 2381 2855 2742 \r\nQ 2594 3103 2138 3103 \r\nQ 1681 3103 1420 2742 \r\nQ 1159 2381 1159 1747 \r\nQ 1159 1113 1420 752 \r\nQ 1681 391 2138 391 \r\nQ 2594 391 2855 752 \r\nQ 3116 1113 3116 1747 \r\nz\r\n\" id=\"DejaVuSans-70\" transform=\"scale(0.015625)\"/>\r\n      </defs>\r\n      <use xlink:href=\"#DejaVuSans-54\"/>\r\n      <use x=\"57.958984\" xlink:href=\"#DejaVuSans-69\"/>\r\n      <use x=\"85.742188\" xlink:href=\"#DejaVuSans-6d\"/>\r\n      <use x=\"183.154297\" xlink:href=\"#DejaVuSans-65\"/>\r\n      <use x=\"244.677734\" xlink:href=\"#DejaVuSans-2d\"/>\r\n      <use x=\"280.761719\" xlink:href=\"#DejaVuSans-53\"/>\r\n      <use x=\"344.238281\" xlink:href=\"#DejaVuSans-74\"/>\r\n      <use x=\"383.447266\" xlink:href=\"#DejaVuSans-65\"/>\r\n      <use x=\"444.970703\" xlink:href=\"#DejaVuSans-70\"/>\r\n     </g>\r\n    </g>\r\n   </g>\r\n   <g id=\"matplotlib.axis_2\">\r\n    <g id=\"ytick_1\">\r\n     <g id=\"line2d_8\">\r\n      <defs>\r\n       <path d=\"M 0 0 \r\nL -3.5 0 \r\n\" id=\"m49f6a3f510\" style=\"stroke:#000000;stroke-width:0.8;\"/>\r\n      </defs>\r\n      <g>\r\n       <use style=\"stroke:#000000;stroke-width:0.8;\" x=\"44.845313\" xlink:href=\"#m49f6a3f510\" y=\"239.625021\"/>\r\n      </g>\r\n     </g>\r\n     <g id=\"text_9\">\r\n      <!-- −0.25 -->\r\n      <g transform=\"translate(7.2 243.42424)scale(0.1 -0.1)\">\r\n       <defs>\r\n        <path d=\"M 678 2272 \r\nL 4684 2272 \r\nL 4684 1741 \r\nL 678 1741 \r\nL 678 2272 \r\nz\r\n\" id=\"DejaVuSans-2212\" transform=\"scale(0.015625)\"/>\r\n        <path d=\"M 684 794 \r\nL 1344 794 \r\nL 1344 0 \r\nL 684 0 \r\nL 684 794 \r\nz\r\n\" id=\"DejaVuSans-2e\" transform=\"scale(0.015625)\"/>\r\n        <path d=\"M 691 4666 \r\nL 3169 4666 \r\nL 3169 4134 \r\nL 1269 4134 \r\nL 1269 2991 \r\nQ 1406 3038 1543 3061 \r\nQ 1681 3084 1819 3084 \r\nQ 2600 3084 3056 2656 \r\nQ 3513 2228 3513 1497 \r\nQ 3513 744 3044 326 \r\nQ 2575 -91 1722 -91 \r\nQ 1428 -91 1123 -41 \r\nQ 819 9 494 109 \r\nL 494 744 \r\nQ 775 591 1075 516 \r\nQ 1375 441 1709 441 \r\nQ 2250 441 2565 725 \r\nQ 2881 1009 2881 1497 \r\nQ 2881 1984 2565 2268 \r\nQ 2250 2553 1709 2553 \r\nQ 1456 2553 1204 2497 \r\nQ 953 2441 691 2322 \r\nL 691 4666 \r\nz\r\n\" id=\"DejaVuSans-35\" transform=\"scale(0.015625)\"/>\r\n       </defs>\r\n       <use xlink:href=\"#DejaVuSans-2212\"/>\r\n       <use x=\"83.789062\" xlink:href=\"#DejaVuSans-30\"/>\r\n       <use x=\"147.412109\" xlink:href=\"#DejaVuSans-2e\"/>\r\n       <use x=\"179.199219\" xlink:href=\"#DejaVuSans-32\"/>\r\n       <use x=\"242.822266\" xlink:href=\"#DejaVuSans-35\"/>\r\n      </g>\r\n     </g>\r\n    </g>\r\n    <g id=\"ytick_2\">\r\n     <g id=\"line2d_9\">\r\n      <g>\r\n       <use style=\"stroke:#000000;stroke-width:0.8;\" x=\"44.845313\" xlink:href=\"#m49f6a3f510\" y=\"212.488219\"/>\r\n      </g>\r\n     </g>\r\n     <g id=\"text_10\">\r\n      <!-- 0.00 -->\r\n      <g transform=\"translate(15.579688 216.287438)scale(0.1 -0.1)\">\r\n       <use xlink:href=\"#DejaVuSans-30\"/>\r\n       <use x=\"63.623047\" xlink:href=\"#DejaVuSans-2e\"/>\r\n       <use x=\"95.410156\" xlink:href=\"#DejaVuSans-30\"/>\r\n       <use x=\"159.033203\" xlink:href=\"#DejaVuSans-30\"/>\r\n      </g>\r\n     </g>\r\n    </g>\r\n    <g id=\"ytick_3\">\r\n     <g id=\"line2d_10\">\r\n      <g>\r\n       <use style=\"stroke:#000000;stroke-width:0.8;\" x=\"44.845313\" xlink:href=\"#m49f6a3f510\" y=\"185.351418\"/>\r\n      </g>\r\n     </g>\r\n     <g id=\"text_11\">\r\n      <!-- 0.25 -->\r\n      <g transform=\"translate(15.579688 189.150636)scale(0.1 -0.1)\">\r\n       <use xlink:href=\"#DejaVuSans-30\"/>\r\n       <use x=\"63.623047\" xlink:href=\"#DejaVuSans-2e\"/>\r\n       <use x=\"95.410156\" xlink:href=\"#DejaVuSans-32\"/>\r\n       <use x=\"159.033203\" xlink:href=\"#DejaVuSans-35\"/>\r\n      </g>\r\n     </g>\r\n    </g>\r\n    <g id=\"ytick_4\">\r\n     <g id=\"line2d_11\">\r\n      <g>\r\n       <use style=\"stroke:#000000;stroke-width:0.8;\" x=\"44.845313\" xlink:href=\"#m49f6a3f510\" y=\"158.214616\"/>\r\n      </g>\r\n     </g>\r\n     <g id=\"text_12\">\r\n      <!-- 0.50 -->\r\n      <g transform=\"translate(15.579688 162.013835)scale(0.1 -0.1)\">\r\n       <use xlink:href=\"#DejaVuSans-30\"/>\r\n       <use x=\"63.623047\" xlink:href=\"#DejaVuSans-2e\"/>\r\n       <use x=\"95.410156\" xlink:href=\"#DejaVuSans-35\"/>\r\n       <use x=\"159.033203\" xlink:href=\"#DejaVuSans-30\"/>\r\n      </g>\r\n     </g>\r\n    </g>\r\n    <g id=\"ytick_5\">\r\n     <g id=\"line2d_12\">\r\n      <g>\r\n       <use style=\"stroke:#000000;stroke-width:0.8;\" x=\"44.845313\" xlink:href=\"#m49f6a3f510\" y=\"131.077814\"/>\r\n      </g>\r\n     </g>\r\n     <g id=\"text_13\">\r\n      <!-- 0.75 -->\r\n      <g transform=\"translate(15.579688 134.877033)scale(0.1 -0.1)\">\r\n       <defs>\r\n        <path d=\"M 525 4666 \r\nL 3525 4666 \r\nL 3525 4397 \r\nL 1831 0 \r\nL 1172 0 \r\nL 2766 4134 \r\nL 525 4134 \r\nL 525 4666 \r\nz\r\n\" id=\"DejaVuSans-37\" transform=\"scale(0.015625)\"/>\r\n       </defs>\r\n       <use xlink:href=\"#DejaVuSans-30\"/>\r\n       <use x=\"63.623047\" xlink:href=\"#DejaVuSans-2e\"/>\r\n       <use x=\"95.410156\" xlink:href=\"#DejaVuSans-37\"/>\r\n       <use x=\"159.033203\" xlink:href=\"#DejaVuSans-35\"/>\r\n      </g>\r\n     </g>\r\n    </g>\r\n    <g id=\"ytick_6\">\r\n     <g id=\"line2d_13\">\r\n      <g>\r\n       <use style=\"stroke:#000000;stroke-width:0.8;\" x=\"44.845313\" xlink:href=\"#m49f6a3f510\" y=\"103.941013\"/>\r\n      </g>\r\n     </g>\r\n     <g id=\"text_14\">\r\n      <!-- 1.00 -->\r\n      <g transform=\"translate(15.579688 107.740232)scale(0.1 -0.1)\">\r\n       <use xlink:href=\"#DejaVuSans-31\"/>\r\n       <use x=\"63.623047\" xlink:href=\"#DejaVuSans-2e\"/>\r\n       <use x=\"95.410156\" xlink:href=\"#DejaVuSans-30\"/>\r\n       <use x=\"159.033203\" xlink:href=\"#DejaVuSans-30\"/>\r\n      </g>\r\n     </g>\r\n    </g>\r\n    <g id=\"ytick_7\">\r\n     <g id=\"line2d_14\">\r\n      <g>\r\n       <use style=\"stroke:#000000;stroke-width:0.8;\" x=\"44.845313\" xlink:href=\"#m49f6a3f510\" y=\"76.804211\"/>\r\n      </g>\r\n     </g>\r\n     <g id=\"text_15\">\r\n      <!-- 1.25 -->\r\n      <g transform=\"translate(15.579688 80.60343)scale(0.1 -0.1)\">\r\n       <use xlink:href=\"#DejaVuSans-31\"/>\r\n       <use x=\"63.623047\" xlink:href=\"#DejaVuSans-2e\"/>\r\n       <use x=\"95.410156\" xlink:href=\"#DejaVuSans-32\"/>\r\n       <use x=\"159.033203\" xlink:href=\"#DejaVuSans-35\"/>\r\n      </g>\r\n     </g>\r\n    </g>\r\n    <g id=\"ytick_8\">\r\n     <g id=\"line2d_15\">\r\n      <g>\r\n       <use style=\"stroke:#000000;stroke-width:0.8;\" x=\"44.845313\" xlink:href=\"#m49f6a3f510\" y=\"49.667409\"/>\r\n      </g>\r\n     </g>\r\n     <g id=\"text_16\">\r\n      <!-- 1.50 -->\r\n      <g transform=\"translate(15.579688 53.466628)scale(0.1 -0.1)\">\r\n       <use xlink:href=\"#DejaVuSans-31\"/>\r\n       <use x=\"63.623047\" xlink:href=\"#DejaVuSans-2e\"/>\r\n       <use x=\"95.410156\" xlink:href=\"#DejaVuSans-35\"/>\r\n       <use x=\"159.033203\" xlink:href=\"#DejaVuSans-30\"/>\r\n      </g>\r\n     </g>\r\n    </g>\r\n    <g id=\"ytick_9\">\r\n     <g id=\"line2d_16\">\r\n      <g>\r\n       <use style=\"stroke:#000000;stroke-width:0.8;\" x=\"44.845313\" xlink:href=\"#m49f6a3f510\" y=\"22.530608\"/>\r\n      </g>\r\n     </g>\r\n     <g id=\"text_17\">\r\n      <!-- 1.75 -->\r\n      <g transform=\"translate(15.579688 26.329827)scale(0.1 -0.1)\">\r\n       <use xlink:href=\"#DejaVuSans-31\"/>\r\n       <use x=\"63.623047\" xlink:href=\"#DejaVuSans-2e\"/>\r\n       <use x=\"95.410156\" xlink:href=\"#DejaVuSans-37\"/>\r\n       <use x=\"159.033203\" xlink:href=\"#DejaVuSans-35\"/>\r\n      </g>\r\n     </g>\r\n    </g>\r\n   </g>\r\n   <g id=\"line2d_17\">\r\n    <path clip-path=\"url(#p564b76fa2c)\" d=\"M 44.845312 229.874489 \r\n\" style=\"fill:none;stroke:#1f77b4;stroke-linecap:square;stroke-width:1.5;\"/>\r\n    <defs>\r\n     <path d=\"M 0 1.5 \r\nC 0.397805 1.5 0.77937 1.341951 1.06066 1.06066 \r\nC 1.341951 0.77937 1.5 0.397805 1.5 0 \r\nC 1.5 -0.397805 1.341951 -0.77937 1.06066 -1.06066 \r\nC 0.77937 -1.341951 0.397805 -1.5 0 -1.5 \r\nC -0.397805 -1.5 -0.77937 -1.341951 -1.06066 -1.06066 \r\nC -1.341951 -0.77937 -1.5 -0.397805 -1.5 0 \r\nC -1.5 0.397805 -1.341951 0.77937 -1.06066 1.06066 \r\nC -0.77937 1.341951 -0.397805 1.5 0 1.5 \r\nz\r\n\" id=\"m3716ffd771\" style=\"stroke:#1f77b4;\"/>\r\n    </defs>\r\n    <g clip-path=\"url(#p564b76fa2c)\">\r\n     <use style=\"fill:#1f77b4;stroke:#1f77b4;\" x=\"44.845312\" xlink:href=\"#m3716ffd771\" y=\"229.874489\"/>\r\n    </g>\r\n   </g>\r\n   <g id=\"line2d_18\">\r\n    <defs>\r\n     <path d=\"M -5 5 \r\nL 5 -5 \r\nM -5 -5 \r\nL 5 5 \r\n\" id=\"m6acf58ed46\" style=\"stroke:#ff0000;\"/>\r\n    </defs>\r\n    <g clip-path=\"url(#p564b76fa2c)\">\r\n     <use style=\"fill:#ff0000;stroke:#ff0000;\" x=\"96.353005\" xlink:href=\"#m6acf58ed46\" y=\"32.201761\"/>\r\n    </g>\r\n   </g>\r\n   <g id=\"line2d_19\">\r\n    <defs>\r\n     <path d=\"M 0 5 \r\nC 1.326016 5 2.597899 4.473168 3.535534 3.535534 \r\nC 4.473168 2.597899 5 1.326016 5 0 \r\nC 5 -1.326016 4.473168 -2.597899 3.535534 -3.535534 \r\nC 2.597899 -4.473168 1.326016 -5 0 -5 \r\nC -1.326016 -5 -2.597899 -4.473168 -3.535534 -3.535534 \r\nC -4.473168 -2.597899 -5 -1.326016 -5 0 \r\nC -5 1.326016 -4.473168 2.597899 -3.535534 3.535534 \r\nC -2.597899 4.473168 -1.326016 5 0 5 \r\nz\r\n\" id=\"m7c884a358d\" style=\"stroke:#008000;\"/>\r\n    </defs>\r\n    <g clip-path=\"url(#p564b76fa2c)\">\r\n     <use style=\"fill:#008000;stroke:#008000;\" x=\"96.353005\" xlink:href=\"#m7c884a358d\" y=\"69.241356\"/>\r\n    </g>\r\n   </g>\r\n   <g id=\"patch_3\">\r\n    <path d=\"M 44.845313 239.758125 \r\nL 44.845313 22.318125 \r\n\" style=\"fill:none;stroke:#000000;stroke-linecap:square;stroke-linejoin:miter;stroke-width:0.8;\"/>\r\n   </g>\r\n   <g id=\"patch_4\">\r\n    <path d=\"M 379.645313 239.758125 \r\nL 379.645313 22.318125 \r\n\" style=\"fill:none;stroke:#000000;stroke-linecap:square;stroke-linejoin:miter;stroke-width:0.8;\"/>\r\n   </g>\r\n   <g id=\"patch_5\">\r\n    <path d=\"M 44.845312 239.758125 \r\nL 379.645313 239.758125 \r\n\" style=\"fill:none;stroke:#000000;stroke-linecap:square;stroke-linejoin:miter;stroke-width:0.8;\"/>\r\n   </g>\r\n   <g id=\"patch_6\">\r\n    <path d=\"M 44.845312 22.318125 \r\nL 379.645313 22.318125 \r\n\" style=\"fill:none;stroke:#000000;stroke-linecap:square;stroke-linejoin:miter;stroke-width:0.8;\"/>\r\n   </g>\r\n   <g id=\"text_18\">\r\n    <!-- Single Step Prediction -->\r\n    <g transform=\"translate(146.519063 16.318125)scale(0.12 -0.12)\">\r\n     <defs>\r\n      <path d=\"M 3513 2113 \r\nL 3513 0 \r\nL 2938 0 \r\nL 2938 2094 \r\nQ 2938 2591 2744 2837 \r\nQ 2550 3084 2163 3084 \r\nQ 1697 3084 1428 2787 \r\nQ 1159 2491 1159 1978 \r\nL 1159 0 \r\nL 581 0 \r\nL 581 3500 \r\nL 1159 3500 \r\nL 1159 2956 \r\nQ 1366 3272 1645 3428 \r\nQ 1925 3584 2291 3584 \r\nQ 2894 3584 3203 3211 \r\nQ 3513 2838 3513 2113 \r\nz\r\n\" id=\"DejaVuSans-6e\" transform=\"scale(0.015625)\"/>\r\n      <path d=\"M 2906 1791 \r\nQ 2906 2416 2648 2759 \r\nQ 2391 3103 1925 3103 \r\nQ 1463 3103 1205 2759 \r\nQ 947 2416 947 1791 \r\nQ 947 1169 1205 825 \r\nQ 1463 481 1925 481 \r\nQ 2391 481 2648 825 \r\nQ 2906 1169 2906 1791 \r\nz\r\nM 3481 434 \r\nQ 3481 -459 3084 -895 \r\nQ 2688 -1331 1869 -1331 \r\nQ 1566 -1331 1297 -1286 \r\nQ 1028 -1241 775 -1147 \r\nL 775 -588 \r\nQ 1028 -725 1275 -790 \r\nQ 1522 -856 1778 -856 \r\nQ 2344 -856 2625 -561 \r\nQ 2906 -266 2906 331 \r\nL 2906 616 \r\nQ 2728 306 2450 153 \r\nQ 2172 0 1784 0 \r\nQ 1141 0 747 490 \r\nQ 353 981 353 1791 \r\nQ 353 2603 747 3093 \r\nQ 1141 3584 1784 3584 \r\nQ 2172 3584 2450 3431 \r\nQ 2728 3278 2906 2969 \r\nL 2906 3500 \r\nL 3481 3500 \r\nL 3481 434 \r\nz\r\n\" id=\"DejaVuSans-67\" transform=\"scale(0.015625)\"/>\r\n      <path d=\"M 603 4863 \r\nL 1178 4863 \r\nL 1178 0 \r\nL 603 0 \r\nL 603 4863 \r\nz\r\n\" id=\"DejaVuSans-6c\" transform=\"scale(0.015625)\"/>\r\n      <path id=\"DejaVuSans-20\" transform=\"scale(0.015625)\"/>\r\n      <path d=\"M 1259 4147 \r\nL 1259 2394 \r\nL 2053 2394 \r\nQ 2494 2394 2734 2622 \r\nQ 2975 2850 2975 3272 \r\nQ 2975 3691 2734 3919 \r\nQ 2494 4147 2053 4147 \r\nL 1259 4147 \r\nz\r\nM 628 4666 \r\nL 2053 4666 \r\nQ 2838 4666 3239 4311 \r\nQ 3641 3956 3641 3272 \r\nQ 3641 2581 3239 2228 \r\nQ 2838 1875 2053 1875 \r\nL 1259 1875 \r\nL 1259 0 \r\nL 628 0 \r\nL 628 4666 \r\nz\r\n\" id=\"DejaVuSans-50\" transform=\"scale(0.015625)\"/>\r\n      <path d=\"M 2631 2963 \r\nQ 2534 3019 2420 3045 \r\nQ 2306 3072 2169 3072 \r\nQ 1681 3072 1420 2755 \r\nQ 1159 2438 1159 1844 \r\nL 1159 0 \r\nL 581 0 \r\nL 581 3500 \r\nL 1159 3500 \r\nL 1159 2956 \r\nQ 1341 3275 1631 3429 \r\nQ 1922 3584 2338 3584 \r\nQ 2397 3584 2469 3576 \r\nQ 2541 3569 2628 3553 \r\nL 2631 2963 \r\nz\r\n\" id=\"DejaVuSans-72\" transform=\"scale(0.015625)\"/>\r\n      <path d=\"M 2906 2969 \r\nL 2906 4863 \r\nL 3481 4863 \r\nL 3481 0 \r\nL 2906 0 \r\nL 2906 525 \r\nQ 2725 213 2448 61 \r\nQ 2172 -91 1784 -91 \r\nQ 1150 -91 751 415 \r\nQ 353 922 353 1747 \r\nQ 353 2572 751 3078 \r\nQ 1150 3584 1784 3584 \r\nQ 2172 3584 2448 3432 \r\nQ 2725 3281 2906 2969 \r\nz\r\nM 947 1747 \r\nQ 947 1113 1208 752 \r\nQ 1469 391 1925 391 \r\nQ 2381 391 2643 752 \r\nQ 2906 1113 2906 1747 \r\nQ 2906 2381 2643 2742 \r\nQ 2381 3103 1925 3103 \r\nQ 1469 3103 1208 2742 \r\nQ 947 2381 947 1747 \r\nz\r\n\" id=\"DejaVuSans-64\" transform=\"scale(0.015625)\"/>\r\n      <path d=\"M 3122 3366 \r\nL 3122 2828 \r\nQ 2878 2963 2633 3030 \r\nQ 2388 3097 2138 3097 \r\nQ 1578 3097 1268 2742 \r\nQ 959 2388 959 1747 \r\nQ 959 1106 1268 751 \r\nQ 1578 397 2138 397 \r\nQ 2388 397 2633 464 \r\nQ 2878 531 3122 666 \r\nL 3122 134 \r\nQ 2881 22 2623 -34 \r\nQ 2366 -91 2075 -91 \r\nQ 1284 -91 818 406 \r\nQ 353 903 353 1747 \r\nQ 353 2603 823 3093 \r\nQ 1294 3584 2113 3584 \r\nQ 2378 3584 2631 3529 \r\nQ 2884 3475 3122 3366 \r\nz\r\n\" id=\"DejaVuSans-63\" transform=\"scale(0.015625)\"/>\r\n      <path d=\"M 1959 3097 \r\nQ 1497 3097 1228 2736 \r\nQ 959 2375 959 1747 \r\nQ 959 1119 1226 758 \r\nQ 1494 397 1959 397 \r\nQ 2419 397 2687 759 \r\nQ 2956 1122 2956 1747 \r\nQ 2956 2369 2687 2733 \r\nQ 2419 3097 1959 3097 \r\nz\r\nM 1959 3584 \r\nQ 2709 3584 3137 3096 \r\nQ 3566 2609 3566 1747 \r\nQ 3566 888 3137 398 \r\nQ 2709 -91 1959 -91 \r\nQ 1206 -91 779 398 \r\nQ 353 888 353 1747 \r\nQ 353 2609 779 3096 \r\nQ 1206 3584 1959 3584 \r\nz\r\n\" id=\"DejaVuSans-6f\" transform=\"scale(0.015625)\"/>\r\n     </defs>\r\n     <use xlink:href=\"#DejaVuSans-53\"/>\r\n     <use x=\"63.476562\" xlink:href=\"#DejaVuSans-69\"/>\r\n     <use x=\"91.259766\" xlink:href=\"#DejaVuSans-6e\"/>\r\n     <use x=\"154.638672\" xlink:href=\"#DejaVuSans-67\"/>\r\n     <use x=\"218.115234\" xlink:href=\"#DejaVuSans-6c\"/>\r\n     <use x=\"245.898438\" xlink:href=\"#DejaVuSans-65\"/>\r\n     <use x=\"307.421875\" xlink:href=\"#DejaVuSans-20\"/>\r\n     <use x=\"339.208984\" xlink:href=\"#DejaVuSans-53\"/>\r\n     <use x=\"402.685547\" xlink:href=\"#DejaVuSans-74\"/>\r\n     <use x=\"441.894531\" xlink:href=\"#DejaVuSans-65\"/>\r\n     <use x=\"503.417969\" xlink:href=\"#DejaVuSans-70\"/>\r\n     <use x=\"566.894531\" xlink:href=\"#DejaVuSans-20\"/>\r\n     <use x=\"598.681641\" xlink:href=\"#DejaVuSans-50\"/>\r\n     <use x=\"657.234375\" xlink:href=\"#DejaVuSans-72\"/>\r\n     <use x=\"696.097656\" xlink:href=\"#DejaVuSans-65\"/>\r\n     <use x=\"757.621094\" xlink:href=\"#DejaVuSans-64\"/>\r\n     <use x=\"821.097656\" xlink:href=\"#DejaVuSans-69\"/>\r\n     <use x=\"848.880859\" xlink:href=\"#DejaVuSans-63\"/>\r\n     <use x=\"903.861328\" xlink:href=\"#DejaVuSans-74\"/>\r\n     <use x=\"943.070312\" xlink:href=\"#DejaVuSans-69\"/>\r\n     <use x=\"970.853516\" xlink:href=\"#DejaVuSans-6f\"/>\r\n     <use x=\"1032.035156\" xlink:href=\"#DejaVuSans-6e\"/>\r\n    </g>\r\n   </g>\r\n   <g id=\"legend_1\">\r\n    <g id=\"patch_7\">\r\n     <path d=\"M 257.767188 74.3525 \r\nL 372.645313 74.3525 \r\nQ 374.645313 74.3525 374.645313 72.3525 \r\nL 374.645313 29.318125 \r\nQ 374.645313 27.318125 372.645313 27.318125 \r\nL 257.767188 27.318125 \r\nQ 255.767188 27.318125 255.767188 29.318125 \r\nL 255.767188 72.3525 \r\nQ 255.767188 74.3525 257.767188 74.3525 \r\nz\r\n\" style=\"fill:#ffffff;opacity:0.8;stroke:#cccccc;stroke-linejoin:miter;\"/>\r\n    </g>\r\n    <g id=\"line2d_20\">\r\n     <path d=\"M 259.767188 35.416562 \r\nL 279.767188 35.416562 \r\n\" style=\"fill:none;stroke:#1f77b4;stroke-linecap:square;stroke-width:1.5;\"/>\r\n    </g>\r\n    <g id=\"line2d_21\">\r\n     <g>\r\n      <use style=\"fill:#1f77b4;stroke:#1f77b4;\" x=\"269.767188\" xlink:href=\"#m3716ffd771\" y=\"35.416562\"/>\r\n     </g>\r\n    </g>\r\n    <g id=\"text_19\">\r\n     <!-- History -->\r\n     <g transform=\"translate(287.767188 38.916562)scale(0.1 -0.1)\">\r\n      <defs>\r\n       <path d=\"M 628 4666 \r\nL 1259 4666 \r\nL 1259 2753 \r\nL 3553 2753 \r\nL 3553 4666 \r\nL 4184 4666 \r\nL 4184 0 \r\nL 3553 0 \r\nL 3553 2222 \r\nL 1259 2222 \r\nL 1259 0 \r\nL 628 0 \r\nL 628 4666 \r\nz\r\n\" id=\"DejaVuSans-48\" transform=\"scale(0.015625)\"/>\r\n       <path d=\"M 2834 3397 \r\nL 2834 2853 \r\nQ 2591 2978 2328 3040 \r\nQ 2066 3103 1784 3103 \r\nQ 1356 3103 1142 2972 \r\nQ 928 2841 928 2578 \r\nQ 928 2378 1081 2264 \r\nQ 1234 2150 1697 2047 \r\nL 1894 2003 \r\nQ 2506 1872 2764 1633 \r\nQ 3022 1394 3022 966 \r\nQ 3022 478 2636 193 \r\nQ 2250 -91 1575 -91 \r\nQ 1294 -91 989 -36 \r\nQ 684 19 347 128 \r\nL 347 722 \r\nQ 666 556 975 473 \r\nQ 1284 391 1588 391 \r\nQ 1994 391 2212 530 \r\nQ 2431 669 2431 922 \r\nQ 2431 1156 2273 1281 \r\nQ 2116 1406 1581 1522 \r\nL 1381 1569 \r\nQ 847 1681 609 1914 \r\nQ 372 2147 372 2553 \r\nQ 372 3047 722 3315 \r\nQ 1072 3584 1716 3584 \r\nQ 2034 3584 2315 3537 \r\nQ 2597 3491 2834 3397 \r\nz\r\n\" id=\"DejaVuSans-73\" transform=\"scale(0.015625)\"/>\r\n       <path d=\"M 2059 -325 \r\nQ 1816 -950 1584 -1140 \r\nQ 1353 -1331 966 -1331 \r\nL 506 -1331 \r\nL 506 -850 \r\nL 844 -850 \r\nQ 1081 -850 1212 -737 \r\nQ 1344 -625 1503 -206 \r\nL 1606 56 \r\nL 191 3500 \r\nL 800 3500 \r\nL 1894 763 \r\nL 2988 3500 \r\nL 3597 3500 \r\nL 2059 -325 \r\nz\r\n\" id=\"DejaVuSans-79\" transform=\"scale(0.015625)\"/>\r\n      </defs>\r\n      <use xlink:href=\"#DejaVuSans-48\"/>\r\n      <use x=\"75.195312\" xlink:href=\"#DejaVuSans-69\"/>\r\n      <use x=\"102.978516\" xlink:href=\"#DejaVuSans-73\"/>\r\n      <use x=\"155.078125\" xlink:href=\"#DejaVuSans-74\"/>\r\n      <use x=\"194.287109\" xlink:href=\"#DejaVuSans-6f\"/>\r\n      <use x=\"255.46875\" xlink:href=\"#DejaVuSans-72\"/>\r\n      <use x=\"296.582031\" xlink:href=\"#DejaVuSans-79\"/>\r\n     </g>\r\n    </g>\r\n    <g id=\"line2d_22\"/>\r\n    <g id=\"line2d_23\">\r\n     <g>\r\n      <use style=\"fill:#ff0000;stroke:#ff0000;\" x=\"269.767188\" xlink:href=\"#m6acf58ed46\" y=\"50.094687\"/>\r\n     </g>\r\n    </g>\r\n    <g id=\"text_20\">\r\n     <!-- True Future -->\r\n     <g transform=\"translate(287.767188 53.594687)scale(0.1 -0.1)\">\r\n      <defs>\r\n       <path d=\"M 544 1381 \r\nL 544 3500 \r\nL 1119 3500 \r\nL 1119 1403 \r\nQ 1119 906 1312 657 \r\nQ 1506 409 1894 409 \r\nQ 2359 409 2629 706 \r\nQ 2900 1003 2900 1516 \r\nL 2900 3500 \r\nL 3475 3500 \r\nL 3475 0 \r\nL 2900 0 \r\nL 2900 538 \r\nQ 2691 219 2414 64 \r\nQ 2138 -91 1772 -91 \r\nQ 1169 -91 856 284 \r\nQ 544 659 544 1381 \r\nz\r\nM 1991 3584 \r\nL 1991 3584 \r\nz\r\n\" id=\"DejaVuSans-75\" transform=\"scale(0.015625)\"/>\r\n       <path d=\"M 628 4666 \r\nL 3309 4666 \r\nL 3309 4134 \r\nL 1259 4134 \r\nL 1259 2759 \r\nL 3109 2759 \r\nL 3109 2228 \r\nL 1259 2228 \r\nL 1259 0 \r\nL 628 0 \r\nL 628 4666 \r\nz\r\n\" id=\"DejaVuSans-46\" transform=\"scale(0.015625)\"/>\r\n      </defs>\r\n      <use xlink:href=\"#DejaVuSans-54\"/>\r\n      <use x=\"46.333984\" xlink:href=\"#DejaVuSans-72\"/>\r\n      <use x=\"87.447266\" xlink:href=\"#DejaVuSans-75\"/>\r\n      <use x=\"150.826172\" xlink:href=\"#DejaVuSans-65\"/>\r\n      <use x=\"212.349609\" xlink:href=\"#DejaVuSans-20\"/>\r\n      <use x=\"244.136719\" xlink:href=\"#DejaVuSans-46\"/>\r\n      <use x=\"296.15625\" xlink:href=\"#DejaVuSans-75\"/>\r\n      <use x=\"359.535156\" xlink:href=\"#DejaVuSans-74\"/>\r\n      <use x=\"398.744141\" xlink:href=\"#DejaVuSans-75\"/>\r\n      <use x=\"462.123047\" xlink:href=\"#DejaVuSans-72\"/>\r\n      <use x=\"500.986328\" xlink:href=\"#DejaVuSans-65\"/>\r\n     </g>\r\n    </g>\r\n    <g id=\"line2d_24\"/>\r\n    <g id=\"line2d_25\">\r\n     <g>\r\n      <use style=\"fill:#008000;stroke:#008000;\" x=\"269.767188\" xlink:href=\"#m7c884a358d\" y=\"64.772812\"/>\r\n     </g>\r\n    </g>\r\n    <g id=\"text_21\">\r\n     <!-- Model Prediction -->\r\n     <g transform=\"translate(287.767188 68.272812)scale(0.1 -0.1)\">\r\n      <defs>\r\n       <path d=\"M 628 4666 \r\nL 1569 4666 \r\nL 2759 1491 \r\nL 3956 4666 \r\nL 4897 4666 \r\nL 4897 0 \r\nL 4281 0 \r\nL 4281 4097 \r\nL 3078 897 \r\nL 2444 897 \r\nL 1241 4097 \r\nL 1241 0 \r\nL 628 0 \r\nL 628 4666 \r\nz\r\n\" id=\"DejaVuSans-4d\" transform=\"scale(0.015625)\"/>\r\n      </defs>\r\n      <use xlink:href=\"#DejaVuSans-4d\"/>\r\n      <use x=\"86.279297\" xlink:href=\"#DejaVuSans-6f\"/>\r\n      <use x=\"147.460938\" xlink:href=\"#DejaVuSans-64\"/>\r\n      <use x=\"210.9375\" xlink:href=\"#DejaVuSans-65\"/>\r\n      <use x=\"272.460938\" xlink:href=\"#DejaVuSans-6c\"/>\r\n      <use x=\"300.244141\" xlink:href=\"#DejaVuSans-20\"/>\r\n      <use x=\"332.03125\" xlink:href=\"#DejaVuSans-50\"/>\r\n      <use x=\"390.583984\" xlink:href=\"#DejaVuSans-72\"/>\r\n      <use x=\"429.447266\" xlink:href=\"#DejaVuSans-65\"/>\r\n      <use x=\"490.970703\" xlink:href=\"#DejaVuSans-64\"/>\r\n      <use x=\"554.447266\" xlink:href=\"#DejaVuSans-69\"/>\r\n      <use x=\"582.230469\" xlink:href=\"#DejaVuSans-63\"/>\r\n      <use x=\"637.210938\" xlink:href=\"#DejaVuSans-74\"/>\r\n      <use x=\"676.419922\" xlink:href=\"#DejaVuSans-69\"/>\r\n      <use x=\"704.203125\" xlink:href=\"#DejaVuSans-6f\"/>\r\n      <use x=\"765.384766\" xlink:href=\"#DejaVuSans-6e\"/>\r\n     </g>\r\n    </g>\r\n   </g>\r\n  </g>\r\n </g>\r\n <defs>\r\n  <clipPath id=\"p564b76fa2c\">\r\n   <rect height=\"217.44\" width=\"334.8\" x=\"44.845313\" y=\"22.318125\"/>\r\n  </clipPath>\r\n </defs>\r\n</svg>\r\n",
      "image/png": "[encoded data removed]"
     },
     "metadata": {
      "needs_background": "light"
     }
    }
   ],
   "source": [
    "def show_plot(plot_data, delta, title):\n",
    "    labels = [\"History\", \"True Future\", \"Model Prediction\"]\n",
    "    marker = [\".-\", \"rx\", \"go\"]\n",
    "    time_steps = list(range(-(plot_data[0].shape[0]), 0))\n",
    "    if delta:\n",
    "        future = delta\n",
    "    else:\n",
    "        future = 0\n",
    "\n",
    "    plt.title(title)\n",
    "    for i, val in enumerate(plot_data):\n",
    "        if i:\n",
    "            plt.plot(future, plot_data[i], marker[i], markersize=10, label=labels[i])\n",
    "        else:\n",
    "            plt.plot(time_steps, plot_data[i].flatten(), marker[i], label=labels[i])\n",
    "    plt.legend()\n",
    "    plt.xlim([time_steps[0], (future + 5) * 2])\n",
    "    plt.xlabel(\"Time-Step\")\n",
    "    plt.show()\n",
    "    return\n",
    "\n",
    "for x, y in dataset_val.take(1):\n",
    "    show_plot(\n",
    "        [x[0][:, 0].numpy(), y[0].numpy(), model.predict(x)[0]],\n",
    "        1,\n",
    "        \"Single Step Prediction\",\n",
    "    )"
   ]
  },
  {
   "cell_type": "code",
   "execution_count": 16,
   "metadata": {},
   "outputs": [
    {
     "output_type": "stream",
     "name": "stdout",
     "text": [
      "predicted denormalized: [4098.9497]\n",
      "   actual denormalized: [4449.]\n",
      "             predicted: [1.3196734]\n",
      "                actual: [1.66090371]\n",
      "predicted denormalized: [4155.174]\n",
      "   actual denormalized: [3464.]\n",
      "             predicted: [1.374481]\n",
      "                actual: [0.70072195]\n",
      "predicted denormalized: [2467.9429]\n",
      "   actual denormalized: [2795.]\n",
      "             predicted: [-0.2702384]\n",
      "                actual: [0.04857819]\n",
      "predicted denormalized: [1724.3976]\n",
      "   actual denormalized: [1762.]\n",
      "             predicted: [-0.99504924]\n",
      "                actual: [-0.95839415]\n",
      "predicted denormalized: [2563.225]\n",
      "   actual denormalized: [2605.]\n",
      "             predicted: [-0.17735696]\n",
      "                actual: [-0.13663453]\n",
      "predicted denormalized: [1758.3123]\n",
      "   actual denormalized: [1744.]\n",
      "             predicted: [-0.96198916]\n",
      "                actual: [-0.97594062]\n",
      "predicted denormalized: [3455.051]\n",
      "   actual denormalized: [3275.]\n",
      "             predicted: [0.69199836]\n",
      "                actual: [0.51648402]\n",
      "predicted denormalized: [3144.4229]\n",
      "   actual denormalized: [3193.]\n",
      "             predicted: [0.38919675]\n",
      "                actual: [0.43655011]\n",
      "predicted denormalized: [1718.6487]\n",
      "   actual denormalized: [1815.]\n",
      "             predicted: [-1.0006533]\n",
      "                actual: [-0.90672955]\n",
      "predicted denormalized: [3815.7432]\n",
      "   actual denormalized: [4380.]\n",
      "             predicted: [1.0436025]\n",
      "                actual: [1.59364225]\n"
     ]
    }
   ],
   "source": [
    "def denormalize(value):\n",
    "    data_mean = mean[len(titles)-1]\n",
    "    data_std = std[len(titles)-1]\n",
    "    return value*data_std+data_mean\n",
    "\n",
    "for x, y in dataset_val.take(10):\n",
    "    predictionData = model.predict(x)\n",
    "    denormalized_predictionData = denormalize(predictionData)[0]\n",
    "    actualValue = y[0].numpy()\n",
    "    print(\"predicted denormalized:\", denormalized_predictionData)\n",
    "    print(\"   actual denormalized:\", denormalize(actualValue))\n",
    "    print(\"             predicted:\", predictionData[0])\n",
    "    print(\"                actual:\", actualValue)\n",
    "\n",
    "# for x, y in datasetPredTest.take(1):\n",
    "#     show_plot(\n",
    "#         [x[0][:, 0].numpy(), y[0].numpy(), model.predict(x)[0]],\n",
    "#         1,\n",
    "#         \"Single Step Prediction\",\n",
    "#     )"
   ]
  },
  {
   "cell_type": "code",
   "execution_count": 23,
   "metadata": {},
   "outputs": [
    {
     "output_type": "stream",
     "name": "stdout",
     "text": [
      "predicted denormalized: [[2462.231]]\n",
      "   actual denormalized: [2357.]\n",
      "             predicted: [[-0.27156138]]\n",
      "                actual: [-0.37541388]\n",
      "predicted denormalized: [[2453.9917]]\n",
      "   actual denormalized: [2566.]\n",
      "             predicted: [[-0.27969265]]\n",
      "                actual: [-0.16915142]\n",
      "predicted denormalized: [[3533.457]]\n",
      "   actual denormalized: [3230.]\n",
      "             predicted: [[0.7856337]]\n",
      "                actual: [0.48615135]\n",
      "predicted denormalized: [[3177.319]]\n",
      "   actual denormalized: [2681.]\n",
      "             predicted: [[0.4341604]]\n",
      "                actual: [-0.05565771]\n",
      "predicted denormalized: [[1826.1156]]\n",
      "   actual denormalized: [1748.]\n",
      "             predicted: [[-0.8993447]]\n",
      "                actual: [-0.97643705]\n",
      "predicted denormalized: [[1855.8901]]\n",
      "   actual denormalized: [2064.]\n",
      "             predicted: [[-0.86996007]]\n",
      "                actual: [-0.6645761]\n",
      "predicted denormalized: [[2340.3345]]\n",
      "   actual denormalized: [2810.]\n",
      "             predicted: [[-0.39186132]]\n",
      "                actual: [0.07165261]\n",
      "predicted denormalized: [[1791.6038]]\n",
      "   actual denormalized: [2020.]\n",
      "             predicted: [[-0.93340445]]\n",
      "                actual: [-0.70799978]\n",
      "predicted denormalized: [[1858.6068]]\n",
      "   actual denormalized: [1846.]\n",
      "             predicted: [[-0.86727905]]\n",
      "                actual: [-0.87972068]\n",
      "predicted denormalized: [[3690.8188]]\n",
      "   actual denormalized: [3363.]\n",
      "             predicted: [[0.9409342]]\n",
      "                actual: [0.61740928]\n"
     ]
    }
   ],
   "source": [
    "def normalize(data):\n",
    "    return (data - mean) / std\n",
    "\n",
    "predTest = pd.read_csv('../data/test_val.csv',',')\n",
    "mean = train[titles].values.mean(axis=0)\n",
    "std = train[titles].values.std(axis=0)\n",
    "featuresPredTest = predTest[titles]\n",
    "predTestRange = int(featuresPredTest.shape[0])\n",
    "featuresPredTest = normalize(featuresPredTest.values)\n",
    "featuresPredTest = pd.DataFrame(featuresPredTest)\n",
    "x_predTest = featuresPredTest[[i for i in range(10)]].values\n",
    "y_predTest = featuresPredTest.iloc[0:][[10]]\n",
    "\n",
    "datasetPredTest = keras.preprocessing.timeseries_dataset_from_array(\n",
    "    x_predTest,\n",
    "    y_predTest,\n",
    "    sequence_length=1,\n",
    "    sampling_rate=1,\n",
    "    batch_size=1\n",
    ")\n",
    "\n",
    "for x, y in datasetPredTest.take(10):\n",
    "    predictionData = model.predict(x)\n",
    "    denormalized_predictionData = denormalize(predictionData)\n",
    "    print(\"predicted denormalized:\", denormalized_predictionData)\n",
    "    print(\"   actual denormalized:\", denormalize(y[0].numpy()))\n",
    "    print(\"             predicted:\", predictionData)\n",
    "    print(\"                actual:\", y[0].numpy())"
   ]
  },
  {
   "cell_type": "code",
   "execution_count": null,
   "metadata": {},
   "outputs": [],
   "source": [
    "# for x,y in datasetPredTest.take(2):\n",
    "#     print(x[0][0].numpy(\n",
    "normalize(featuresPredTest.values)"
   ]
  },
  {
   "cell_type": "code",
   "execution_count": null,
   "metadata": {},
   "outputs": [],
   "source": []
  },
  {
   "cell_type": "code",
   "execution_count": 24,
   "metadata": {},
   "outputs": [
    {
     "output_type": "stream",
     "name": "stdout",
     "text": [
      "3169.671454078709 2762.383514099783\n-407.2879399789258\n"
     ]
    }
   ],
   "source": [
    "cc=denormalize(0.4095)\n",
    "cc2=denormalize(0)\n",
    "print(cc, cc2)\n",
    "print(cc2 - cc)"
   ]
  },
  {
   "cell_type": "code",
   "execution_count": null,
   "metadata": {},
   "outputs": [],
   "source": [
    "x_train"
   ]
  },
  {
   "cell_type": "code",
   "execution_count": null,
   "metadata": {},
   "outputs": [],
   "source": [
    "x_train.shape"
   ]
  },
  {
   "cell_type": "code",
   "execution_count": null,
   "metadata": {},
   "outputs": [],
   "source": [
    "y_train"
   ]
  },
  {
   "cell_type": "code",
   "execution_count": null,
   "metadata": {},
   "outputs": [],
   "source": [
    "y_train.shape"
   ]
  },
  {
   "cell_type": "code",
   "execution_count": null,
   "metadata": {},
   "outputs": [],
   "source": [
    "mean"
   ]
  },
  {
   "cell_type": "code",
   "execution_count": null,
   "metadata": {},
   "outputs": [],
   "source": [
    "std"
   ]
  },
  {
   "cell_type": "code",
   "execution_count": null,
   "metadata": {},
   "outputs": [],
   "source": [
    "train[titles].values.mean(axis=0)"
   ]
  },
  {
   "cell_type": "code",
   "execution_count": null,
   "metadata": {},
   "outputs": [],
   "source": [
    "test = [[[3.96250010e+00, 5.92916600e+07, 7.00000000e+00, 7.00000000e+00, 4.53000021e+00, 1.08999996e+01, 1.99000000e+02, 2.00000000e+01, 4.00000000e+00, 0.00000000e+00]]]"
   ]
  },
  {
   "cell_type": "code",
   "execution_count": null,
   "metadata": {},
   "outputs": [],
   "source": [
    "test"
   ]
  },
  {
   "cell_type": "code",
   "execution_count": null,
   "metadata": {},
   "outputs": [],
   "source": [
    "(test-train[titles].values.mean(axis=0))/train[titles].values.std(axis=0)"
   ]
  },
  {
   "cell_type": "code",
   "execution_count": 17,
   "metadata": {},
   "outputs": [
    {
     "output_type": "execute_result",
     "data": {
      "text/plain": [
       "array([-1.75083294e+03,  2.00750551e+02,  1.66239649e+09,  1.19796115e+01,\n",
       "        1.91216897e+00,  4.49067901e+00,  9.55689590e+00,  2.18859067e+02,\n",
       "        2.18968203e+01,  4.37936406e+00,  2.73739641e+03])"
      ]
     },
     "metadata": {},
     "execution_count": 17
    }
   ],
   "source": [
    "train[titles].values.mean(axis=0)"
   ]
  },
  {
   "cell_type": "code",
   "execution_count": 18,
   "metadata": {},
   "outputs": [
    {
     "output_type": "execute_result",
     "data": {
      "text/plain": [
       "array([1.83037727e+02, 9.15228348e+01, 7.60116407e+08, 3.36948488e+00,\n",
       "       1.38422981e+00, 1.60899072e+00, 2.72736533e+00, 7.63923341e+01,\n",
       "       7.56692744e+00, 1.51338549e+00, 1.01327208e+03])"
      ]
     },
     "metadata": {},
     "execution_count": 18
    }
   ],
   "source": [
    "train[titles].values.std(axis=0)"
   ]
  },
  {
   "cell_type": "code",
   "execution_count": null,
   "metadata": {},
   "outputs": [],
   "source": [
    "targets"
   ]
  },
  {
   "cell_type": "code",
   "execution_count": null,
   "metadata": {},
   "outputs": [],
   "source": [
    "train_data.shape"
   ]
  },
  {
   "cell_type": "code",
   "execution_count": 14,
   "metadata": {},
   "outputs": [
    {
     "data": {
      "text/plain": [
       "array([[ 1.18080767],\n",
       "       [ 0.19404747],\n",
       "       [ 0.36203571],\n",
       "       ...,\n",
       "       [-0.93475157],\n",
       "       [-0.51751248],\n",
       "       [-0.90675353]])"
      ]
     },
     "execution_count": 14,
     "metadata": {},
     "output_type": "execute_result"
    }
   ],
   "source": [
    "y_val.values"
   ]
  },
  {
   "cell_type": "code",
   "execution_count": 13,
   "metadata": {},
   "outputs": [
    {
     "data": {
      "text/plain": [
       "(52895, 7)"
      ]
     },
     "execution_count": 13,
     "metadata": {},
     "output_type": "execute_result"
    }
   ],
   "source": [
    "x_val.shape"
   ]
  },
  {
   "cell_type": "code",
   "execution_count": null,
   "metadata": {},
   "outputs": [],
   "source": []
  }
 ],
 "metadata": {
  "kernelspec": {
   "name": "python3",
   "display_name": "Python 3.8.7 64-bit"
  },
  "language_info": {
   "codemirror_mode": {
    "name": "ipython",
    "version": 3
   },
   "file_extension": ".py",
   "mimetype": "text/x-python",
   "name": "python",
   "nbconvert_exporter": "python",
   "pygments_lexer": "ipython3",
   "version": "3.8.7"
  },
  "interpreter": {
   "hash": "a8154e9a2ed6d4d929a2cd1b449f3e91e1744d4bfba7f152c541c1ec729f27fc"
  }
 },
 "nbformat": 4,
 "nbformat_minor": 4
}