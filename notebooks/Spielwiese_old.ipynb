{
 "cells": [
  {
   "cell_type": "code",
   "execution_count": 1,
   "metadata": {},
   "outputs": [
    {
     "output_type": "display_data",
     "data": {
      "text/html": "        <script type=\"text/javascript\">\n        window.PlotlyConfig = {MathJaxConfig: 'local'};\n        if (window.MathJax) {MathJax.Hub.Config({SVG: {font: \"STIX-Web\"}});}\n        if (typeof require !== 'undefined') {\n        require.undef(\"plotly\");\n        requirejs.config({\n            paths: {\n                'plotly': ['https://cdn.plot.ly/plotly-latest.min']\n            }\n        });\n        require(['plotly'], function(Plotly) {\n            window._Plotly = Plotly;\n        });\n        }\n        </script>\n        "
     },
     "metadata": {}
    },
    {
     "output_type": "execute_result",
     "data": {
      "text/plain": [
       "           Lateness      Assembly      Material    OpenOrders     NewOrders  \\\n",
       "count  21706.000000  21706.000000  2.170600e+04  21706.000000  21706.000000   \n",
       "mean   -1750.762506    200.791858  1.662879e+09     12.014881      1.922740   \n",
       "std      183.024606     91.489176  7.597969e+08      3.342536      1.380742   \n",
       "min    -3117.000000      6.721726  3.780357e+07      3.000000      0.000000   \n",
       "25%    -1855.503600    124.365403  1.036997e+09     10.000000      1.000000   \n",
       "50%    -1757.102200    211.274055  1.745468e+09     12.000000      2.000000   \n",
       "75%    -1643.731700    279.481000  2.312577e+09     14.000000      3.000000   \n",
       "max        0.000000    393.516050  3.205616e+09     28.000000      9.000000   \n",
       "\n",
       "          TotalWork   TotalSetup   SumDuration  SumOperations  \\\n",
       "count  21706.000000  21706.00000  21706.000000   21706.000000   \n",
       "mean       4.515505      9.60973    218.946190      21.905234   \n",
       "std        1.578346      2.64050     76.466116       7.574202   \n",
       "min        0.000000      0.00000    133.000000      15.000000   \n",
       "25%        3.510000      8.26000    151.000000      15.000000   \n",
       "50%        4.650000     10.41000    201.000000      20.000000   \n",
       "75%        5.620000     11.59000    256.000000      25.000000   \n",
       "max       10.070000     13.71000    575.000000      55.000000   \n",
       "\n",
       "       ProductionOrders     CycleTime  \n",
       "count      21706.000000  21706.000000  \n",
       "mean           4.381047   2738.647931  \n",
       "std            1.514840   1014.141497  \n",
       "min            3.000000   1332.000000  \n",
       "25%            3.000000   1952.000000  \n",
       "50%            4.000000   2494.000000  \n",
       "75%            5.000000   3352.000000  \n",
       "max           11.000000   8582.000000  "
      ],
      "text/html": "<div>\n<style scoped>\n    .dataframe tbody tr th:only-of-type {\n        vertical-align: middle;\n    }\n\n    .dataframe tbody tr th {\n        vertical-align: top;\n    }\n\n    .dataframe thead th {\n        text-align: right;\n    }\n</style>\n<table border=\"1\" class=\"dataframe\">\n  <thead>\n    <tr style=\"text-align: right;\">\n      <th></th>\n      <th>Lateness</th>\n      <th>Assembly</th>\n      <th>Material</th>\n      <th>OpenOrders</th>\n      <th>NewOrders</th>\n      <th>TotalWork</th>\n      <th>TotalSetup</th>\n      <th>SumDuration</th>\n      <th>SumOperations</th>\n      <th>ProductionOrders</th>\n      <th>CycleTime</th>\n    </tr>\n  </thead>\n  <tbody>\n    <tr>\n      <th>count</th>\n      <td>21706.000000</td>\n      <td>21706.000000</td>\n      <td>2.170600e+04</td>\n      <td>21706.000000</td>\n      <td>21706.000000</td>\n      <td>21706.000000</td>\n      <td>21706.00000</td>\n      <td>21706.000000</td>\n      <td>21706.000000</td>\n      <td>21706.000000</td>\n      <td>21706.000000</td>\n    </tr>\n    <tr>\n      <th>mean</th>\n      <td>-1750.762506</td>\n      <td>200.791858</td>\n      <td>1.662879e+09</td>\n      <td>12.014881</td>\n      <td>1.922740</td>\n      <td>4.515505</td>\n      <td>9.60973</td>\n      <td>218.946190</td>\n      <td>21.905234</td>\n      <td>4.381047</td>\n      <td>2738.647931</td>\n    </tr>\n    <tr>\n      <th>std</th>\n      <td>183.024606</td>\n      <td>91.489176</td>\n      <td>7.597969e+08</td>\n      <td>3.342536</td>\n      <td>1.380742</td>\n      <td>1.578346</td>\n      <td>2.64050</td>\n      <td>76.466116</td>\n      <td>7.574202</td>\n      <td>1.514840</td>\n      <td>1014.141497</td>\n    </tr>\n    <tr>\n      <th>min</th>\n      <td>-3117.000000</td>\n      <td>6.721726</td>\n      <td>3.780357e+07</td>\n      <td>3.000000</td>\n      <td>0.000000</td>\n      <td>0.000000</td>\n      <td>0.00000</td>\n      <td>133.000000</td>\n      <td>15.000000</td>\n      <td>3.000000</td>\n      <td>1332.000000</td>\n    </tr>\n    <tr>\n      <th>25%</th>\n      <td>-1855.503600</td>\n      <td>124.365403</td>\n      <td>1.036997e+09</td>\n      <td>10.000000</td>\n      <td>1.000000</td>\n      <td>3.510000</td>\n      <td>8.26000</td>\n      <td>151.000000</td>\n      <td>15.000000</td>\n      <td>3.000000</td>\n      <td>1952.000000</td>\n    </tr>\n    <tr>\n      <th>50%</th>\n      <td>-1757.102200</td>\n      <td>211.274055</td>\n      <td>1.745468e+09</td>\n      <td>12.000000</td>\n      <td>2.000000</td>\n      <td>4.650000</td>\n      <td>10.41000</td>\n      <td>201.000000</td>\n      <td>20.000000</td>\n      <td>4.000000</td>\n      <td>2494.000000</td>\n    </tr>\n    <tr>\n      <th>75%</th>\n      <td>-1643.731700</td>\n      <td>279.481000</td>\n      <td>2.312577e+09</td>\n      <td>14.000000</td>\n      <td>3.000000</td>\n      <td>5.620000</td>\n      <td>11.59000</td>\n      <td>256.000000</td>\n      <td>25.000000</td>\n      <td>5.000000</td>\n      <td>3352.000000</td>\n    </tr>\n    <tr>\n      <th>max</th>\n      <td>0.000000</td>\n      <td>393.516050</td>\n      <td>3.205616e+09</td>\n      <td>28.000000</td>\n      <td>9.000000</td>\n      <td>10.070000</td>\n      <td>13.71000</td>\n      <td>575.000000</td>\n      <td>55.000000</td>\n      <td>11.000000</td>\n      <td>8582.000000</td>\n    </tr>\n  </tbody>\n</table>\n</div>"
     },
     "metadata": {},
     "execution_count": 1
    }
   ],
   "source": [
    "import warnings\n",
    "import numpy as np\n",
    "import pandas as pd\n",
    "import matplotlib.pyplot as plt\n",
    "import keras\n",
    "from keras.utils.vis_utils import plot_model\n",
    "import sklearn\n",
    "import chart_studio.plotly as py\n",
    "import plotly.graph_objs as go\n",
    "from plotly.offline import init_notebook_mode, iplot\n",
    "import math\n",
    "import matplotlib.pyplot as plt\n",
    "\n",
    "%matplotlib inline\n",
    "warnings.filterwarnings(\"ignore\")\n",
    "init_notebook_mode(connected=True)\n",
    "\n",
    "# Set seeds to make the experiment more reproducible.\n",
    "#from tensorflow import set_random_seed\n",
    "from numpy.random import seed\n",
    "#set_random_seed(1)\n",
    "seed(1)\n",
    "\n",
    "train = pd.read_csv('../data/train.csv',',')\n",
    "\n",
    "train.describe()"
   ]
  },
  {
   "cell_type": "code",
   "execution_count": 2,
   "metadata": {},
   "outputs": [
    {
     "output_type": "execute_result",
     "data": {
      "text/plain": [
       "        Lateness    Assembly      Material  OpenOrders  NewOrders  TotalWork  \\\n",
       "0     -1163.0000   26.124107  1.257440e+08          13          1       3.90   \n",
       "1     -1168.0000   27.706510  1.567474e+08          11          2       3.92   \n",
       "2     -1262.1111   28.959490  1.743148e+08          11          2       3.55   \n",
       "3     -1280.5834   29.413542  1.859812e+08          10          2       3.69   \n",
       "4     -1551.2667   38.375523  2.441354e+08          10          0       4.32   \n",
       "...          ...         ...           ...         ...        ...        ...   \n",
       "21701 -1764.1119  345.123660  2.865520e+09          15          1       4.52   \n",
       "21702 -1768.2643  345.343660  2.852534e+09          15          3       2.75   \n",
       "21703 -1774.1343  345.276700  2.896368e+09          16          4       4.44   \n",
       "21704 -1773.7039  347.674400  2.907367e+09          16          4       5.57   \n",
       "21705 -1776.4913  349.401400  2.925024e+09          17          3       6.20   \n",
       "\n",
       "       TotalSetup  SumDuration  SumOperations  ProductionOrders  CycleTime  \n",
       "0            9.66          153             15                 3       1995  \n",
       "1           10.30          214             20                 4       3148  \n",
       "2            8.24          249             25                 5       3364  \n",
       "3            9.17          155             15                 3       1750  \n",
       "4            9.93          248             25                 5       2814  \n",
       "...           ...          ...            ...               ...        ...  \n",
       "21701       10.42          198             20                 4       2313  \n",
       "21702        5.35          154             15                 3       2042  \n",
       "21703        9.42          347             35                 7       3546  \n",
       "21704       10.23          252             25                 5       2903  \n",
       "21705       11.32          194             20                 4       2103  \n",
       "\n",
       "[21706 rows x 11 columns]"
      ],
      "text/html": "<div>\n<style scoped>\n    .dataframe tbody tr th:only-of-type {\n        vertical-align: middle;\n    }\n\n    .dataframe tbody tr th {\n        vertical-align: top;\n    }\n\n    .dataframe thead th {\n        text-align: right;\n    }\n</style>\n<table border=\"1\" class=\"dataframe\">\n  <thead>\n    <tr style=\"text-align: right;\">\n      <th></th>\n      <th>Lateness</th>\n      <th>Assembly</th>\n      <th>Material</th>\n      <th>OpenOrders</th>\n      <th>NewOrders</th>\n      <th>TotalWork</th>\n      <th>TotalSetup</th>\n      <th>SumDuration</th>\n      <th>SumOperations</th>\n      <th>ProductionOrders</th>\n      <th>CycleTime</th>\n    </tr>\n  </thead>\n  <tbody>\n    <tr>\n      <th>0</th>\n      <td>-1163.0000</td>\n      <td>26.124107</td>\n      <td>1.257440e+08</td>\n      <td>13</td>\n      <td>1</td>\n      <td>3.90</td>\n      <td>9.66</td>\n      <td>153</td>\n      <td>15</td>\n      <td>3</td>\n      <td>1995</td>\n    </tr>\n    <tr>\n      <th>1</th>\n      <td>-1168.0000</td>\n      <td>27.706510</td>\n      <td>1.567474e+08</td>\n      <td>11</td>\n      <td>2</td>\n      <td>3.92</td>\n      <td>10.30</td>\n      <td>214</td>\n      <td>20</td>\n      <td>4</td>\n      <td>3148</td>\n    </tr>\n    <tr>\n      <th>2</th>\n      <td>-1262.1111</td>\n      <td>28.959490</td>\n      <td>1.743148e+08</td>\n      <td>11</td>\n      <td>2</td>\n      <td>3.55</td>\n      <td>8.24</td>\n      <td>249</td>\n      <td>25</td>\n      <td>5</td>\n      <td>3364</td>\n    </tr>\n    <tr>\n      <th>3</th>\n      <td>-1280.5834</td>\n      <td>29.413542</td>\n      <td>1.859812e+08</td>\n      <td>10</td>\n      <td>2</td>\n      <td>3.69</td>\n      <td>9.17</td>\n      <td>155</td>\n      <td>15</td>\n      <td>3</td>\n      <td>1750</td>\n    </tr>\n    <tr>\n      <th>4</th>\n      <td>-1551.2667</td>\n      <td>38.375523</td>\n      <td>2.441354e+08</td>\n      <td>10</td>\n      <td>0</td>\n      <td>4.32</td>\n      <td>9.93</td>\n      <td>248</td>\n      <td>25</td>\n      <td>5</td>\n      <td>2814</td>\n    </tr>\n    <tr>\n      <th>...</th>\n      <td>...</td>\n      <td>...</td>\n      <td>...</td>\n      <td>...</td>\n      <td>...</td>\n      <td>...</td>\n      <td>...</td>\n      <td>...</td>\n      <td>...</td>\n      <td>...</td>\n      <td>...</td>\n    </tr>\n    <tr>\n      <th>21701</th>\n      <td>-1764.1119</td>\n      <td>345.123660</td>\n      <td>2.865520e+09</td>\n      <td>15</td>\n      <td>1</td>\n      <td>4.52</td>\n      <td>10.42</td>\n      <td>198</td>\n      <td>20</td>\n      <td>4</td>\n      <td>2313</td>\n    </tr>\n    <tr>\n      <th>21702</th>\n      <td>-1768.2643</td>\n      <td>345.343660</td>\n      <td>2.852534e+09</td>\n      <td>15</td>\n      <td>3</td>\n      <td>2.75</td>\n      <td>5.35</td>\n      <td>154</td>\n      <td>15</td>\n      <td>3</td>\n      <td>2042</td>\n    </tr>\n    <tr>\n      <th>21703</th>\n      <td>-1774.1343</td>\n      <td>345.276700</td>\n      <td>2.896368e+09</td>\n      <td>16</td>\n      <td>4</td>\n      <td>4.44</td>\n      <td>9.42</td>\n      <td>347</td>\n      <td>35</td>\n      <td>7</td>\n      <td>3546</td>\n    </tr>\n    <tr>\n      <th>21704</th>\n      <td>-1773.7039</td>\n      <td>347.674400</td>\n      <td>2.907367e+09</td>\n      <td>16</td>\n      <td>4</td>\n      <td>5.57</td>\n      <td>10.23</td>\n      <td>252</td>\n      <td>25</td>\n      <td>5</td>\n      <td>2903</td>\n    </tr>\n    <tr>\n      <th>21705</th>\n      <td>-1776.4913</td>\n      <td>349.401400</td>\n      <td>2.925024e+09</td>\n      <td>17</td>\n      <td>3</td>\n      <td>6.20</td>\n      <td>11.32</td>\n      <td>194</td>\n      <td>20</td>\n      <td>4</td>\n      <td>2103</td>\n    </tr>\n  </tbody>\n</table>\n<p>21706 rows × 11 columns</p>\n</div>"
     },
     "metadata": {},
     "execution_count": 2
    }
   ],
   "source": [
    "train"
   ]
  },
  {
   "cell_type": "code",
   "execution_count": 3,
   "metadata": {},
   "outputs": [],
   "source": [
    "split_fraction = 0.70\n",
    "train_split = int(split_fraction * int(train.shape[0]))\n",
    "step = 1\n",
    "\n",
    "#past = 0\n",
    "#future = 8\n",
    "learning_rate = 0.0005\n",
    "batch = 32\n",
    "epochs = 100\n",
    "mean = 0\n",
    "std = 0\n",
    "\n",
    "def normalize(data, train_split):\n",
    "    global mean\n",
    "    global std\n",
    "    data_mean = data[:train_split].mean(axis=0)\n",
    "    mean = data_mean\n",
    "    data_std = data[:train_split].std(axis=0)\n",
    "    std = data_std\n",
    "    return (data - data_mean) / data_std"
   ]
  },
  {
   "cell_type": "code",
   "execution_count": 4,
   "metadata": {},
   "outputs": [
    {
     "output_type": "execute_result",
     "data": {
      "text/plain": [
       "         0         1         2         3         4         5         6   \\\n",
       "0  3.405968 -1.906047 -2.020762  0.267011 -0.678643 -0.404097 -0.042477   \n",
       "1  3.377791 -1.888892 -1.980294 -0.322578  0.042276 -0.391717  0.194175   \n",
       "2  2.847446 -1.875308 -1.957363 -0.322578  0.042276 -0.620752 -0.567549   \n",
       "3  2.743349 -1.870386 -1.942135 -0.617373  0.042276 -0.534090 -0.223664   \n",
       "4  1.217965 -1.773229 -1.866226 -0.617373 -1.399562 -0.144112  0.057360   \n",
       "\n",
       "         7         8         9         10  \n",
       "0 -0.843696 -0.900201 -0.900201 -0.718531  \n",
       "1 -0.053710 -0.243348 -0.243348  0.409725  \n",
       "2  0.399561  0.413506  0.413506  0.621089  \n",
       "3 -0.817795 -0.900201 -0.900201 -0.958274  \n",
       "4  0.386610  0.413506  0.413506  0.082892  "
      ],
      "text/html": "<div>\n<style scoped>\n    .dataframe tbody tr th:only-of-type {\n        vertical-align: middle;\n    }\n\n    .dataframe tbody tr th {\n        vertical-align: top;\n    }\n\n    .dataframe thead th {\n        text-align: right;\n    }\n</style>\n<table border=\"1\" class=\"dataframe\">\n  <thead>\n    <tr style=\"text-align: right;\">\n      <th></th>\n      <th>0</th>\n      <th>1</th>\n      <th>2</th>\n      <th>3</th>\n      <th>4</th>\n      <th>5</th>\n      <th>6</th>\n      <th>7</th>\n      <th>8</th>\n      <th>9</th>\n      <th>10</th>\n    </tr>\n  </thead>\n  <tbody>\n    <tr>\n      <th>0</th>\n      <td>3.405968</td>\n      <td>-1.906047</td>\n      <td>-2.020762</td>\n      <td>0.267011</td>\n      <td>-0.678643</td>\n      <td>-0.404097</td>\n      <td>-0.042477</td>\n      <td>-0.843696</td>\n      <td>-0.900201</td>\n      <td>-0.900201</td>\n      <td>-0.718531</td>\n    </tr>\n    <tr>\n      <th>1</th>\n      <td>3.377791</td>\n      <td>-1.888892</td>\n      <td>-1.980294</td>\n      <td>-0.322578</td>\n      <td>0.042276</td>\n      <td>-0.391717</td>\n      <td>0.194175</td>\n      <td>-0.053710</td>\n      <td>-0.243348</td>\n      <td>-0.243348</td>\n      <td>0.409725</td>\n    </tr>\n    <tr>\n      <th>2</th>\n      <td>2.847446</td>\n      <td>-1.875308</td>\n      <td>-1.957363</td>\n      <td>-0.322578</td>\n      <td>0.042276</td>\n      <td>-0.620752</td>\n      <td>-0.567549</td>\n      <td>0.399561</td>\n      <td>0.413506</td>\n      <td>0.413506</td>\n      <td>0.621089</td>\n    </tr>\n    <tr>\n      <th>3</th>\n      <td>2.743349</td>\n      <td>-1.870386</td>\n      <td>-1.942135</td>\n      <td>-0.617373</td>\n      <td>0.042276</td>\n      <td>-0.534090</td>\n      <td>-0.223664</td>\n      <td>-0.817795</td>\n      <td>-0.900201</td>\n      <td>-0.900201</td>\n      <td>-0.958274</td>\n    </tr>\n    <tr>\n      <th>4</th>\n      <td>1.217965</td>\n      <td>-1.773229</td>\n      <td>-1.866226</td>\n      <td>-0.617373</td>\n      <td>-1.399562</td>\n      <td>-0.144112</td>\n      <td>0.057360</td>\n      <td>0.386610</td>\n      <td>0.413506</td>\n      <td>0.413506</td>\n      <td>0.082892</td>\n    </tr>\n  </tbody>\n</table>\n</div>"
     },
     "metadata": {},
     "execution_count": 4
    }
   ],
   "source": [
    "titles = ['Lateness',\n",
    "          'Assembly',\n",
    "          'Material',\n",
    "          'OpenOrders',\n",
    "          'NewOrders',\n",
    "          'TotalWork',\n",
    "          'TotalSetup',\n",
    "          'SumDuration',\n",
    "          'SumOperations',\n",
    "          'ProductionOrders',\n",
    "          'CycleTime']\n",
    "#  \n",
    "# for c in train.columns:\n",
    "#     titles.append(c);\n",
    "    \n",
    "features = train[titles]\n",
    "features = normalize(features.values, train_split)\n",
    "features = pd.DataFrame(features)\n",
    "features.head()"
   ]
  },
  {
   "cell_type": "code",
   "execution_count": 5,
   "metadata": {},
   "outputs": [
    {
     "output_type": "execute_result",
     "data": {
      "text/plain": [
       "             0         1         2         3         4         5         6   \\\n",
       "0      3.405968 -1.906047 -2.020762  0.267011 -0.678643 -0.404097 -0.042477   \n",
       "1      3.377791 -1.888892 -1.980294 -0.322578  0.042276 -0.391717  0.194175   \n",
       "2      2.847446 -1.875308 -1.957363 -0.322578  0.042276 -0.620752 -0.567549   \n",
       "3      2.743349 -1.870386 -1.942135 -0.617373  0.042276 -0.534090 -0.223664   \n",
       "4      1.217965 -1.773229 -1.866226 -0.617373 -1.399562 -0.144112  0.057360   \n",
       "...         ...       ...       ...       ...       ...       ...       ...   \n",
       "15189  0.182571 -0.769740 -0.765126 -0.617373  1.484113 -0.707413 -0.807899   \n",
       "15190  0.182571 -0.728774 -0.720268 -0.027784  0.042276  0.276817  0.456710   \n",
       "15191  0.156732 -0.714221 -0.728253 -0.027784  0.042276  0.016832  0.079546   \n",
       "15192  0.135317 -0.725662 -0.730165 -0.027784  0.042276 -1.010730 -0.216269   \n",
       "15193  0.205966 -0.648647 -0.678209 -0.027784 -1.399562  0.252056  0.194175   \n",
       "\n",
       "             7         8         9         10  \n",
       "0     -0.843696 -0.900201 -0.900201 -0.718531  \n",
       "1     -0.053710 -0.243348 -0.243348  0.409725  \n",
       "2      0.399561  0.413506  0.413506  0.621089  \n",
       "3     -0.817795 -0.900201 -0.900201 -0.958274  \n",
       "4      0.386610  0.413506  0.413506  0.082892  \n",
       "...         ...       ...       ...       ...  \n",
       "15189  0.347758  0.413506  0.413506  0.025159  \n",
       "15190 -0.934350 -0.900201 -0.900201 -0.530652  \n",
       "15191 -0.869597 -0.900201 -0.900201 -0.804643  \n",
       "15192  1.668719  1.727213  1.727213  1.513517  \n",
       "15193 -1.025004 -0.900201 -0.900201 -1.220522  \n",
       "\n",
       "[15194 rows x 11 columns]"
      ],
      "text/html": "<div>\n<style scoped>\n    .dataframe tbody tr th:only-of-type {\n        vertical-align: middle;\n    }\n\n    .dataframe tbody tr th {\n        vertical-align: top;\n    }\n\n    .dataframe thead th {\n        text-align: right;\n    }\n</style>\n<table border=\"1\" class=\"dataframe\">\n  <thead>\n    <tr style=\"text-align: right;\">\n      <th></th>\n      <th>0</th>\n      <th>1</th>\n      <th>2</th>\n      <th>3</th>\n      <th>4</th>\n      <th>5</th>\n      <th>6</th>\n      <th>7</th>\n      <th>8</th>\n      <th>9</th>\n      <th>10</th>\n    </tr>\n  </thead>\n  <tbody>\n    <tr>\n      <th>0</th>\n      <td>3.405968</td>\n      <td>-1.906047</td>\n      <td>-2.020762</td>\n      <td>0.267011</td>\n      <td>-0.678643</td>\n      <td>-0.404097</td>\n      <td>-0.042477</td>\n      <td>-0.843696</td>\n      <td>-0.900201</td>\n      <td>-0.900201</td>\n      <td>-0.718531</td>\n    </tr>\n    <tr>\n      <th>1</th>\n      <td>3.377791</td>\n      <td>-1.888892</td>\n      <td>-1.980294</td>\n      <td>-0.322578</td>\n      <td>0.042276</td>\n      <td>-0.391717</td>\n      <td>0.194175</td>\n      <td>-0.053710</td>\n      <td>-0.243348</td>\n      <td>-0.243348</td>\n      <td>0.409725</td>\n    </tr>\n    <tr>\n      <th>2</th>\n      <td>2.847446</td>\n      <td>-1.875308</td>\n      <td>-1.957363</td>\n      <td>-0.322578</td>\n      <td>0.042276</td>\n      <td>-0.620752</td>\n      <td>-0.567549</td>\n      <td>0.399561</td>\n      <td>0.413506</td>\n      <td>0.413506</td>\n      <td>0.621089</td>\n    </tr>\n    <tr>\n      <th>3</th>\n      <td>2.743349</td>\n      <td>-1.870386</td>\n      <td>-1.942135</td>\n      <td>-0.617373</td>\n      <td>0.042276</td>\n      <td>-0.534090</td>\n      <td>-0.223664</td>\n      <td>-0.817795</td>\n      <td>-0.900201</td>\n      <td>-0.900201</td>\n      <td>-0.958274</td>\n    </tr>\n    <tr>\n      <th>4</th>\n      <td>1.217965</td>\n      <td>-1.773229</td>\n      <td>-1.866226</td>\n      <td>-0.617373</td>\n      <td>-1.399562</td>\n      <td>-0.144112</td>\n      <td>0.057360</td>\n      <td>0.386610</td>\n      <td>0.413506</td>\n      <td>0.413506</td>\n      <td>0.082892</td>\n    </tr>\n    <tr>\n      <th>...</th>\n      <td>...</td>\n      <td>...</td>\n      <td>...</td>\n      <td>...</td>\n      <td>...</td>\n      <td>...</td>\n      <td>...</td>\n      <td>...</td>\n      <td>...</td>\n      <td>...</td>\n      <td>...</td>\n    </tr>\n    <tr>\n      <th>15189</th>\n      <td>0.182571</td>\n      <td>-0.769740</td>\n      <td>-0.765126</td>\n      <td>-0.617373</td>\n      <td>1.484113</td>\n      <td>-0.707413</td>\n      <td>-0.807899</td>\n      <td>0.347758</td>\n      <td>0.413506</td>\n      <td>0.413506</td>\n      <td>0.025159</td>\n    </tr>\n    <tr>\n      <th>15190</th>\n      <td>0.182571</td>\n      <td>-0.728774</td>\n      <td>-0.720268</td>\n      <td>-0.027784</td>\n      <td>0.042276</td>\n      <td>0.276817</td>\n      <td>0.456710</td>\n      <td>-0.934350</td>\n      <td>-0.900201</td>\n      <td>-0.900201</td>\n      <td>-0.530652</td>\n    </tr>\n    <tr>\n      <th>15191</th>\n      <td>0.156732</td>\n      <td>-0.714221</td>\n      <td>-0.728253</td>\n      <td>-0.027784</td>\n      <td>0.042276</td>\n      <td>0.016832</td>\n      <td>0.079546</td>\n      <td>-0.869597</td>\n      <td>-0.900201</td>\n      <td>-0.900201</td>\n      <td>-0.804643</td>\n    </tr>\n    <tr>\n      <th>15192</th>\n      <td>0.135317</td>\n      <td>-0.725662</td>\n      <td>-0.730165</td>\n      <td>-0.027784</td>\n      <td>0.042276</td>\n      <td>-1.010730</td>\n      <td>-0.216269</td>\n      <td>1.668719</td>\n      <td>1.727213</td>\n      <td>1.727213</td>\n      <td>1.513517</td>\n    </tr>\n    <tr>\n      <th>15193</th>\n      <td>0.205966</td>\n      <td>-0.648647</td>\n      <td>-0.678209</td>\n      <td>-0.027784</td>\n      <td>-1.399562</td>\n      <td>0.252056</td>\n      <td>0.194175</td>\n      <td>-1.025004</td>\n      <td>-0.900201</td>\n      <td>-0.900201</td>\n      <td>-1.220522</td>\n    </tr>\n  </tbody>\n</table>\n<p>15194 rows × 11 columns</p>\n</div>"
     },
     "metadata": {},
     "execution_count": 5
    }
   ],
   "source": [
    "train_data = features.loc[0 : train_split - 1] #Training Data\n",
    "val_data = features.loc[train_split:] #Validation Data\n",
    "train_data"
   ]
  },
  {
   "cell_type": "code",
   "execution_count": 6,
   "metadata": {},
   "outputs": [
    {
     "output_type": "execute_result",
     "data": {
      "text/plain": [
       "array([ 3.40596794, -1.90604653, -2.02076244,  0.26701077, -0.67864301,\n",
       "       -0.40409715, -0.0424774 , -0.84369596, -0.90020148, -0.90020148])"
      ]
     },
     "metadata": {},
     "execution_count": 6
    }
   ],
   "source": [
    "#start = past + future\n",
    "start = 0\n",
    "end = start + train_split\n",
    "\n",
    "x_train = train_data[[i for i in range(len(titles) - 1)]].values\n",
    "y_train = features.iloc[start:end][[len(titles)-1]]\n",
    "\n",
    "#sequence_length = int(past / step)\n",
    "sequence_length = 1\n",
    "x_train[0]"
   ]
  },
  {
   "cell_type": "code",
   "execution_count": 7,
   "metadata": {},
   "outputs": [],
   "source": [
    "dataset_train = keras.preprocessing.timeseries_dataset_from_array(\n",
    "    x_train,\n",
    "    y_train,\n",
    "    sequence_length=sequence_length,\n",
    "    sampling_rate=step,\n",
    "    batch_size=batch\n",
    ")"
   ]
  },
  {
   "cell_type": "code",
   "execution_count": 8,
   "metadata": {},
   "outputs": [
    {
     "output_type": "stream",
     "name": "stdout",
     "text": [
      "[[ 0.18607997 -0.60729696 -0.65313019 ...  1.03413971  1.07035914\n   1.07035914]\n [ 0.22475679 -0.62240021 -0.65231699 ...  1.07299148  1.07035914\n   1.07035914]\n [ 0.28731549 -0.56523332 -0.61179663 ... -0.26091937 -0.24334794\n  -0.24334794]\n ...\n [-0.03796304  1.55388793  1.59573777 ...  1.66871866  1.72721268\n   1.72721268]\n [-0.0355376   1.5798814   1.61009491 ...  0.43841253  0.4135056\n   0.4135056 ]\n [-0.05124546  1.59860382  1.63314237 ... -0.31272174 -0.24334794\n  -0.24334794]]\n             10\n15194  1.206256\n15195  0.884316\n15196 -0.029640\n15197 -0.779201\n15198  1.194513\n...         ...\n21701 -0.407356\n21702 -0.672540\n21703  0.799183\n21704  0.169983\n21705 -0.612849\n\n[6512 rows x 1 columns]\nInput shape: (32, 1, 10)\nTarget shape: (32, 1)\ntf.Tensor(\n[[[ 3.40596794 -1.90604653 -2.02076244  0.26701077 -0.67864301\n   -0.40409715 -0.0424774  -0.84369596 -0.90020148 -0.90020148]]\n\n [[ 3.37779139 -1.88889169 -1.9802937  -0.32257819  0.04227581\n   -0.39171689  0.19417457 -0.05370992 -0.24334794 -0.24334794]]\n\n [[ 2.84744621 -1.87530813 -1.95736292 -0.32257819  0.04227581\n   -0.62075164 -0.56754896  0.39956076  0.4135056   0.4135056 ]]\n\n [[ 2.74334908 -1.87038575 -1.9421347  -0.61737266  0.04227581\n   -0.53408984 -0.22366407 -0.81779478 -0.90020148 -0.90020148]]\n\n [[ 1.21796488 -1.77322888 -1.86622596 -0.61737266 -1.39956184\n   -0.14411176  0.05736015  0.38661017  0.4135056   0.4135056 ]]\n\n [[ 0.76050285 -1.76331605 -1.8269194  -1.20696162 -0.67864301\n   -0.62075164 -0.62671196  1.73347162  1.72721268  1.72721268]]\n\n [[ 0.8798125  -1.74059562 -1.83887718 -1.79655057 -1.39956184\n   -1.54308075 -1.36255168 -0.94730069 -0.90020148 -0.90020148]]\n\n [[ 0.8798125  -1.76863701 -1.8345758  -1.20696162  0.04227581\n   -2.52731114 -3.1522322  -0.80484419 -0.90020148 -0.90020148]]\n\n [[ 0.5848835  -1.72976425 -1.75411162 -0.32257819  1.48411346\n    0.23967619  0.45301266  4.24588624  4.35462684  4.35462684]]\n\n [[ 0.6592245  -1.67090252 -1.67836825 -0.02778371  0.04227581\n    0.98868171  0.85975823 -0.90844892 -0.90020148 -0.90020148]]\n\n [[ 0.39513474 -1.57199135 -1.59116514  0.26701077  0.04227581\n    1.39723018  0.85975823  0.41251135  0.4135056   0.4135056 ]]\n\n [[ 0.14553899 -1.44713391 -1.51127182 -0.32257819 -1.39956184\n    0.66060491  0.5824317   2.96377775  3.04091976  3.04091976]]\n\n [[ 0.35804313 -1.44943448 -1.42573852  0.26701077  0.76319464\n   -0.97358895 -0.78201481  1.03413971  1.07035914  1.07035914]]\n\n [[ 0.8516816  -1.40829829 -1.2218213   0.56180524  2.92595111\n    1.10010402  0.81538599  0.54201726  0.4135056   0.4135056 ]]\n\n [[ 0.40782207 -1.32055581 -1.19948983  0.56180524 -0.67864301\n    1.51484261  0.89303741 -0.3645241  -0.24334794 -0.24334794]]\n\n [[ 0.40782207 -1.22233717 -1.20045195  1.1513942   0.04227581\n    0.82154825  0.74143225 -0.18321583 -0.24334794 -0.24334794]]\n\n [[ 0.307309   -1.18596838 -1.18107116  1.74098315  1.48411346\n    0.66060491  1.2110385  -0.05370992 -0.24334794 -0.24334794]]\n\n [[ 0.28126091 -1.15887509 -1.05923174  2.3305721   1.48411346\n    1.11248428  0.81538599 -0.75304183 -0.90020148 -0.90020148]]\n\n [[ 0.38135641 -1.09465786 -1.05518099  2.62536658  0.04227581\n    1.02582248  0.71554844 -0.31272174 -0.24334794 -0.24334794]]\n\n [[ 0.74289983 -1.0614214  -1.0097666   1.74098315 -0.67864301\n    0.89582979  0.47150109  0.46431371  0.4135056   0.4135056 ]]\n\n [[ 1.00556612 -0.99872989 -0.99746152  1.44618867  0.04227581\n    0.40680966  0.37166354 -0.84369596 -0.90020148 -0.90020148]]\n\n [[ 1.14131791 -0.97511362 -1.02832003  0.26701077 -1.39956184\n   -0.68265292 -0.55275822 -0.88254774 -0.90020148 -0.90020148]]\n\n [[ 1.10263546 -0.99627472 -1.05040535 -0.32257819 -0.67864301\n   -1.45641895 -1.22943494  0.30890662  0.4135056   0.4135056 ]]\n\n [[ 1.26299552 -1.02670059 -1.00252414 -0.02778371  0.76319464\n   -1.40689792 -1.25531875  1.73347162  1.72721268  1.72721268]]\n\n [[ 0.37283018 -0.99736581 -0.99466935 -1.20696162 -0.67864301\n    0.69155556  0.87454898 -0.7918936  -0.90020148 -0.90020148]]\n\n [[ 0.21902962 -1.01153435 -1.04722081 -1.79655057 -1.39956184\n   -1.9268687  -2.36462486 -0.84369596 -0.90020148 -0.90020148]]\n\n [[ 0.19657686 -1.05098394 -1.09312162 -2.09134504 -1.39956184\n   -2.62016306 -3.27795356 -0.9343501  -0.90020148 -0.90020148]]\n\n [[ 0.21058455 -1.06861105 -1.09449075 -1.79655057  0.04227581\n   -2.4096987  -2.7824635  -0.88254774 -0.90020148 -0.90020148]]\n\n [[ 0.21058455 -1.07115998 -0.94810519 -0.02778371  2.92595111\n    0.5925135   0.2977098   1.15069503  1.07035914  1.07035914]]\n\n [[ 0.08621496 -0.88792371 -0.87868009 -0.02778371 -1.39956184\n    1.11867441  1.12229401  1.87592812  1.72721268  1.72721268]]\n\n [[ 0.1549956  -0.8428329  -0.92645832 -0.91216714 -1.39956184\n   -2.70063473 -3.48872172 -0.28682056 -0.24334794 -0.24334794]]\n\n [[ 0.18674212 -0.83865232 -0.91547695 -0.32257819  1.48411346\n   -1.33261638 -0.90403848 -0.84369596 -0.90020148 -0.90020148]]], shape=(32, 1, 10), dtype=float64)\n"
     ]
    }
   ],
   "source": [
    "label_start = train_split\n",
    "valRange = int(train.shape[0]) - train_split\n",
    "\n",
    "# x_val = val_data.iloc[[i for i in range(valRange)]].values\n",
    "x_val = val_data[[i for i in range(len(titles) - 1)]].values\n",
    "# x_val = val_data.iloc[[i for i in range(49)]].values\n",
    "y_val = features.iloc[label_start:][[len(titles)-1]]\n",
    "\n",
    "dataset_val = keras.preprocessing.timeseries_dataset_from_array(\n",
    "    x_val,\n",
    "    y_val,\n",
    "    sequence_length=sequence_length,\n",
    "    sampling_rate=step,\n",
    "    batch_size=batch\n",
    ")\n",
    "\n",
    "for batch in dataset_train.take(1):\n",
    "    inputs, targets = batch\n",
    "print(x_val)\n",
    "print(y_val)\n",
    "print(\"Input shape:\", inputs.numpy().shape)\n",
    "print(\"Target shape:\", targets.numpy().shape)\n",
    "print(inputs)"
   ]
  },
  {
   "cell_type": "code",
   "execution_count": 27,
   "metadata": {},
   "outputs": [
    {
     "output_type": "stream",
     "name": "stdout",
     "text": [
      "Model: \"model_1\"\n",
      "_________________________________________________________________\n",
      "Layer (type)                 Output Shape              Param #   \n",
      "=================================================================\n",
      "input_2 (InputLayer)         [(None, 1, 10)]           0         \n",
      "_________________________________________________________________\n",
      "lstm_4 (LSTM)                (None, 1, 512)            1071104   \n",
      "_________________________________________________________________\n",
      "lstm_5 (LSTM)                (None, 1, 512)            2099200   \n",
      "_________________________________________________________________\n",
      "lstm_6 (LSTM)                (None, 1, 512)            2099200   \n",
      "_________________________________________________________________\n",
      "lstm_7 (LSTM)                (None, 512)               2099200   \n",
      "_________________________________________________________________\n",
      "dense_1 (Dense)              (None, 1)                 513       \n",
      "=================================================================\n",
      "Total params: 7,369,217\n",
      "Trainable params: 7,369,217\n",
      "Non-trainable params: 0\n",
      "_________________________________________________________________\n",
      "('You must install pydot (`pip install pydot`) and install graphviz (see instructions at https://graphviz.gitlab.io/download/) ', 'for plot_model/model_to_dot to work.')\n",
      "WARNING:absl:Found untraced functions such as lstm_cell_4_layer_call_fn, lstm_cell_4_layer_call_and_return_conditional_losses, lstm_cell_5_layer_call_fn, lstm_cell_5_layer_call_and_return_conditional_losses, lstm_cell_6_layer_call_fn while saving (showing 5 of 20). These functions will not be directly callable after loading.\n",
      "INFO:tensorflow:Assets written to: kerasModel\\assets\n",
      "INFO:tensorflow:Assets written to: kerasModel\\assets\n"
     ]
    }
   ],
   "source": [
    "# Long Short Term Memory - Model als Methodik mit Adam --> stochastic gradient descent algorithm\n",
    "\n",
    "inputs = keras.layers.Input(shape=(inputs.shape[1], inputs.shape[2]))\n",
    "#dropout1 = keras.layers.Dropout(0.4)(inputs)\n",
    "hidden1 = keras.layers.LSTM(512, return_sequences=True)(inputs)\n",
    "hidden2 = keras.layers.LSTM(512, return_sequences=True)(hidden1)\n",
    "hidden3 = keras.layers.LSTM(512, return_sequences=True)(hidden2)\n",
    "lasthidden = keras.layers.LSTM(512)(hidden3)\n",
    "#dropout2 = keras.layers.Dropout(0.4)(hidden1)\n",
    "outputs = keras.layers.Dense(1)(lasthidden)\n",
    "learning_rate = 0.001\n",
    "model = keras.Model(inputs=inputs, outputs=outputs)\n",
    "model.compile(optimizer=keras.optimizers.SGD(learning_rate=learning_rate, momentum=0.99), loss=keras.losses.MeanSquaredError()) #metrics=keras.metrics.MeanAbsoluteError())\n",
    "model.summary()\n",
    "plot_model(model, to_file='model_plot.png', show_shapes=True, show_layer_names=True)\n",
    "model.save(\"kerasModel\")"
   ]
  },
  {
   "cell_type": "code",
   "execution_count": 28,
   "metadata": {
    "tags": []
   },
   "outputs": [
    {
     "output_type": "stream",
     "name": "stdout",
     "text": [
      "Epoch 1/4000\n",
      "\n",
      "Epoch 00001: LearningRateScheduler reducing learning rate to 0.001.\n",
      "475/475 [==============================] - 24s 41ms/step - loss: 0.9991 - val_loss: 0.9475\n",
      "\n",
      "Epoch 00001: val_loss improved from inf to 0.94746, saving model to kerasModel\\simpleModelCheckpoint.h5\n",
      "Epoch 2/4000\n",
      "\n",
      "Epoch 00002: LearningRateScheduler reducing learning rate to 0.001.\n",
      "475/475 [==============================] - 19s 41ms/step - loss: 0.9659 - val_loss: 0.7744\n",
      "\n",
      "Epoch 00002: val_loss improved from 0.94746 to 0.77438, saving model to kerasModel\\simpleModelCheckpoint.h5\n",
      "Epoch 3/4000\n",
      "\n",
      "Epoch 00003: LearningRateScheduler reducing learning rate to 0.001.\n",
      "475/475 [==============================] - 19s 40ms/step - loss: 0.2742 - val_loss: 0.1267\n",
      "\n",
      "Epoch 00003: val_loss improved from 0.77438 to 0.12668, saving model to kerasModel\\simpleModelCheckpoint.h5\n",
      "Epoch 4/4000\n",
      "\n",
      "Epoch 00004: LearningRateScheduler reducing learning rate to 0.001.\n",
      "475/475 [==============================] - 19s 40ms/step - loss: 0.1213 - val_loss: 0.1167\n",
      "\n",
      "Epoch 00004: val_loss improved from 0.12668 to 0.11670, saving model to kerasModel\\simpleModelCheckpoint.h5\n",
      "Epoch 5/4000\n",
      "\n",
      "Epoch 00005: LearningRateScheduler reducing learning rate to 0.001.\n",
      "475/475 [==============================] - 19s 39ms/step - loss: 0.1149 - val_loss: 0.1158\n",
      "\n",
      "Epoch 00005: val_loss improved from 0.11670 to 0.11581, saving model to kerasModel\\simpleModelCheckpoint.h5\n",
      "Epoch 6/4000\n",
      "\n",
      "Epoch 00006: LearningRateScheduler reducing learning rate to 0.001.\n",
      "475/475 [==============================] - 18s 39ms/step - loss: 0.1136 - val_loss: 0.1151\n",
      "\n",
      "Epoch 00006: val_loss improved from 0.11581 to 0.11512, saving model to kerasModel\\simpleModelCheckpoint.h5\n",
      "Epoch 7/4000\n",
      "\n",
      "Epoch 00007: LearningRateScheduler reducing learning rate to 0.001.\n",
      "475/475 [==============================] - 18s 39ms/step - loss: 0.1126 - val_loss: 0.1145\n",
      "\n",
      "Epoch 00007: val_loss improved from 0.11512 to 0.11450, saving model to kerasModel\\simpleModelCheckpoint.h5\n",
      "Epoch 8/4000\n",
      "\n",
      "Epoch 00008: LearningRateScheduler reducing learning rate to 0.001.\n",
      "475/475 [==============================] - 19s 39ms/step - loss: 0.1118 - val_loss: 0.1140\n",
      "\n",
      "Epoch 00008: val_loss improved from 0.11450 to 0.11396, saving model to kerasModel\\simpleModelCheckpoint.h5\n",
      "Epoch 9/4000\n",
      "\n",
      "Epoch 00009: LearningRateScheduler reducing learning rate to 0.001.\n",
      "475/475 [==============================] - 18s 39ms/step - loss: 0.1112 - val_loss: 0.1135\n",
      "\n",
      "Epoch 00009: val_loss improved from 0.11396 to 0.11346, saving model to kerasModel\\simpleModelCheckpoint.h5\n",
      "Epoch 10/4000\n",
      "\n",
      "Epoch 00010: LearningRateScheduler reducing learning rate to 0.001.\n",
      "475/475 [==============================] - 19s 40ms/step - loss: 0.1106 - val_loss: 0.1130\n",
      "\n",
      "Epoch 00010: val_loss improved from 0.11346 to 0.11302, saving model to kerasModel\\simpleModelCheckpoint.h5\n",
      "Epoch 11/4000\n",
      "\n",
      "Epoch 00011: LearningRateScheduler reducing learning rate to 0.001.\n",
      "475/475 [==============================] - 19s 39ms/step - loss: 0.1102 - val_loss: 0.1127\n",
      "\n",
      "Epoch 00011: val_loss improved from 0.11302 to 0.11266, saving model to kerasModel\\simpleModelCheckpoint.h5\n",
      "Epoch 12/4000\n",
      "\n",
      "Epoch 00012: LearningRateScheduler reducing learning rate to 0.001.\n",
      "475/475 [==============================] - 19s 39ms/step - loss: 0.1098 - val_loss: 0.1124\n",
      "\n",
      "Epoch 00012: val_loss improved from 0.11266 to 0.11239, saving model to kerasModel\\simpleModelCheckpoint.h5\n",
      "Epoch 13/4000\n",
      "\n",
      "Epoch 00013: LearningRateScheduler reducing learning rate to 0.001.\n",
      "475/475 [==============================] - 18s 39ms/step - loss: 0.1095 - val_loss: 0.1122\n",
      "\n",
      "Epoch 00013: val_loss improved from 0.11239 to 0.11220, saving model to kerasModel\\simpleModelCheckpoint.h5\n",
      "Epoch 14/4000\n",
      "\n",
      "Epoch 00014: LearningRateScheduler reducing learning rate to 0.001.\n",
      "475/475 [==============================] - 18s 39ms/step - loss: 0.1093 - val_loss: 0.1121\n",
      "\n",
      "Epoch 00014: val_loss improved from 0.11220 to 0.11210, saving model to kerasModel\\simpleModelCheckpoint.h5\n",
      "Epoch 15/4000\n",
      "\n",
      "Epoch 00015: LearningRateScheduler reducing learning rate to 0.001.\n",
      "475/475 [==============================] - 18s 39ms/step - loss: 0.1091 - val_loss: 0.1121\n",
      "\n",
      "Epoch 00015: val_loss improved from 0.11210 to 0.11208, saving model to kerasModel\\simpleModelCheckpoint.h5\n",
      "Epoch 16/4000\n",
      "\n",
      "Epoch 00016: LearningRateScheduler reducing learning rate to 0.001.\n",
      "475/475 [==============================] - 18s 39ms/step - loss: 0.1090 - val_loss: 0.1121\n",
      "\n",
      "Epoch 00016: val_loss did not improve from 0.11208\n",
      "Epoch 17/4000\n",
      "\n",
      "Epoch 00017: LearningRateScheduler reducing learning rate to 0.001.\n",
      "475/475 [==============================] - 18s 39ms/step - loss: 0.1090 - val_loss: 0.1122\n",
      "\n",
      "Epoch 00017: val_loss did not improve from 0.11208\n",
      "Epoch 18/4000\n",
      "\n",
      "Epoch 00018: LearningRateScheduler reducing learning rate to 0.001.\n",
      "475/475 [==============================] - 18s 39ms/step - loss: 0.1089 - val_loss: 0.1123\n",
      "\n",
      "Epoch 00018: val_loss did not improve from 0.11208\n",
      "Epoch 19/4000\n",
      "\n",
      "Epoch 00019: LearningRateScheduler reducing learning rate to 0.001.\n",
      "475/475 [==============================] - 18s 39ms/step - loss: 0.1089 - val_loss: 0.1123\n",
      "\n",
      "Epoch 00019: val_loss did not improve from 0.11208\n",
      "Epoch 20/4000\n",
      "\n",
      "Epoch 00020: LearningRateScheduler reducing learning rate to 0.001.\n",
      "475/475 [==============================] - 19s 39ms/step - loss: 0.1089 - val_loss: 0.1124\n",
      "\n",
      "Epoch 00020: val_loss did not improve from 0.11208\n",
      "Epoch 21/4000\n",
      "\n",
      "Epoch 00021: LearningRateScheduler reducing learning rate to 0.001.\n",
      "475/475 [==============================] - 19s 39ms/step - loss: 0.1089 - val_loss: 0.1124\n",
      "\n",
      "Epoch 00021: val_loss did not improve from 0.11208\n",
      "Epoch 22/4000\n",
      "\n",
      "Epoch 00022: LearningRateScheduler reducing learning rate to 0.001.\n",
      "475/475 [==============================] - 18s 39ms/step - loss: 0.1089 - val_loss: 0.1124\n",
      "\n",
      "Epoch 00022: val_loss did not improve from 0.11208\n",
      "Epoch 23/4000\n",
      "\n",
      "Epoch 00023: LearningRateScheduler reducing learning rate to 0.001.\n",
      "475/475 [==============================] - 18s 39ms/step - loss: 0.1089 - val_loss: 0.1124\n",
      "\n",
      "Epoch 00023: val_loss did not improve from 0.11208\n",
      "Epoch 24/4000\n",
      "\n",
      "Epoch 00024: LearningRateScheduler reducing learning rate to 0.001.\n",
      "475/475 [==============================] - 18s 39ms/step - loss: 0.1089 - val_loss: 0.1123\n",
      "\n",
      "Epoch 00024: val_loss did not improve from 0.11208\n",
      "Epoch 25/4000\n",
      "\n",
      "Epoch 00025: LearningRateScheduler reducing learning rate to 0.001.\n",
      "475/475 [==============================] - 18s 39ms/step - loss: 0.1088 - val_loss: 0.1123\n",
      "\n",
      "Epoch 00025: val_loss did not improve from 0.11208\n"
     ]
    }
   ],
   "source": [
    "path_checkpoint = \"kerasModel/simpleModelCheckpoint.h5\"\n",
    "\n",
    "def scheduler(epoch, lr):\n",
    "    return 0.001\n",
    "    if lr > 0.004:\n",
    "        return lr - 0.0002\n",
    "    else:\n",
    "        if lr > 0.0004:\n",
    "            return lr - 0.000001\n",
    "        else:            \n",
    "            return 0.0001\n",
    "\n",
    "es_callback = keras.callbacks.EarlyStopping(monitor=\"val_loss\", min_delta=0, patience=10)\n",
    "\n",
    "lr_scheduler = keras.callbacks.LearningRateScheduler(scheduler, verbose=1)\n",
    "\n",
    "modelckpt_callback = keras.callbacks.ModelCheckpoint(\n",
    "    monitor=\"val_loss\",\n",
    "    filepath=path_checkpoint,\n",
    "    verbose=1,\n",
    "    save_weights_only=True,\n",
    "    save_best_only=True\n",
    ")\n",
    "\n",
    "epochs = 4000\n",
    "\n",
    "history = model.fit(\n",
    "    dataset_train,\n",
    "    epochs=epochs,\n",
    "    validation_data=dataset_val,\n",
    "    callbacks=[es_callback,modelckpt_callback, lr_scheduler]\n",
    ")"
   ]
  },
  {
   "cell_type": "code",
   "execution_count": 29,
   "metadata": {},
   "outputs": [
    {
     "output_type": "display_data",
     "data": {
      "text/plain": "<Figure size 432x288 with 1 Axes>",
      "image/svg+xml": "<?xml version=\"1.0\" encoding=\"utf-8\" standalone=\"no\"?>\r\n<!DOCTYPE svg PUBLIC \"-//W3C//DTD SVG 1.1//EN\"\r\n  \"http://www.w3.org/Graphics/SVG/1.1/DTD/svg11.dtd\">\r\n<svg height=\"277.314375pt\" version=\"1.1\" viewBox=\"0 0 389.607386 277.314375\" width=\"389.607386pt\" xmlns=\"http://www.w3.org/2000/svg\" xmlns:xlink=\"http://www.w3.org/1999/xlink\">\r\n <metadata>\r\n  <rdf:RDF xmlns:cc=\"http://creativecommons.org/ns#\" xmlns:dc=\"http://purl.org/dc/elements/1.1/\" xmlns:rdf=\"http://www.w3.org/1999/02/22-rdf-syntax-ns#\">\r\n   <cc:Work>\r\n    <dc:type rdf:resource=\"http://purl.org/dc/dcmitype/StillImage\"/>\r\n    <dc:date>2021-06-17T16:29:50.520509</dc:date>\r\n    <dc:format>image/svg+xml</dc:format>\r\n    <dc:creator>\r\n     <cc:Agent>\r\n      <dc:title>Matplotlib v3.4.2, https://matplotlib.org/</dc:title>\r\n     </cc:Agent>\r\n    </dc:creator>\r\n   </cc:Work>\r\n  </rdf:RDF>\r\n </metadata>\r\n <defs>\r\n  <style type=\"text/css\">*{stroke-linecap:butt;stroke-linejoin:round;}</style>\r\n </defs>\r\n <g id=\"figure_1\">\r\n  <g id=\"patch_1\">\r\n   <path d=\"M 0 277.314375 \r\nL 389.607386 277.314375 \r\nL 389.607386 0 \r\nL 0 0 \r\nz\r\n\" style=\"fill:none;\"/>\r\n  </g>\r\n  <g id=\"axes_1\">\r\n   <g id=\"patch_2\">\r\n    <path d=\"M 43.78125 239.758125 \r\nL 378.58125 239.758125 \r\nL 378.58125 22.318125 \r\nL 43.78125 22.318125 \r\nz\r\n\" style=\"fill:#ffffff;\"/>\r\n   </g>\r\n   <g id=\"matplotlib.axis_1\">\r\n    <g id=\"xtick_1\">\r\n     <g id=\"line2d_1\">\r\n      <defs>\r\n       <path d=\"M 0 0 \r\nL 0 3.5 \r\n\" id=\"m5bdbc16b99\" style=\"stroke:#000000;stroke-width:0.8;\"/>\r\n      </defs>\r\n      <g>\r\n       <use style=\"stroke:#000000;stroke-width:0.8;\" x=\"58.999432\" xlink:href=\"#m5bdbc16b99\" y=\"239.758125\"/>\r\n      </g>\r\n     </g>\r\n     <g id=\"text_1\">\r\n      <!-- 0 -->\r\n      <g transform=\"translate(55.818182 254.356562)scale(0.1 -0.1)\">\r\n       <defs>\r\n        <path d=\"M 2034 4250 \r\nQ 1547 4250 1301 3770 \r\nQ 1056 3291 1056 2328 \r\nQ 1056 1369 1301 889 \r\nQ 1547 409 2034 409 \r\nQ 2525 409 2770 889 \r\nQ 3016 1369 3016 2328 \r\nQ 3016 3291 2770 3770 \r\nQ 2525 4250 2034 4250 \r\nz\r\nM 2034 4750 \r\nQ 2819 4750 3233 4129 \r\nQ 3647 3509 3647 2328 \r\nQ 3647 1150 3233 529 \r\nQ 2819 -91 2034 -91 \r\nQ 1250 -91 836 529 \r\nQ 422 1150 422 2328 \r\nQ 422 3509 836 4129 \r\nQ 1250 4750 2034 4750 \r\nz\r\n\" id=\"DejaVuSans-30\" transform=\"scale(0.015625)\"/>\r\n       </defs>\r\n       <use xlink:href=\"#DejaVuSans-30\"/>\r\n      </g>\r\n     </g>\r\n    </g>\r\n    <g id=\"xtick_2\">\r\n     <g id=\"line2d_2\">\r\n      <g>\r\n       <use style=\"stroke:#000000;stroke-width:0.8;\" x=\"122.408523\" xlink:href=\"#m5bdbc16b99\" y=\"239.758125\"/>\r\n      </g>\r\n     </g>\r\n     <g id=\"text_2\">\r\n      <!-- 5 -->\r\n      <g transform=\"translate(119.227273 254.356562)scale(0.1 -0.1)\">\r\n       <defs>\r\n        <path d=\"M 691 4666 \r\nL 3169 4666 \r\nL 3169 4134 \r\nL 1269 4134 \r\nL 1269 2991 \r\nQ 1406 3038 1543 3061 \r\nQ 1681 3084 1819 3084 \r\nQ 2600 3084 3056 2656 \r\nQ 3513 2228 3513 1497 \r\nQ 3513 744 3044 326 \r\nQ 2575 -91 1722 -91 \r\nQ 1428 -91 1123 -41 \r\nQ 819 9 494 109 \r\nL 494 744 \r\nQ 775 591 1075 516 \r\nQ 1375 441 1709 441 \r\nQ 2250 441 2565 725 \r\nQ 2881 1009 2881 1497 \r\nQ 2881 1984 2565 2268 \r\nQ 2250 2553 1709 2553 \r\nQ 1456 2553 1204 2497 \r\nQ 953 2441 691 2322 \r\nL 691 4666 \r\nz\r\n\" id=\"DejaVuSans-35\" transform=\"scale(0.015625)\"/>\r\n       </defs>\r\n       <use xlink:href=\"#DejaVuSans-35\"/>\r\n      </g>\r\n     </g>\r\n    </g>\r\n    <g id=\"xtick_3\">\r\n     <g id=\"line2d_3\">\r\n      <g>\r\n       <use style=\"stroke:#000000;stroke-width:0.8;\" x=\"185.817614\" xlink:href=\"#m5bdbc16b99\" y=\"239.758125\"/>\r\n      </g>\r\n     </g>\r\n     <g id=\"text_3\">\r\n      <!-- 10 -->\r\n      <g transform=\"translate(179.455114 254.356562)scale(0.1 -0.1)\">\r\n       <defs>\r\n        <path d=\"M 794 531 \r\nL 1825 531 \r\nL 1825 4091 \r\nL 703 3866 \r\nL 703 4441 \r\nL 1819 4666 \r\nL 2450 4666 \r\nL 2450 531 \r\nL 3481 531 \r\nL 3481 0 \r\nL 794 0 \r\nL 794 531 \r\nz\r\n\" id=\"DejaVuSans-31\" transform=\"scale(0.015625)\"/>\r\n       </defs>\r\n       <use xlink:href=\"#DejaVuSans-31\"/>\r\n       <use x=\"63.623047\" xlink:href=\"#DejaVuSans-30\"/>\r\n      </g>\r\n     </g>\r\n    </g>\r\n    <g id=\"xtick_4\">\r\n     <g id=\"line2d_4\">\r\n      <g>\r\n       <use style=\"stroke:#000000;stroke-width:0.8;\" x=\"249.226705\" xlink:href=\"#m5bdbc16b99\" y=\"239.758125\"/>\r\n      </g>\r\n     </g>\r\n     <g id=\"text_4\">\r\n      <!-- 15 -->\r\n      <g transform=\"translate(242.864205 254.356562)scale(0.1 -0.1)\">\r\n       <use xlink:href=\"#DejaVuSans-31\"/>\r\n       <use x=\"63.623047\" xlink:href=\"#DejaVuSans-35\"/>\r\n      </g>\r\n     </g>\r\n    </g>\r\n    <g id=\"xtick_5\">\r\n     <g id=\"line2d_5\">\r\n      <g>\r\n       <use style=\"stroke:#000000;stroke-width:0.8;\" x=\"312.635795\" xlink:href=\"#m5bdbc16b99\" y=\"239.758125\"/>\r\n      </g>\r\n     </g>\r\n     <g id=\"text_5\">\r\n      <!-- 20 -->\r\n      <g transform=\"translate(306.273295 254.356562)scale(0.1 -0.1)\">\r\n       <defs>\r\n        <path d=\"M 1228 531 \r\nL 3431 531 \r\nL 3431 0 \r\nL 469 0 \r\nL 469 531 \r\nQ 828 903 1448 1529 \r\nQ 2069 2156 2228 2338 \r\nQ 2531 2678 2651 2914 \r\nQ 2772 3150 2772 3378 \r\nQ 2772 3750 2511 3984 \r\nQ 2250 4219 1831 4219 \r\nQ 1534 4219 1204 4116 \r\nQ 875 4013 500 3803 \r\nL 500 4441 \r\nQ 881 4594 1212 4672 \r\nQ 1544 4750 1819 4750 \r\nQ 2544 4750 2975 4387 \r\nQ 3406 4025 3406 3419 \r\nQ 3406 3131 3298 2873 \r\nQ 3191 2616 2906 2266 \r\nQ 2828 2175 2409 1742 \r\nQ 1991 1309 1228 531 \r\nz\r\n\" id=\"DejaVuSans-32\" transform=\"scale(0.015625)\"/>\r\n       </defs>\r\n       <use xlink:href=\"#DejaVuSans-32\"/>\r\n       <use x=\"63.623047\" xlink:href=\"#DejaVuSans-30\"/>\r\n      </g>\r\n     </g>\r\n    </g>\r\n    <g id=\"xtick_6\">\r\n     <g id=\"line2d_6\">\r\n      <g>\r\n       <use style=\"stroke:#000000;stroke-width:0.8;\" x=\"376.044886\" xlink:href=\"#m5bdbc16b99\" y=\"239.758125\"/>\r\n      </g>\r\n     </g>\r\n     <g id=\"text_6\">\r\n      <!-- 25 -->\r\n      <g transform=\"translate(369.682386 254.356562)scale(0.1 -0.1)\">\r\n       <use xlink:href=\"#DejaVuSans-32\"/>\r\n       <use x=\"63.623047\" xlink:href=\"#DejaVuSans-35\"/>\r\n      </g>\r\n     </g>\r\n    </g>\r\n    <g id=\"text_7\">\r\n     <!-- Epochs -->\r\n     <g transform=\"translate(193.265625 268.034687)scale(0.1 -0.1)\">\r\n      <defs>\r\n       <path d=\"M 628 4666 \r\nL 3578 4666 \r\nL 3578 4134 \r\nL 1259 4134 \r\nL 1259 2753 \r\nL 3481 2753 \r\nL 3481 2222 \r\nL 1259 2222 \r\nL 1259 531 \r\nL 3634 531 \r\nL 3634 0 \r\nL 628 0 \r\nL 628 4666 \r\nz\r\n\" id=\"DejaVuSans-45\" transform=\"scale(0.015625)\"/>\r\n       <path d=\"M 1159 525 \r\nL 1159 -1331 \r\nL 581 -1331 \r\nL 581 3500 \r\nL 1159 3500 \r\nL 1159 2969 \r\nQ 1341 3281 1617 3432 \r\nQ 1894 3584 2278 3584 \r\nQ 2916 3584 3314 3078 \r\nQ 3713 2572 3713 1747 \r\nQ 3713 922 3314 415 \r\nQ 2916 -91 2278 -91 \r\nQ 1894 -91 1617 61 \r\nQ 1341 213 1159 525 \r\nz\r\nM 3116 1747 \r\nQ 3116 2381 2855 2742 \r\nQ 2594 3103 2138 3103 \r\nQ 1681 3103 1420 2742 \r\nQ 1159 2381 1159 1747 \r\nQ 1159 1113 1420 752 \r\nQ 1681 391 2138 391 \r\nQ 2594 391 2855 752 \r\nQ 3116 1113 3116 1747 \r\nz\r\n\" id=\"DejaVuSans-70\" transform=\"scale(0.015625)\"/>\r\n       <path d=\"M 1959 3097 \r\nQ 1497 3097 1228 2736 \r\nQ 959 2375 959 1747 \r\nQ 959 1119 1226 758 \r\nQ 1494 397 1959 397 \r\nQ 2419 397 2687 759 \r\nQ 2956 1122 2956 1747 \r\nQ 2956 2369 2687 2733 \r\nQ 2419 3097 1959 3097 \r\nz\r\nM 1959 3584 \r\nQ 2709 3584 3137 3096 \r\nQ 3566 2609 3566 1747 \r\nQ 3566 888 3137 398 \r\nQ 2709 -91 1959 -91 \r\nQ 1206 -91 779 398 \r\nQ 353 888 353 1747 \r\nQ 353 2609 779 3096 \r\nQ 1206 3584 1959 3584 \r\nz\r\n\" id=\"DejaVuSans-6f\" transform=\"scale(0.015625)\"/>\r\n       <path d=\"M 3122 3366 \r\nL 3122 2828 \r\nQ 2878 2963 2633 3030 \r\nQ 2388 3097 2138 3097 \r\nQ 1578 3097 1268 2742 \r\nQ 959 2388 959 1747 \r\nQ 959 1106 1268 751 \r\nQ 1578 397 2138 397 \r\nQ 2388 397 2633 464 \r\nQ 2878 531 3122 666 \r\nL 3122 134 \r\nQ 2881 22 2623 -34 \r\nQ 2366 -91 2075 -91 \r\nQ 1284 -91 818 406 \r\nQ 353 903 353 1747 \r\nQ 353 2603 823 3093 \r\nQ 1294 3584 2113 3584 \r\nQ 2378 3584 2631 3529 \r\nQ 2884 3475 3122 3366 \r\nz\r\n\" id=\"DejaVuSans-63\" transform=\"scale(0.015625)\"/>\r\n       <path d=\"M 3513 2113 \r\nL 3513 0 \r\nL 2938 0 \r\nL 2938 2094 \r\nQ 2938 2591 2744 2837 \r\nQ 2550 3084 2163 3084 \r\nQ 1697 3084 1428 2787 \r\nQ 1159 2491 1159 1978 \r\nL 1159 0 \r\nL 581 0 \r\nL 581 4863 \r\nL 1159 4863 \r\nL 1159 2956 \r\nQ 1366 3272 1645 3428 \r\nQ 1925 3584 2291 3584 \r\nQ 2894 3584 3203 3211 \r\nQ 3513 2838 3513 2113 \r\nz\r\n\" id=\"DejaVuSans-68\" transform=\"scale(0.015625)\"/>\r\n       <path d=\"M 2834 3397 \r\nL 2834 2853 \r\nQ 2591 2978 2328 3040 \r\nQ 2066 3103 1784 3103 \r\nQ 1356 3103 1142 2972 \r\nQ 928 2841 928 2578 \r\nQ 928 2378 1081 2264 \r\nQ 1234 2150 1697 2047 \r\nL 1894 2003 \r\nQ 2506 1872 2764 1633 \r\nQ 3022 1394 3022 966 \r\nQ 3022 478 2636 193 \r\nQ 2250 -91 1575 -91 \r\nQ 1294 -91 989 -36 \r\nQ 684 19 347 128 \r\nL 347 722 \r\nQ 666 556 975 473 \r\nQ 1284 391 1588 391 \r\nQ 1994 391 2212 530 \r\nQ 2431 669 2431 922 \r\nQ 2431 1156 2273 1281 \r\nQ 2116 1406 1581 1522 \r\nL 1381 1569 \r\nQ 847 1681 609 1914 \r\nQ 372 2147 372 2553 \r\nQ 372 3047 722 3315 \r\nQ 1072 3584 1716 3584 \r\nQ 2034 3584 2315 3537 \r\nQ 2597 3491 2834 3397 \r\nz\r\n\" id=\"DejaVuSans-73\" transform=\"scale(0.015625)\"/>\r\n      </defs>\r\n      <use xlink:href=\"#DejaVuSans-45\"/>\r\n      <use x=\"63.183594\" xlink:href=\"#DejaVuSans-70\"/>\r\n      <use x=\"126.660156\" xlink:href=\"#DejaVuSans-6f\"/>\r\n      <use x=\"187.841797\" xlink:href=\"#DejaVuSans-63\"/>\r\n      <use x=\"242.822266\" xlink:href=\"#DejaVuSans-68\"/>\r\n      <use x=\"306.201172\" xlink:href=\"#DejaVuSans-73\"/>\r\n     </g>\r\n    </g>\r\n   </g>\r\n   <g id=\"matplotlib.axis_2\">\r\n    <g id=\"ytick_1\">\r\n     <g id=\"line2d_7\">\r\n      <defs>\r\n       <path d=\"M 0 0 \r\nL -3.5 0 \r\n\" id=\"m7708180d75\" style=\"stroke:#000000;stroke-width:0.8;\"/>\r\n      </defs>\r\n      <g>\r\n       <use style=\"stroke:#000000;stroke-width:0.8;\" x=\"43.78125\" xlink:href=\"#m7708180d75\" y=\"209.632572\"/>\r\n      </g>\r\n     </g>\r\n     <g id=\"text_8\">\r\n      <!-- 0.2 -->\r\n      <g transform=\"translate(20.878125 213.43179)scale(0.1 -0.1)\">\r\n       <defs>\r\n        <path d=\"M 684 794 \r\nL 1344 794 \r\nL 1344 0 \r\nL 684 0 \r\nL 684 794 \r\nz\r\n\" id=\"DejaVuSans-2e\" transform=\"scale(0.015625)\"/>\r\n       </defs>\r\n       <use xlink:href=\"#DejaVuSans-30\"/>\r\n       <use x=\"63.623047\" xlink:href=\"#DejaVuSans-2e\"/>\r\n       <use x=\"95.410156\" xlink:href=\"#DejaVuSans-32\"/>\r\n      </g>\r\n     </g>\r\n    </g>\r\n    <g id=\"ytick_2\">\r\n     <g id=\"line2d_8\">\r\n      <g>\r\n       <use style=\"stroke:#000000;stroke-width:0.8;\" x=\"43.78125\" xlink:href=\"#m7708180d75\" y=\"165.22529\"/>\r\n      </g>\r\n     </g>\r\n     <g id=\"text_9\">\r\n      <!-- 0.4 -->\r\n      <g transform=\"translate(20.878125 169.024509)scale(0.1 -0.1)\">\r\n       <defs>\r\n        <path d=\"M 2419 4116 \r\nL 825 1625 \r\nL 2419 1625 \r\nL 2419 4116 \r\nz\r\nM 2253 4666 \r\nL 3047 4666 \r\nL 3047 1625 \r\nL 3713 1625 \r\nL 3713 1100 \r\nL 3047 1100 \r\nL 3047 0 \r\nL 2419 0 \r\nL 2419 1100 \r\nL 313 1100 \r\nL 313 1709 \r\nL 2253 4666 \r\nz\r\n\" id=\"DejaVuSans-34\" transform=\"scale(0.015625)\"/>\r\n       </defs>\r\n       <use xlink:href=\"#DejaVuSans-30\"/>\r\n       <use x=\"63.623047\" xlink:href=\"#DejaVuSans-2e\"/>\r\n       <use x=\"95.410156\" xlink:href=\"#DejaVuSans-34\"/>\r\n      </g>\r\n     </g>\r\n    </g>\r\n    <g id=\"ytick_3\">\r\n     <g id=\"line2d_9\">\r\n      <g>\r\n       <use style=\"stroke:#000000;stroke-width:0.8;\" x=\"43.78125\" xlink:href=\"#m7708180d75\" y=\"120.818008\"/>\r\n      </g>\r\n     </g>\r\n     <g id=\"text_10\">\r\n      <!-- 0.6 -->\r\n      <g transform=\"translate(20.878125 124.617227)scale(0.1 -0.1)\">\r\n       <defs>\r\n        <path d=\"M 2113 2584 \r\nQ 1688 2584 1439 2293 \r\nQ 1191 2003 1191 1497 \r\nQ 1191 994 1439 701 \r\nQ 1688 409 2113 409 \r\nQ 2538 409 2786 701 \r\nQ 3034 994 3034 1497 \r\nQ 3034 2003 2786 2293 \r\nQ 2538 2584 2113 2584 \r\nz\r\nM 3366 4563 \r\nL 3366 3988 \r\nQ 3128 4100 2886 4159 \r\nQ 2644 4219 2406 4219 \r\nQ 1781 4219 1451 3797 \r\nQ 1122 3375 1075 2522 \r\nQ 1259 2794 1537 2939 \r\nQ 1816 3084 2150 3084 \r\nQ 2853 3084 3261 2657 \r\nQ 3669 2231 3669 1497 \r\nQ 3669 778 3244 343 \r\nQ 2819 -91 2113 -91 \r\nQ 1303 -91 875 529 \r\nQ 447 1150 447 2328 \r\nQ 447 3434 972 4092 \r\nQ 1497 4750 2381 4750 \r\nQ 2619 4750 2861 4703 \r\nQ 3103 4656 3366 4563 \r\nz\r\n\" id=\"DejaVuSans-36\" transform=\"scale(0.015625)\"/>\r\n       </defs>\r\n       <use xlink:href=\"#DejaVuSans-30\"/>\r\n       <use x=\"63.623047\" xlink:href=\"#DejaVuSans-2e\"/>\r\n       <use x=\"95.410156\" xlink:href=\"#DejaVuSans-36\"/>\r\n      </g>\r\n     </g>\r\n    </g>\r\n    <g id=\"ytick_4\">\r\n     <g id=\"line2d_10\">\r\n      <g>\r\n       <use style=\"stroke:#000000;stroke-width:0.8;\" x=\"43.78125\" xlink:href=\"#m7708180d75\" y=\"76.410726\"/>\r\n      </g>\r\n     </g>\r\n     <g id=\"text_11\">\r\n      <!-- 0.8 -->\r\n      <g transform=\"translate(20.878125 80.209945)scale(0.1 -0.1)\">\r\n       <defs>\r\n        <path d=\"M 2034 2216 \r\nQ 1584 2216 1326 1975 \r\nQ 1069 1734 1069 1313 \r\nQ 1069 891 1326 650 \r\nQ 1584 409 2034 409 \r\nQ 2484 409 2743 651 \r\nQ 3003 894 3003 1313 \r\nQ 3003 1734 2745 1975 \r\nQ 2488 2216 2034 2216 \r\nz\r\nM 1403 2484 \r\nQ 997 2584 770 2862 \r\nQ 544 3141 544 3541 \r\nQ 544 4100 942 4425 \r\nQ 1341 4750 2034 4750 \r\nQ 2731 4750 3128 4425 \r\nQ 3525 4100 3525 3541 \r\nQ 3525 3141 3298 2862 \r\nQ 3072 2584 2669 2484 \r\nQ 3125 2378 3379 2068 \r\nQ 3634 1759 3634 1313 \r\nQ 3634 634 3220 271 \r\nQ 2806 -91 2034 -91 \r\nQ 1263 -91 848 271 \r\nQ 434 634 434 1313 \r\nQ 434 1759 690 2068 \r\nQ 947 2378 1403 2484 \r\nz\r\nM 1172 3481 \r\nQ 1172 3119 1398 2916 \r\nQ 1625 2713 2034 2713 \r\nQ 2441 2713 2670 2916 \r\nQ 2900 3119 2900 3481 \r\nQ 2900 3844 2670 4047 \r\nQ 2441 4250 2034 4250 \r\nQ 1625 4250 1398 4047 \r\nQ 1172 3844 1172 3481 \r\nz\r\n\" id=\"DejaVuSans-38\" transform=\"scale(0.015625)\"/>\r\n       </defs>\r\n       <use xlink:href=\"#DejaVuSans-30\"/>\r\n       <use x=\"63.623047\" xlink:href=\"#DejaVuSans-2e\"/>\r\n       <use x=\"95.410156\" xlink:href=\"#DejaVuSans-38\"/>\r\n      </g>\r\n     </g>\r\n    </g>\r\n    <g id=\"ytick_5\">\r\n     <g id=\"line2d_11\">\r\n      <g>\r\n       <use style=\"stroke:#000000;stroke-width:0.8;\" x=\"43.78125\" xlink:href=\"#m7708180d75\" y=\"32.003444\"/>\r\n      </g>\r\n     </g>\r\n     <g id=\"text_12\">\r\n      <!-- 1.0 -->\r\n      <g transform=\"translate(20.878125 35.802663)scale(0.1 -0.1)\">\r\n       <use xlink:href=\"#DejaVuSans-31\"/>\r\n       <use x=\"63.623047\" xlink:href=\"#DejaVuSans-2e\"/>\r\n       <use x=\"95.410156\" xlink:href=\"#DejaVuSans-30\"/>\r\n      </g>\r\n     </g>\r\n    </g>\r\n    <g id=\"text_13\">\r\n     <!-- Loss -->\r\n     <g transform=\"translate(14.798438 142.005312)rotate(-90)scale(0.1 -0.1)\">\r\n      <defs>\r\n       <path d=\"M 628 4666 \r\nL 1259 4666 \r\nL 1259 531 \r\nL 3531 531 \r\nL 3531 0 \r\nL 628 0 \r\nL 628 4666 \r\nz\r\n\" id=\"DejaVuSans-4c\" transform=\"scale(0.015625)\"/>\r\n      </defs>\r\n      <use xlink:href=\"#DejaVuSans-4c\"/>\r\n      <use x=\"53.962891\" xlink:href=\"#DejaVuSans-6f\"/>\r\n      <use x=\"115.144531\" xlink:href=\"#DejaVuSans-73\"/>\r\n      <use x=\"167.244141\" xlink:href=\"#DejaVuSans-73\"/>\r\n     </g>\r\n    </g>\r\n   </g>\r\n   <g id=\"line2d_12\">\r\n    <path clip-path=\"url(#p428dc83543)\" d=\"M 58.999432 32.201761 \r\nL 71.68125 39.565171 \r\nL 84.363068 193.164605 \r\nL 97.044886 227.106275 \r\nL 109.726705 228.52788 \r\nL 122.408523 228.818431 \r\nL 135.090341 229.032941 \r\nL 147.772159 229.205572 \r\nL 160.453977 229.351157 \r\nL 173.135795 229.474351 \r\nL 185.817614 229.577193 \r\nL 198.499432 229.660571 \r\nL 211.18125 229.72558 \r\nL 223.863068 229.773762 \r\nL 236.544886 229.807394 \r\nL 249.226705 229.829417 \r\nL 261.908523 229.842925 \r\nL 274.590341 229.850867 \r\nL 287.272159 229.855598 \r\nL 299.953977 229.858702 \r\nL 312.635795 229.861258 \r\nL 325.317614 229.863888 \r\nL 337.999432 229.866879 \r\nL 350.68125 229.870396 \r\nL 363.363068 229.874489 \r\n\" style=\"fill:none;stroke:#0000ff;stroke-linecap:square;stroke-width:1.5;\"/>\r\n   </g>\r\n   <g id=\"line2d_13\">\r\n    <path clip-path=\"url(#p428dc83543)\" d=\"M 58.999432 43.669344 \r\nL 71.68125 82.098988 \r\nL 84.363068 225.911834 \r\nL 97.044886 228.128565 \r\nL 109.726705 228.32585 \r\nL 122.408523 228.478542 \r\nL 135.090341 228.615596 \r\nL 147.772159 228.736398 \r\nL 160.453977 228.846935 \r\nL 173.135795 228.944329 \r\nL 185.817614 229.024537 \r\nL 198.499432 229.08573 \r\nL 211.18125 229.127203 \r\nL 223.863068 229.14928 \r\nL 236.544886 229.154398 \r\nL 249.226705 229.147025 \r\nL 261.908523 229.132343 \r\nL 274.590341 229.115459 \r\nL 287.272159 229.100455 \r\nL 299.953977 229.089814 \r\nL 312.635795 229.084377 \r\nL 325.317614 229.083943 \r\nL 337.999432 229.087794 \r\nL 350.68125 229.095034 \r\nL 363.363068 229.104825 \r\n\" style=\"fill:none;stroke:#ff0000;stroke-linecap:square;stroke-width:1.5;\"/>\r\n   </g>\r\n   <g id=\"patch_3\">\r\n    <path d=\"M 43.78125 239.758125 \r\nL 43.78125 22.318125 \r\n\" style=\"fill:none;stroke:#000000;stroke-linecap:square;stroke-linejoin:miter;stroke-width:0.8;\"/>\r\n   </g>\r\n   <g id=\"patch_4\">\r\n    <path d=\"M 378.58125 239.758125 \r\nL 378.58125 22.318125 \r\n\" style=\"fill:none;stroke:#000000;stroke-linecap:square;stroke-linejoin:miter;stroke-width:0.8;\"/>\r\n   </g>\r\n   <g id=\"patch_5\">\r\n    <path d=\"M 43.78125 239.758125 \r\nL 378.58125 239.758125 \r\n\" style=\"fill:none;stroke:#000000;stroke-linecap:square;stroke-linejoin:miter;stroke-width:0.8;\"/>\r\n   </g>\r\n   <g id=\"patch_6\">\r\n    <path d=\"M 43.78125 22.318125 \r\nL 378.58125 22.318125 \r\n\" style=\"fill:none;stroke:#000000;stroke-linecap:square;stroke-linejoin:miter;stroke-width:0.8;\"/>\r\n   </g>\r\n   <g id=\"text_14\">\r\n    <!-- Training and Validation loss -->\r\n    <g transform=\"translate(129.283125 16.318125)scale(0.12 -0.12)\">\r\n     <defs>\r\n      <path d=\"M -19 4666 \r\nL 3928 4666 \r\nL 3928 4134 \r\nL 2272 4134 \r\nL 2272 0 \r\nL 1638 0 \r\nL 1638 4134 \r\nL -19 4134 \r\nL -19 4666 \r\nz\r\n\" id=\"DejaVuSans-54\" transform=\"scale(0.015625)\"/>\r\n      <path d=\"M 2631 2963 \r\nQ 2534 3019 2420 3045 \r\nQ 2306 3072 2169 3072 \r\nQ 1681 3072 1420 2755 \r\nQ 1159 2438 1159 1844 \r\nL 1159 0 \r\nL 581 0 \r\nL 581 3500 \r\nL 1159 3500 \r\nL 1159 2956 \r\nQ 1341 3275 1631 3429 \r\nQ 1922 3584 2338 3584 \r\nQ 2397 3584 2469 3576 \r\nQ 2541 3569 2628 3553 \r\nL 2631 2963 \r\nz\r\n\" id=\"DejaVuSans-72\" transform=\"scale(0.015625)\"/>\r\n      <path d=\"M 2194 1759 \r\nQ 1497 1759 1228 1600 \r\nQ 959 1441 959 1056 \r\nQ 959 750 1161 570 \r\nQ 1363 391 1709 391 \r\nQ 2188 391 2477 730 \r\nQ 2766 1069 2766 1631 \r\nL 2766 1759 \r\nL 2194 1759 \r\nz\r\nM 3341 1997 \r\nL 3341 0 \r\nL 2766 0 \r\nL 2766 531 \r\nQ 2569 213 2275 61 \r\nQ 1981 -91 1556 -91 \r\nQ 1019 -91 701 211 \r\nQ 384 513 384 1019 \r\nQ 384 1609 779 1909 \r\nQ 1175 2209 1959 2209 \r\nL 2766 2209 \r\nL 2766 2266 \r\nQ 2766 2663 2505 2880 \r\nQ 2244 3097 1772 3097 \r\nQ 1472 3097 1187 3025 \r\nQ 903 2953 641 2809 \r\nL 641 3341 \r\nQ 956 3463 1253 3523 \r\nQ 1550 3584 1831 3584 \r\nQ 2591 3584 2966 3190 \r\nQ 3341 2797 3341 1997 \r\nz\r\n\" id=\"DejaVuSans-61\" transform=\"scale(0.015625)\"/>\r\n      <path d=\"M 603 3500 \r\nL 1178 3500 \r\nL 1178 0 \r\nL 603 0 \r\nL 603 3500 \r\nz\r\nM 603 4863 \r\nL 1178 4863 \r\nL 1178 4134 \r\nL 603 4134 \r\nL 603 4863 \r\nz\r\n\" id=\"DejaVuSans-69\" transform=\"scale(0.015625)\"/>\r\n      <path d=\"M 3513 2113 \r\nL 3513 0 \r\nL 2938 0 \r\nL 2938 2094 \r\nQ 2938 2591 2744 2837 \r\nQ 2550 3084 2163 3084 \r\nQ 1697 3084 1428 2787 \r\nQ 1159 2491 1159 1978 \r\nL 1159 0 \r\nL 581 0 \r\nL 581 3500 \r\nL 1159 3500 \r\nL 1159 2956 \r\nQ 1366 3272 1645 3428 \r\nQ 1925 3584 2291 3584 \r\nQ 2894 3584 3203 3211 \r\nQ 3513 2838 3513 2113 \r\nz\r\n\" id=\"DejaVuSans-6e\" transform=\"scale(0.015625)\"/>\r\n      <path d=\"M 2906 1791 \r\nQ 2906 2416 2648 2759 \r\nQ 2391 3103 1925 3103 \r\nQ 1463 3103 1205 2759 \r\nQ 947 2416 947 1791 \r\nQ 947 1169 1205 825 \r\nQ 1463 481 1925 481 \r\nQ 2391 481 2648 825 \r\nQ 2906 1169 2906 1791 \r\nz\r\nM 3481 434 \r\nQ 3481 -459 3084 -895 \r\nQ 2688 -1331 1869 -1331 \r\nQ 1566 -1331 1297 -1286 \r\nQ 1028 -1241 775 -1147 \r\nL 775 -588 \r\nQ 1028 -725 1275 -790 \r\nQ 1522 -856 1778 -856 \r\nQ 2344 -856 2625 -561 \r\nQ 2906 -266 2906 331 \r\nL 2906 616 \r\nQ 2728 306 2450 153 \r\nQ 2172 0 1784 0 \r\nQ 1141 0 747 490 \r\nQ 353 981 353 1791 \r\nQ 353 2603 747 3093 \r\nQ 1141 3584 1784 3584 \r\nQ 2172 3584 2450 3431 \r\nQ 2728 3278 2906 2969 \r\nL 2906 3500 \r\nL 3481 3500 \r\nL 3481 434 \r\nz\r\n\" id=\"DejaVuSans-67\" transform=\"scale(0.015625)\"/>\r\n      <path id=\"DejaVuSans-20\" transform=\"scale(0.015625)\"/>\r\n      <path d=\"M 2906 2969 \r\nL 2906 4863 \r\nL 3481 4863 \r\nL 3481 0 \r\nL 2906 0 \r\nL 2906 525 \r\nQ 2725 213 2448 61 \r\nQ 2172 -91 1784 -91 \r\nQ 1150 -91 751 415 \r\nQ 353 922 353 1747 \r\nQ 353 2572 751 3078 \r\nQ 1150 3584 1784 3584 \r\nQ 2172 3584 2448 3432 \r\nQ 2725 3281 2906 2969 \r\nz\r\nM 947 1747 \r\nQ 947 1113 1208 752 \r\nQ 1469 391 1925 391 \r\nQ 2381 391 2643 752 \r\nQ 2906 1113 2906 1747 \r\nQ 2906 2381 2643 2742 \r\nQ 2381 3103 1925 3103 \r\nQ 1469 3103 1208 2742 \r\nQ 947 2381 947 1747 \r\nz\r\n\" id=\"DejaVuSans-64\" transform=\"scale(0.015625)\"/>\r\n      <path d=\"M 1831 0 \r\nL 50 4666 \r\nL 709 4666 \r\nL 2188 738 \r\nL 3669 4666 \r\nL 4325 4666 \r\nL 2547 0 \r\nL 1831 0 \r\nz\r\n\" id=\"DejaVuSans-56\" transform=\"scale(0.015625)\"/>\r\n      <path d=\"M 603 4863 \r\nL 1178 4863 \r\nL 1178 0 \r\nL 603 0 \r\nL 603 4863 \r\nz\r\n\" id=\"DejaVuSans-6c\" transform=\"scale(0.015625)\"/>\r\n      <path d=\"M 1172 4494 \r\nL 1172 3500 \r\nL 2356 3500 \r\nL 2356 3053 \r\nL 1172 3053 \r\nL 1172 1153 \r\nQ 1172 725 1289 603 \r\nQ 1406 481 1766 481 \r\nL 2356 481 \r\nL 2356 0 \r\nL 1766 0 \r\nQ 1100 0 847 248 \r\nQ 594 497 594 1153 \r\nL 594 3053 \r\nL 172 3053 \r\nL 172 3500 \r\nL 594 3500 \r\nL 594 4494 \r\nL 1172 4494 \r\nz\r\n\" id=\"DejaVuSans-74\" transform=\"scale(0.015625)\"/>\r\n     </defs>\r\n     <use xlink:href=\"#DejaVuSans-54\"/>\r\n     <use x=\"46.333984\" xlink:href=\"#DejaVuSans-72\"/>\r\n     <use x=\"87.447266\" xlink:href=\"#DejaVuSans-61\"/>\r\n     <use x=\"148.726562\" xlink:href=\"#DejaVuSans-69\"/>\r\n     <use x=\"176.509766\" xlink:href=\"#DejaVuSans-6e\"/>\r\n     <use x=\"239.888672\" xlink:href=\"#DejaVuSans-69\"/>\r\n     <use x=\"267.671875\" xlink:href=\"#DejaVuSans-6e\"/>\r\n     <use x=\"331.050781\" xlink:href=\"#DejaVuSans-67\"/>\r\n     <use x=\"394.527344\" xlink:href=\"#DejaVuSans-20\"/>\r\n     <use x=\"426.314453\" xlink:href=\"#DejaVuSans-61\"/>\r\n     <use x=\"487.59375\" xlink:href=\"#DejaVuSans-6e\"/>\r\n     <use x=\"550.972656\" xlink:href=\"#DejaVuSans-64\"/>\r\n     <use x=\"614.449219\" xlink:href=\"#DejaVuSans-20\"/>\r\n     <use x=\"646.236328\" xlink:href=\"#DejaVuSans-56\"/>\r\n     <use x=\"706.894531\" xlink:href=\"#DejaVuSans-61\"/>\r\n     <use x=\"768.173828\" xlink:href=\"#DejaVuSans-6c\"/>\r\n     <use x=\"795.957031\" xlink:href=\"#DejaVuSans-69\"/>\r\n     <use x=\"823.740234\" xlink:href=\"#DejaVuSans-64\"/>\r\n     <use x=\"887.216797\" xlink:href=\"#DejaVuSans-61\"/>\r\n     <use x=\"948.496094\" xlink:href=\"#DejaVuSans-74\"/>\r\n     <use x=\"987.705078\" xlink:href=\"#DejaVuSans-69\"/>\r\n     <use x=\"1015.488281\" xlink:href=\"#DejaVuSans-6f\"/>\r\n     <use x=\"1076.669922\" xlink:href=\"#DejaVuSans-6e\"/>\r\n     <use x=\"1140.048828\" xlink:href=\"#DejaVuSans-20\"/>\r\n     <use x=\"1171.835938\" xlink:href=\"#DejaVuSans-6c\"/>\r\n     <use x=\"1199.619141\" xlink:href=\"#DejaVuSans-6f\"/>\r\n     <use x=\"1260.800781\" xlink:href=\"#DejaVuSans-73\"/>\r\n     <use x=\"1312.900391\" xlink:href=\"#DejaVuSans-73\"/>\r\n    </g>\r\n   </g>\r\n   <g id=\"legend_1\">\r\n    <g id=\"patch_7\">\r\n     <path d=\"M 267.70625 59.674375 \r\nL 371.58125 59.674375 \r\nQ 373.58125 59.674375 373.58125 57.674375 \r\nL 373.58125 29.318125 \r\nQ 373.58125 27.318125 371.58125 27.318125 \r\nL 267.70625 27.318125 \r\nQ 265.70625 27.318125 265.70625 29.318125 \r\nL 265.70625 57.674375 \r\nQ 265.70625 59.674375 267.70625 59.674375 \r\nz\r\n\" style=\"fill:#ffffff;opacity:0.8;stroke:#cccccc;stroke-linejoin:miter;\"/>\r\n    </g>\r\n    <g id=\"line2d_14\">\r\n     <path d=\"M 269.70625 35.416562 \r\nL 289.70625 35.416562 \r\n\" style=\"fill:none;stroke:#0000ff;stroke-linecap:square;stroke-width:1.5;\"/>\r\n    </g>\r\n    <g id=\"line2d_15\"/>\r\n    <g id=\"text_15\">\r\n     <!-- Training loss -->\r\n     <g transform=\"translate(297.70625 38.916562)scale(0.1 -0.1)\">\r\n      <use xlink:href=\"#DejaVuSans-54\"/>\r\n      <use x=\"46.333984\" xlink:href=\"#DejaVuSans-72\"/>\r\n      <use x=\"87.447266\" xlink:href=\"#DejaVuSans-61\"/>\r\n      <use x=\"148.726562\" xlink:href=\"#DejaVuSans-69\"/>\r\n      <use x=\"176.509766\" xlink:href=\"#DejaVuSans-6e\"/>\r\n      <use x=\"239.888672\" xlink:href=\"#DejaVuSans-69\"/>\r\n      <use x=\"267.671875\" xlink:href=\"#DejaVuSans-6e\"/>\r\n      <use x=\"331.050781\" xlink:href=\"#DejaVuSans-67\"/>\r\n      <use x=\"394.527344\" xlink:href=\"#DejaVuSans-20\"/>\r\n      <use x=\"426.314453\" xlink:href=\"#DejaVuSans-6c\"/>\r\n      <use x=\"454.097656\" xlink:href=\"#DejaVuSans-6f\"/>\r\n      <use x=\"515.279297\" xlink:href=\"#DejaVuSans-73\"/>\r\n      <use x=\"567.378906\" xlink:href=\"#DejaVuSans-73\"/>\r\n     </g>\r\n    </g>\r\n    <g id=\"line2d_16\">\r\n     <path d=\"M 269.70625 50.094687 \r\nL 289.70625 50.094687 \r\n\" style=\"fill:none;stroke:#ff0000;stroke-linecap:square;stroke-width:1.5;\"/>\r\n    </g>\r\n    <g id=\"line2d_17\"/>\r\n    <g id=\"text_16\">\r\n     <!-- Validation loss -->\r\n     <g transform=\"translate(297.70625 53.594687)scale(0.1 -0.1)\">\r\n      <use xlink:href=\"#DejaVuSans-56\"/>\r\n      <use x=\"60.658203\" xlink:href=\"#DejaVuSans-61\"/>\r\n      <use x=\"121.9375\" xlink:href=\"#DejaVuSans-6c\"/>\r\n      <use x=\"149.720703\" xlink:href=\"#DejaVuSans-69\"/>\r\n      <use x=\"177.503906\" xlink:href=\"#DejaVuSans-64\"/>\r\n      <use x=\"240.980469\" xlink:href=\"#DejaVuSans-61\"/>\r\n      <use x=\"302.259766\" xlink:href=\"#DejaVuSans-74\"/>\r\n      <use x=\"341.46875\" xlink:href=\"#DejaVuSans-69\"/>\r\n      <use x=\"369.251953\" xlink:href=\"#DejaVuSans-6f\"/>\r\n      <use x=\"430.433594\" xlink:href=\"#DejaVuSans-6e\"/>\r\n      <use x=\"493.8125\" xlink:href=\"#DejaVuSans-20\"/>\r\n      <use x=\"525.599609\" xlink:href=\"#DejaVuSans-6c\"/>\r\n      <use x=\"553.382812\" xlink:href=\"#DejaVuSans-6f\"/>\r\n      <use x=\"614.564453\" xlink:href=\"#DejaVuSans-73\"/>\r\n      <use x=\"666.664062\" xlink:href=\"#DejaVuSans-73\"/>\r\n     </g>\r\n    </g>\r\n   </g>\r\n  </g>\r\n </g>\r\n <defs>\r\n  <clipPath id=\"p428dc83543\">\r\n   <rect height=\"217.44\" width=\"334.8\" x=\"43.78125\" y=\"22.318125\"/>\r\n  </clipPath>\r\n </defs>\r\n</svg>\r\n",
      "image/png": "[encoded data removed]"
     },
     "metadata": {
      "needs_background": "light"
     }
    }
   ],
   "source": [
    "def visualize_loss(history, title):\n",
    "    loss = history.history[\"loss\"]\n",
    "    val_loss = history.history[\"val_loss\"]\n",
    "    epochs = range(len(loss))\n",
    "    plt.figure()\n",
    "    plt.plot(epochs, loss, \"b\", label=\"Training loss\")\n",
    "    plt.plot(epochs, val_loss, \"r\", label=\"Validation loss\")\n",
    "    plt.title(title)\n",
    "    plt.xlabel(\"Epochs\")\n",
    "    plt.ylabel(\"Loss\")\n",
    "    plt.legend()\n",
    "    plt.show()\n",
    "    \n",
    "visualize_loss(history, \"Training and Validation loss\")"
   ]
  },
  {
   "cell_type": "code",
   "execution_count": 30,
   "metadata": {},
   "outputs": [
    {
     "output_type": "display_data",
     "data": {
      "text/plain": "<Figure size 432x288 with 1 Axes>",
      "image/svg+xml": "<?xml version=\"1.0\" encoding=\"utf-8\" standalone=\"no\"?>\r\n<!DOCTYPE svg PUBLIC \"-//W3C//DTD SVG 1.1//EN\"\r\n  \"http://www.w3.org/Graphics/SVG/1.1/DTD/svg11.dtd\">\r\n<svg height=\"277.314375pt\" version=\"1.1\" viewBox=\"0 0 378.465625 277.314375\" width=\"378.465625pt\" xmlns=\"http://www.w3.org/2000/svg\" xmlns:xlink=\"http://www.w3.org/1999/xlink\">\r\n <metadata>\r\n  <rdf:RDF xmlns:cc=\"http://creativecommons.org/ns#\" xmlns:dc=\"http://purl.org/dc/elements/1.1/\" xmlns:rdf=\"http://www.w3.org/1999/02/22-rdf-syntax-ns#\">\r\n   <cc:Work>\r\n    <dc:type rdf:resource=\"http://purl.org/dc/dcmitype/StillImage\"/>\r\n    <dc:date>2021-06-17T16:29:53.992513</dc:date>\r\n    <dc:format>image/svg+xml</dc:format>\r\n    <dc:creator>\r\n     <cc:Agent>\r\n      <dc:title>Matplotlib v3.4.2, https://matplotlib.org/</dc:title>\r\n     </cc:Agent>\r\n    </dc:creator>\r\n   </cc:Work>\r\n  </rdf:RDF>\r\n </metadata>\r\n <defs>\r\n  <style type=\"text/css\">*{stroke-linecap:butt;stroke-linejoin:round;}</style>\r\n </defs>\r\n <g id=\"figure_1\">\r\n  <g id=\"patch_1\">\r\n   <path d=\"M 0 277.314375 \r\nL 378.465625 277.314375 \r\nL 378.465625 0 \r\nL 0 0 \r\nz\r\n\" style=\"fill:none;\"/>\r\n  </g>\r\n  <g id=\"axes_1\">\r\n   <g id=\"patch_2\">\r\n    <path d=\"M 30.103125 239.758125 \r\nL 364.903125 239.758125 \r\nL 364.903125 22.318125 \r\nL 30.103125 22.318125 \r\nz\r\n\" style=\"fill:#ffffff;\"/>\r\n   </g>\r\n   <g id=\"matplotlib.axis_1\">\r\n    <g id=\"xtick_1\">\r\n     <g id=\"line2d_1\">\r\n      <defs>\r\n       <path d=\"M 0 0 \r\nL 0 3.5 \r\n\" id=\"m5bac46c0f0\" style=\"stroke:#000000;stroke-width:0.8;\"/>\r\n      </defs>\r\n      <g>\r\n       <use style=\"stroke:#000000;stroke-width:0.8;\" x=\"55.856971\" xlink:href=\"#m5bac46c0f0\" y=\"239.758125\"/>\r\n      </g>\r\n     </g>\r\n     <g id=\"text_1\">\r\n      <!-- 0 -->\r\n      <g transform=\"translate(52.675721 254.356562)scale(0.1 -0.1)\">\r\n       <defs>\r\n        <path d=\"M 2034 4250 \r\nQ 1547 4250 1301 3770 \r\nQ 1056 3291 1056 2328 \r\nQ 1056 1369 1301 889 \r\nQ 1547 409 2034 409 \r\nQ 2525 409 2770 889 \r\nQ 3016 1369 3016 2328 \r\nQ 3016 3291 2770 3770 \r\nQ 2525 4250 2034 4250 \r\nz\r\nM 2034 4750 \r\nQ 2819 4750 3233 4129 \r\nQ 3647 3509 3647 2328 \r\nQ 3647 1150 3233 529 \r\nQ 2819 -91 2034 -91 \r\nQ 1250 -91 836 529 \r\nQ 422 1150 422 2328 \r\nQ 422 3509 836 4129 \r\nQ 1250 4750 2034 4750 \r\nz\r\n\" id=\"DejaVuSans-30\" transform=\"scale(0.015625)\"/>\r\n       </defs>\r\n       <use xlink:href=\"#DejaVuSans-30\"/>\r\n      </g>\r\n     </g>\r\n    </g>\r\n    <g id=\"xtick_2\">\r\n     <g id=\"line2d_2\">\r\n      <g>\r\n       <use style=\"stroke:#000000;stroke-width:0.8;\" x=\"107.364663\" xlink:href=\"#m5bac46c0f0\" y=\"239.758125\"/>\r\n      </g>\r\n     </g>\r\n     <g id=\"text_2\">\r\n      <!-- 2 -->\r\n      <g transform=\"translate(104.183413 254.356562)scale(0.1 -0.1)\">\r\n       <defs>\r\n        <path d=\"M 1228 531 \r\nL 3431 531 \r\nL 3431 0 \r\nL 469 0 \r\nL 469 531 \r\nQ 828 903 1448 1529 \r\nQ 2069 2156 2228 2338 \r\nQ 2531 2678 2651 2914 \r\nQ 2772 3150 2772 3378 \r\nQ 2772 3750 2511 3984 \r\nQ 2250 4219 1831 4219 \r\nQ 1534 4219 1204 4116 \r\nQ 875 4013 500 3803 \r\nL 500 4441 \r\nQ 881 4594 1212 4672 \r\nQ 1544 4750 1819 4750 \r\nQ 2544 4750 2975 4387 \r\nQ 3406 4025 3406 3419 \r\nQ 3406 3131 3298 2873 \r\nQ 3191 2616 2906 2266 \r\nQ 2828 2175 2409 1742 \r\nQ 1991 1309 1228 531 \r\nz\r\n\" id=\"DejaVuSans-32\" transform=\"scale(0.015625)\"/>\r\n       </defs>\r\n       <use xlink:href=\"#DejaVuSans-32\"/>\r\n      </g>\r\n     </g>\r\n    </g>\r\n    <g id=\"xtick_3\">\r\n     <g id=\"line2d_3\">\r\n      <g>\r\n       <use style=\"stroke:#000000;stroke-width:0.8;\" x=\"158.872356\" xlink:href=\"#m5bac46c0f0\" y=\"239.758125\"/>\r\n      </g>\r\n     </g>\r\n     <g id=\"text_3\">\r\n      <!-- 4 -->\r\n      <g transform=\"translate(155.691106 254.356562)scale(0.1 -0.1)\">\r\n       <defs>\r\n        <path d=\"M 2419 4116 \r\nL 825 1625 \r\nL 2419 1625 \r\nL 2419 4116 \r\nz\r\nM 2253 4666 \r\nL 3047 4666 \r\nL 3047 1625 \r\nL 3713 1625 \r\nL 3713 1100 \r\nL 3047 1100 \r\nL 3047 0 \r\nL 2419 0 \r\nL 2419 1100 \r\nL 313 1100 \r\nL 313 1709 \r\nL 2253 4666 \r\nz\r\n\" id=\"DejaVuSans-34\" transform=\"scale(0.015625)\"/>\r\n       </defs>\r\n       <use xlink:href=\"#DejaVuSans-34\"/>\r\n      </g>\r\n     </g>\r\n    </g>\r\n    <g id=\"xtick_4\">\r\n     <g id=\"line2d_4\">\r\n      <g>\r\n       <use style=\"stroke:#000000;stroke-width:0.8;\" x=\"210.380048\" xlink:href=\"#m5bac46c0f0\" y=\"239.758125\"/>\r\n      </g>\r\n     </g>\r\n     <g id=\"text_4\">\r\n      <!-- 6 -->\r\n      <g transform=\"translate(207.198798 254.356562)scale(0.1 -0.1)\">\r\n       <defs>\r\n        <path d=\"M 2113 2584 \r\nQ 1688 2584 1439 2293 \r\nQ 1191 2003 1191 1497 \r\nQ 1191 994 1439 701 \r\nQ 1688 409 2113 409 \r\nQ 2538 409 2786 701 \r\nQ 3034 994 3034 1497 \r\nQ 3034 2003 2786 2293 \r\nQ 2538 2584 2113 2584 \r\nz\r\nM 3366 4563 \r\nL 3366 3988 \r\nQ 3128 4100 2886 4159 \r\nQ 2644 4219 2406 4219 \r\nQ 1781 4219 1451 3797 \r\nQ 1122 3375 1075 2522 \r\nQ 1259 2794 1537 2939 \r\nQ 1816 3084 2150 3084 \r\nQ 2853 3084 3261 2657 \r\nQ 3669 2231 3669 1497 \r\nQ 3669 778 3244 343 \r\nQ 2819 -91 2113 -91 \r\nQ 1303 -91 875 529 \r\nQ 447 1150 447 2328 \r\nQ 447 3434 972 4092 \r\nQ 1497 4750 2381 4750 \r\nQ 2619 4750 2861 4703 \r\nQ 3103 4656 3366 4563 \r\nz\r\n\" id=\"DejaVuSans-36\" transform=\"scale(0.015625)\"/>\r\n       </defs>\r\n       <use xlink:href=\"#DejaVuSans-36\"/>\r\n      </g>\r\n     </g>\r\n    </g>\r\n    <g id=\"xtick_5\">\r\n     <g id=\"line2d_5\">\r\n      <g>\r\n       <use style=\"stroke:#000000;stroke-width:0.8;\" x=\"261.88774\" xlink:href=\"#m5bac46c0f0\" y=\"239.758125\"/>\r\n      </g>\r\n     </g>\r\n     <g id=\"text_5\">\r\n      <!-- 8 -->\r\n      <g transform=\"translate(258.70649 254.356562)scale(0.1 -0.1)\">\r\n       <defs>\r\n        <path d=\"M 2034 2216 \r\nQ 1584 2216 1326 1975 \r\nQ 1069 1734 1069 1313 \r\nQ 1069 891 1326 650 \r\nQ 1584 409 2034 409 \r\nQ 2484 409 2743 651 \r\nQ 3003 894 3003 1313 \r\nQ 3003 1734 2745 1975 \r\nQ 2488 2216 2034 2216 \r\nz\r\nM 1403 2484 \r\nQ 997 2584 770 2862 \r\nQ 544 3141 544 3541 \r\nQ 544 4100 942 4425 \r\nQ 1341 4750 2034 4750 \r\nQ 2731 4750 3128 4425 \r\nQ 3525 4100 3525 3541 \r\nQ 3525 3141 3298 2862 \r\nQ 3072 2584 2669 2484 \r\nQ 3125 2378 3379 2068 \r\nQ 3634 1759 3634 1313 \r\nQ 3634 634 3220 271 \r\nQ 2806 -91 2034 -91 \r\nQ 1263 -91 848 271 \r\nQ 434 634 434 1313 \r\nQ 434 1759 690 2068 \r\nQ 947 2378 1403 2484 \r\nz\r\nM 1172 3481 \r\nQ 1172 3119 1398 2916 \r\nQ 1625 2713 2034 2713 \r\nQ 2441 2713 2670 2916 \r\nQ 2900 3119 2900 3481 \r\nQ 2900 3844 2670 4047 \r\nQ 2441 4250 2034 4250 \r\nQ 1625 4250 1398 4047 \r\nQ 1172 3844 1172 3481 \r\nz\r\n\" id=\"DejaVuSans-38\" transform=\"scale(0.015625)\"/>\r\n       </defs>\r\n       <use xlink:href=\"#DejaVuSans-38\"/>\r\n      </g>\r\n     </g>\r\n    </g>\r\n    <g id=\"xtick_6\">\r\n     <g id=\"line2d_6\">\r\n      <g>\r\n       <use style=\"stroke:#000000;stroke-width:0.8;\" x=\"313.395433\" xlink:href=\"#m5bac46c0f0\" y=\"239.758125\"/>\r\n      </g>\r\n     </g>\r\n     <g id=\"text_6\">\r\n      <!-- 10 -->\r\n      <g transform=\"translate(307.032933 254.356562)scale(0.1 -0.1)\">\r\n       <defs>\r\n        <path d=\"M 794 531 \r\nL 1825 531 \r\nL 1825 4091 \r\nL 703 3866 \r\nL 703 4441 \r\nL 1819 4666 \r\nL 2450 4666 \r\nL 2450 531 \r\nL 3481 531 \r\nL 3481 0 \r\nL 794 0 \r\nL 794 531 \r\nz\r\n\" id=\"DejaVuSans-31\" transform=\"scale(0.015625)\"/>\r\n       </defs>\r\n       <use xlink:href=\"#DejaVuSans-31\"/>\r\n       <use x=\"63.623047\" xlink:href=\"#DejaVuSans-30\"/>\r\n      </g>\r\n     </g>\r\n    </g>\r\n    <g id=\"xtick_7\">\r\n     <g id=\"line2d_7\">\r\n      <g>\r\n       <use style=\"stroke:#000000;stroke-width:0.8;\" x=\"364.903125\" xlink:href=\"#m5bac46c0f0\" y=\"239.758125\"/>\r\n      </g>\r\n     </g>\r\n     <g id=\"text_7\">\r\n      <!-- 12 -->\r\n      <g transform=\"translate(358.540625 254.356562)scale(0.1 -0.1)\">\r\n       <use xlink:href=\"#DejaVuSans-31\"/>\r\n       <use x=\"63.623047\" xlink:href=\"#DejaVuSans-32\"/>\r\n      </g>\r\n     </g>\r\n    </g>\r\n    <g id=\"text_8\">\r\n     <!-- Time-Step -->\r\n     <g transform=\"translate(172.080469 268.034687)scale(0.1 -0.1)\">\r\n      <defs>\r\n       <path d=\"M -19 4666 \r\nL 3928 4666 \r\nL 3928 4134 \r\nL 2272 4134 \r\nL 2272 0 \r\nL 1638 0 \r\nL 1638 4134 \r\nL -19 4134 \r\nL -19 4666 \r\nz\r\n\" id=\"DejaVuSans-54\" transform=\"scale(0.015625)\"/>\r\n       <path d=\"M 603 3500 \r\nL 1178 3500 \r\nL 1178 0 \r\nL 603 0 \r\nL 603 3500 \r\nz\r\nM 603 4863 \r\nL 1178 4863 \r\nL 1178 4134 \r\nL 603 4134 \r\nL 603 4863 \r\nz\r\n\" id=\"DejaVuSans-69\" transform=\"scale(0.015625)\"/>\r\n       <path d=\"M 3328 2828 \r\nQ 3544 3216 3844 3400 \r\nQ 4144 3584 4550 3584 \r\nQ 5097 3584 5394 3201 \r\nQ 5691 2819 5691 2113 \r\nL 5691 0 \r\nL 5113 0 \r\nL 5113 2094 \r\nQ 5113 2597 4934 2840 \r\nQ 4756 3084 4391 3084 \r\nQ 3944 3084 3684 2787 \r\nQ 3425 2491 3425 1978 \r\nL 3425 0 \r\nL 2847 0 \r\nL 2847 2094 \r\nQ 2847 2600 2669 2842 \r\nQ 2491 3084 2119 3084 \r\nQ 1678 3084 1418 2786 \r\nQ 1159 2488 1159 1978 \r\nL 1159 0 \r\nL 581 0 \r\nL 581 3500 \r\nL 1159 3500 \r\nL 1159 2956 \r\nQ 1356 3278 1631 3431 \r\nQ 1906 3584 2284 3584 \r\nQ 2666 3584 2933 3390 \r\nQ 3200 3197 3328 2828 \r\nz\r\n\" id=\"DejaVuSans-6d\" transform=\"scale(0.015625)\"/>\r\n       <path d=\"M 3597 1894 \r\nL 3597 1613 \r\nL 953 1613 \r\nQ 991 1019 1311 708 \r\nQ 1631 397 2203 397 \r\nQ 2534 397 2845 478 \r\nQ 3156 559 3463 722 \r\nL 3463 178 \r\nQ 3153 47 2828 -22 \r\nQ 2503 -91 2169 -91 \r\nQ 1331 -91 842 396 \r\nQ 353 884 353 1716 \r\nQ 353 2575 817 3079 \r\nQ 1281 3584 2069 3584 \r\nQ 2775 3584 3186 3129 \r\nQ 3597 2675 3597 1894 \r\nz\r\nM 3022 2063 \r\nQ 3016 2534 2758 2815 \r\nQ 2500 3097 2075 3097 \r\nQ 1594 3097 1305 2825 \r\nQ 1016 2553 972 2059 \r\nL 3022 2063 \r\nz\r\n\" id=\"DejaVuSans-65\" transform=\"scale(0.015625)\"/>\r\n       <path d=\"M 313 2009 \r\nL 1997 2009 \r\nL 1997 1497 \r\nL 313 1497 \r\nL 313 2009 \r\nz\r\n\" id=\"DejaVuSans-2d\" transform=\"scale(0.015625)\"/>\r\n       <path d=\"M 3425 4513 \r\nL 3425 3897 \r\nQ 3066 4069 2747 4153 \r\nQ 2428 4238 2131 4238 \r\nQ 1616 4238 1336 4038 \r\nQ 1056 3838 1056 3469 \r\nQ 1056 3159 1242 3001 \r\nQ 1428 2844 1947 2747 \r\nL 2328 2669 \r\nQ 3034 2534 3370 2195 \r\nQ 3706 1856 3706 1288 \r\nQ 3706 609 3251 259 \r\nQ 2797 -91 1919 -91 \r\nQ 1588 -91 1214 -16 \r\nQ 841 59 441 206 \r\nL 441 856 \r\nQ 825 641 1194 531 \r\nQ 1563 422 1919 422 \r\nQ 2459 422 2753 634 \r\nQ 3047 847 3047 1241 \r\nQ 3047 1584 2836 1778 \r\nQ 2625 1972 2144 2069 \r\nL 1759 2144 \r\nQ 1053 2284 737 2584 \r\nQ 422 2884 422 3419 \r\nQ 422 4038 858 4394 \r\nQ 1294 4750 2059 4750 \r\nQ 2388 4750 2728 4690 \r\nQ 3069 4631 3425 4513 \r\nz\r\n\" id=\"DejaVuSans-53\" transform=\"scale(0.015625)\"/>\r\n       <path d=\"M 1172 4494 \r\nL 1172 3500 \r\nL 2356 3500 \r\nL 2356 3053 \r\nL 1172 3053 \r\nL 1172 1153 \r\nQ 1172 725 1289 603 \r\nQ 1406 481 1766 481 \r\nL 2356 481 \r\nL 2356 0 \r\nL 1766 0 \r\nQ 1100 0 847 248 \r\nQ 594 497 594 1153 \r\nL 594 3053 \r\nL 172 3053 \r\nL 172 3500 \r\nL 594 3500 \r\nL 594 4494 \r\nL 1172 4494 \r\nz\r\n\" id=\"DejaVuSans-74\" transform=\"scale(0.015625)\"/>\r\n       <path d=\"M 1159 525 \r\nL 1159 -1331 \r\nL 581 -1331 \r\nL 581 3500 \r\nL 1159 3500 \r\nL 1159 2969 \r\nQ 1341 3281 1617 3432 \r\nQ 1894 3584 2278 3584 \r\nQ 2916 3584 3314 3078 \r\nQ 3713 2572 3713 1747 \r\nQ 3713 922 3314 415 \r\nQ 2916 -91 2278 -91 \r\nQ 1894 -91 1617 61 \r\nQ 1341 213 1159 525 \r\nz\r\nM 3116 1747 \r\nQ 3116 2381 2855 2742 \r\nQ 2594 3103 2138 3103 \r\nQ 1681 3103 1420 2742 \r\nQ 1159 2381 1159 1747 \r\nQ 1159 1113 1420 752 \r\nQ 1681 391 2138 391 \r\nQ 2594 391 2855 752 \r\nQ 3116 1113 3116 1747 \r\nz\r\n\" id=\"DejaVuSans-70\" transform=\"scale(0.015625)\"/>\r\n      </defs>\r\n      <use xlink:href=\"#DejaVuSans-54\"/>\r\n      <use x=\"57.958984\" xlink:href=\"#DejaVuSans-69\"/>\r\n      <use x=\"85.742188\" xlink:href=\"#DejaVuSans-6d\"/>\r\n      <use x=\"183.154297\" xlink:href=\"#DejaVuSans-65\"/>\r\n      <use x=\"244.677734\" xlink:href=\"#DejaVuSans-2d\"/>\r\n      <use x=\"280.761719\" xlink:href=\"#DejaVuSans-53\"/>\r\n      <use x=\"344.238281\" xlink:href=\"#DejaVuSans-74\"/>\r\n      <use x=\"383.447266\" xlink:href=\"#DejaVuSans-65\"/>\r\n      <use x=\"444.970703\" xlink:href=\"#DejaVuSans-70\"/>\r\n     </g>\r\n    </g>\r\n   </g>\r\n   <g id=\"matplotlib.axis_2\">\r\n    <g id=\"ytick_1\">\r\n     <g id=\"line2d_8\">\r\n      <defs>\r\n       <path d=\"M 0 0 \r\nL -3.5 0 \r\n\" id=\"m7cc71a43b9\" style=\"stroke:#000000;stroke-width:0.8;\"/>\r\n      </defs>\r\n      <g>\r\n       <use style=\"stroke:#000000;stroke-width:0.8;\" x=\"30.103125\" xlink:href=\"#m7cc71a43b9\" y=\"227.177296\"/>\r\n      </g>\r\n     </g>\r\n     <g id=\"text_9\">\r\n      <!-- 0.2 -->\r\n      <g transform=\"translate(7.2 230.976515)scale(0.1 -0.1)\">\r\n       <defs>\r\n        <path d=\"M 684 794 \r\nL 1344 794 \r\nL 1344 0 \r\nL 684 0 \r\nL 684 794 \r\nz\r\n\" id=\"DejaVuSans-2e\" transform=\"scale(0.015625)\"/>\r\n       </defs>\r\n       <use xlink:href=\"#DejaVuSans-30\"/>\r\n       <use x=\"63.623047\" xlink:href=\"#DejaVuSans-2e\"/>\r\n       <use x=\"95.410156\" xlink:href=\"#DejaVuSans-32\"/>\r\n      </g>\r\n     </g>\r\n    </g>\r\n    <g id=\"ytick_2\">\r\n     <g id=\"line2d_9\">\r\n      <g>\r\n       <use style=\"stroke:#000000;stroke-width:0.8;\" x=\"30.103125\" xlink:href=\"#m7cc71a43b9\" y=\"188.424623\"/>\r\n      </g>\r\n     </g>\r\n     <g id=\"text_10\">\r\n      <!-- 0.4 -->\r\n      <g transform=\"translate(7.2 192.223841)scale(0.1 -0.1)\">\r\n       <use xlink:href=\"#DejaVuSans-30\"/>\r\n       <use x=\"63.623047\" xlink:href=\"#DejaVuSans-2e\"/>\r\n       <use x=\"95.410156\" xlink:href=\"#DejaVuSans-34\"/>\r\n      </g>\r\n     </g>\r\n    </g>\r\n    <g id=\"ytick_3\">\r\n     <g id=\"line2d_10\">\r\n      <g>\r\n       <use style=\"stroke:#000000;stroke-width:0.8;\" x=\"30.103125\" xlink:href=\"#m7cc71a43b9\" y=\"149.671949\"/>\r\n      </g>\r\n     </g>\r\n     <g id=\"text_11\">\r\n      <!-- 0.6 -->\r\n      <g transform=\"translate(7.2 153.471168)scale(0.1 -0.1)\">\r\n       <use xlink:href=\"#DejaVuSans-30\"/>\r\n       <use x=\"63.623047\" xlink:href=\"#DejaVuSans-2e\"/>\r\n       <use x=\"95.410156\" xlink:href=\"#DejaVuSans-36\"/>\r\n      </g>\r\n     </g>\r\n    </g>\r\n    <g id=\"ytick_4\">\r\n     <g id=\"line2d_11\">\r\n      <g>\r\n       <use style=\"stroke:#000000;stroke-width:0.8;\" x=\"30.103125\" xlink:href=\"#m7cc71a43b9\" y=\"110.919276\"/>\r\n      </g>\r\n     </g>\r\n     <g id=\"text_12\">\r\n      <!-- 0.8 -->\r\n      <g transform=\"translate(7.2 114.718494)scale(0.1 -0.1)\">\r\n       <use xlink:href=\"#DejaVuSans-30\"/>\r\n       <use x=\"63.623047\" xlink:href=\"#DejaVuSans-2e\"/>\r\n       <use x=\"95.410156\" xlink:href=\"#DejaVuSans-38\"/>\r\n      </g>\r\n     </g>\r\n    </g>\r\n    <g id=\"ytick_5\">\r\n     <g id=\"line2d_12\">\r\n      <g>\r\n       <use style=\"stroke:#000000;stroke-width:0.8;\" x=\"30.103125\" xlink:href=\"#m7cc71a43b9\" y=\"72.166602\"/>\r\n      </g>\r\n     </g>\r\n     <g id=\"text_13\">\r\n      <!-- 1.0 -->\r\n      <g transform=\"translate(7.2 75.965821)scale(0.1 -0.1)\">\r\n       <use xlink:href=\"#DejaVuSans-31\"/>\r\n       <use x=\"63.623047\" xlink:href=\"#DejaVuSans-2e\"/>\r\n       <use x=\"95.410156\" xlink:href=\"#DejaVuSans-30\"/>\r\n      </g>\r\n     </g>\r\n    </g>\r\n    <g id=\"ytick_6\">\r\n     <g id=\"line2d_13\">\r\n      <g>\r\n       <use style=\"stroke:#000000;stroke-width:0.8;\" x=\"30.103125\" xlink:href=\"#m7cc71a43b9\" y=\"33.413929\"/>\r\n      </g>\r\n     </g>\r\n     <g id=\"text_14\">\r\n      <!-- 1.2 -->\r\n      <g transform=\"translate(7.2 37.213147)scale(0.1 -0.1)\">\r\n       <use xlink:href=\"#DejaVuSans-31\"/>\r\n       <use x=\"63.623047\" xlink:href=\"#DejaVuSans-2e\"/>\r\n       <use x=\"95.410156\" xlink:href=\"#DejaVuSans-32\"/>\r\n      </g>\r\n     </g>\r\n    </g>\r\n   </g>\r\n   <g id=\"line2d_14\">\r\n    <path clip-path=\"url(#p133c6aa6e0)\" d=\"M 30.103125 229.874489 \r\n\" style=\"fill:none;stroke:#1f77b4;stroke-linecap:square;stroke-width:1.5;\"/>\r\n    <defs>\r\n     <path d=\"M 0 1.5 \r\nC 0.397805 1.5 0.77937 1.341951 1.06066 1.06066 \r\nC 1.341951 0.77937 1.5 0.397805 1.5 0 \r\nC 1.5 -0.397805 1.341951 -0.77937 1.06066 -1.06066 \r\nC 0.77937 -1.341951 0.397805 -1.5 0 -1.5 \r\nC -0.397805 -1.5 -0.77937 -1.341951 -1.06066 -1.06066 \r\nC -1.341951 -0.77937 -1.5 -0.397805 -1.5 0 \r\nC -1.5 0.397805 -1.341951 0.77937 -1.06066 1.06066 \r\nC -0.77937 1.341951 -0.397805 1.5 0 1.5 \r\nz\r\n\" id=\"m73160c27b4\" style=\"stroke:#1f77b4;\"/>\r\n    </defs>\r\n    <g clip-path=\"url(#p133c6aa6e0)\">\r\n     <use style=\"fill:#1f77b4;stroke:#1f77b4;\" x=\"30.103125\" xlink:href=\"#m73160c27b4\" y=\"229.874489\"/>\r\n    </g>\r\n   </g>\r\n   <g id=\"line2d_15\">\r\n    <defs>\r\n     <path d=\"M -5 5 \r\nL 5 -5 \r\nM -5 -5 \r\nL 5 5 \r\n\" id=\"m7cff341156\" style=\"stroke:#ff0000;\"/>\r\n    </defs>\r\n    <g clip-path=\"url(#p133c6aa6e0)\">\r\n     <use style=\"fill:#ff0000;stroke:#ff0000;\" x=\"81.610817\" xlink:href=\"#m7cff341156\" y=\"32.201761\"/>\r\n    </g>\r\n   </g>\r\n   <g id=\"line2d_16\">\r\n    <defs>\r\n     <path d=\"M 0 5 \r\nC 1.326016 5 2.597899 4.473168 3.535534 3.535534 \r\nC 4.473168 2.597899 5 1.326016 5 0 \r\nC 5 -1.326016 4.473168 -2.597899 3.535534 -3.535534 \r\nC 2.597899 -4.473168 1.326016 -5 0 -5 \r\nC -1.326016 -5 -2.597899 -4.473168 -3.535534 -3.535534 \r\nC -4.473168 -2.597899 -5 -1.326016 -5 0 \r\nC -5 1.326016 -4.473168 2.597899 -3.535534 3.535534 \r\nC -2.597899 4.473168 -1.326016 5 0 5 \r\nz\r\n\" id=\"m6c33f70e4d\" style=\"stroke:#008000;\"/>\r\n    </defs>\r\n    <g clip-path=\"url(#p133c6aa6e0)\">\r\n     <use style=\"fill:#008000;stroke:#008000;\" x=\"81.610817\" xlink:href=\"#m6c33f70e4d\" y=\"89.712396\"/>\r\n    </g>\r\n   </g>\r\n   <g id=\"patch_3\">\r\n    <path d=\"M 30.103125 239.758125 \r\nL 30.103125 22.318125 \r\n\" style=\"fill:none;stroke:#000000;stroke-linecap:square;stroke-linejoin:miter;stroke-width:0.8;\"/>\r\n   </g>\r\n   <g id=\"patch_4\">\r\n    <path d=\"M 364.903125 239.758125 \r\nL 364.903125 22.318125 \r\n\" style=\"fill:none;stroke:#000000;stroke-linecap:square;stroke-linejoin:miter;stroke-width:0.8;\"/>\r\n   </g>\r\n   <g id=\"patch_5\">\r\n    <path d=\"M 30.103125 239.758125 \r\nL 364.903125 239.758125 \r\n\" style=\"fill:none;stroke:#000000;stroke-linecap:square;stroke-linejoin:miter;stroke-width:0.8;\"/>\r\n   </g>\r\n   <g id=\"patch_6\">\r\n    <path d=\"M 30.103125 22.318125 \r\nL 364.903125 22.318125 \r\n\" style=\"fill:none;stroke:#000000;stroke-linecap:square;stroke-linejoin:miter;stroke-width:0.8;\"/>\r\n   </g>\r\n   <g id=\"text_15\">\r\n    <!-- Single Step Prediction -->\r\n    <g transform=\"translate(131.776875 16.318125)scale(0.12 -0.12)\">\r\n     <defs>\r\n      <path d=\"M 3513 2113 \r\nL 3513 0 \r\nL 2938 0 \r\nL 2938 2094 \r\nQ 2938 2591 2744 2837 \r\nQ 2550 3084 2163 3084 \r\nQ 1697 3084 1428 2787 \r\nQ 1159 2491 1159 1978 \r\nL 1159 0 \r\nL 581 0 \r\nL 581 3500 \r\nL 1159 3500 \r\nL 1159 2956 \r\nQ 1366 3272 1645 3428 \r\nQ 1925 3584 2291 3584 \r\nQ 2894 3584 3203 3211 \r\nQ 3513 2838 3513 2113 \r\nz\r\n\" id=\"DejaVuSans-6e\" transform=\"scale(0.015625)\"/>\r\n      <path d=\"M 2906 1791 \r\nQ 2906 2416 2648 2759 \r\nQ 2391 3103 1925 3103 \r\nQ 1463 3103 1205 2759 \r\nQ 947 2416 947 1791 \r\nQ 947 1169 1205 825 \r\nQ 1463 481 1925 481 \r\nQ 2391 481 2648 825 \r\nQ 2906 1169 2906 1791 \r\nz\r\nM 3481 434 \r\nQ 3481 -459 3084 -895 \r\nQ 2688 -1331 1869 -1331 \r\nQ 1566 -1331 1297 -1286 \r\nQ 1028 -1241 775 -1147 \r\nL 775 -588 \r\nQ 1028 -725 1275 -790 \r\nQ 1522 -856 1778 -856 \r\nQ 2344 -856 2625 -561 \r\nQ 2906 -266 2906 331 \r\nL 2906 616 \r\nQ 2728 306 2450 153 \r\nQ 2172 0 1784 0 \r\nQ 1141 0 747 490 \r\nQ 353 981 353 1791 \r\nQ 353 2603 747 3093 \r\nQ 1141 3584 1784 3584 \r\nQ 2172 3584 2450 3431 \r\nQ 2728 3278 2906 2969 \r\nL 2906 3500 \r\nL 3481 3500 \r\nL 3481 434 \r\nz\r\n\" id=\"DejaVuSans-67\" transform=\"scale(0.015625)\"/>\r\n      <path d=\"M 603 4863 \r\nL 1178 4863 \r\nL 1178 0 \r\nL 603 0 \r\nL 603 4863 \r\nz\r\n\" id=\"DejaVuSans-6c\" transform=\"scale(0.015625)\"/>\r\n      <path id=\"DejaVuSans-20\" transform=\"scale(0.015625)\"/>\r\n      <path d=\"M 1259 4147 \r\nL 1259 2394 \r\nL 2053 2394 \r\nQ 2494 2394 2734 2622 \r\nQ 2975 2850 2975 3272 \r\nQ 2975 3691 2734 3919 \r\nQ 2494 4147 2053 4147 \r\nL 1259 4147 \r\nz\r\nM 628 4666 \r\nL 2053 4666 \r\nQ 2838 4666 3239 4311 \r\nQ 3641 3956 3641 3272 \r\nQ 3641 2581 3239 2228 \r\nQ 2838 1875 2053 1875 \r\nL 1259 1875 \r\nL 1259 0 \r\nL 628 0 \r\nL 628 4666 \r\nz\r\n\" id=\"DejaVuSans-50\" transform=\"scale(0.015625)\"/>\r\n      <path d=\"M 2631 2963 \r\nQ 2534 3019 2420 3045 \r\nQ 2306 3072 2169 3072 \r\nQ 1681 3072 1420 2755 \r\nQ 1159 2438 1159 1844 \r\nL 1159 0 \r\nL 581 0 \r\nL 581 3500 \r\nL 1159 3500 \r\nL 1159 2956 \r\nQ 1341 3275 1631 3429 \r\nQ 1922 3584 2338 3584 \r\nQ 2397 3584 2469 3576 \r\nQ 2541 3569 2628 3553 \r\nL 2631 2963 \r\nz\r\n\" id=\"DejaVuSans-72\" transform=\"scale(0.015625)\"/>\r\n      <path d=\"M 2906 2969 \r\nL 2906 4863 \r\nL 3481 4863 \r\nL 3481 0 \r\nL 2906 0 \r\nL 2906 525 \r\nQ 2725 213 2448 61 \r\nQ 2172 -91 1784 -91 \r\nQ 1150 -91 751 415 \r\nQ 353 922 353 1747 \r\nQ 353 2572 751 3078 \r\nQ 1150 3584 1784 3584 \r\nQ 2172 3584 2448 3432 \r\nQ 2725 3281 2906 2969 \r\nz\r\nM 947 1747 \r\nQ 947 1113 1208 752 \r\nQ 1469 391 1925 391 \r\nQ 2381 391 2643 752 \r\nQ 2906 1113 2906 1747 \r\nQ 2906 2381 2643 2742 \r\nQ 2381 3103 1925 3103 \r\nQ 1469 3103 1208 2742 \r\nQ 947 2381 947 1747 \r\nz\r\n\" id=\"DejaVuSans-64\" transform=\"scale(0.015625)\"/>\r\n      <path d=\"M 3122 3366 \r\nL 3122 2828 \r\nQ 2878 2963 2633 3030 \r\nQ 2388 3097 2138 3097 \r\nQ 1578 3097 1268 2742 \r\nQ 959 2388 959 1747 \r\nQ 959 1106 1268 751 \r\nQ 1578 397 2138 397 \r\nQ 2388 397 2633 464 \r\nQ 2878 531 3122 666 \r\nL 3122 134 \r\nQ 2881 22 2623 -34 \r\nQ 2366 -91 2075 -91 \r\nQ 1284 -91 818 406 \r\nQ 353 903 353 1747 \r\nQ 353 2603 823 3093 \r\nQ 1294 3584 2113 3584 \r\nQ 2378 3584 2631 3529 \r\nQ 2884 3475 3122 3366 \r\nz\r\n\" id=\"DejaVuSans-63\" transform=\"scale(0.015625)\"/>\r\n      <path d=\"M 1959 3097 \r\nQ 1497 3097 1228 2736 \r\nQ 959 2375 959 1747 \r\nQ 959 1119 1226 758 \r\nQ 1494 397 1959 397 \r\nQ 2419 397 2687 759 \r\nQ 2956 1122 2956 1747 \r\nQ 2956 2369 2687 2733 \r\nQ 2419 3097 1959 3097 \r\nz\r\nM 1959 3584 \r\nQ 2709 3584 3137 3096 \r\nQ 3566 2609 3566 1747 \r\nQ 3566 888 3137 398 \r\nQ 2709 -91 1959 -91 \r\nQ 1206 -91 779 398 \r\nQ 353 888 353 1747 \r\nQ 353 2609 779 3096 \r\nQ 1206 3584 1959 3584 \r\nz\r\n\" id=\"DejaVuSans-6f\" transform=\"scale(0.015625)\"/>\r\n     </defs>\r\n     <use xlink:href=\"#DejaVuSans-53\"/>\r\n     <use x=\"63.476562\" xlink:href=\"#DejaVuSans-69\"/>\r\n     <use x=\"91.259766\" xlink:href=\"#DejaVuSans-6e\"/>\r\n     <use x=\"154.638672\" xlink:href=\"#DejaVuSans-67\"/>\r\n     <use x=\"218.115234\" xlink:href=\"#DejaVuSans-6c\"/>\r\n     <use x=\"245.898438\" xlink:href=\"#DejaVuSans-65\"/>\r\n     <use x=\"307.421875\" xlink:href=\"#DejaVuSans-20\"/>\r\n     <use x=\"339.208984\" xlink:href=\"#DejaVuSans-53\"/>\r\n     <use x=\"402.685547\" xlink:href=\"#DejaVuSans-74\"/>\r\n     <use x=\"441.894531\" xlink:href=\"#DejaVuSans-65\"/>\r\n     <use x=\"503.417969\" xlink:href=\"#DejaVuSans-70\"/>\r\n     <use x=\"566.894531\" xlink:href=\"#DejaVuSans-20\"/>\r\n     <use x=\"598.681641\" xlink:href=\"#DejaVuSans-50\"/>\r\n     <use x=\"657.234375\" xlink:href=\"#DejaVuSans-72\"/>\r\n     <use x=\"696.097656\" xlink:href=\"#DejaVuSans-65\"/>\r\n     <use x=\"757.621094\" xlink:href=\"#DejaVuSans-64\"/>\r\n     <use x=\"821.097656\" xlink:href=\"#DejaVuSans-69\"/>\r\n     <use x=\"848.880859\" xlink:href=\"#DejaVuSans-63\"/>\r\n     <use x=\"903.861328\" xlink:href=\"#DejaVuSans-74\"/>\r\n     <use x=\"943.070312\" xlink:href=\"#DejaVuSans-69\"/>\r\n     <use x=\"970.853516\" xlink:href=\"#DejaVuSans-6f\"/>\r\n     <use x=\"1032.035156\" xlink:href=\"#DejaVuSans-6e\"/>\r\n    </g>\r\n   </g>\r\n   <g id=\"legend_1\">\r\n    <g id=\"patch_7\">\r\n     <path d=\"M 243.025 74.3525 \r\nL 357.903125 74.3525 \r\nQ 359.903125 74.3525 359.903125 72.3525 \r\nL 359.903125 29.318125 \r\nQ 359.903125 27.318125 357.903125 27.318125 \r\nL 243.025 27.318125 \r\nQ 241.025 27.318125 241.025 29.318125 \r\nL 241.025 72.3525 \r\nQ 241.025 74.3525 243.025 74.3525 \r\nz\r\n\" style=\"fill:#ffffff;opacity:0.8;stroke:#cccccc;stroke-linejoin:miter;\"/>\r\n    </g>\r\n    <g id=\"line2d_17\">\r\n     <path d=\"M 245.025 35.416562 \r\nL 265.025 35.416562 \r\n\" style=\"fill:none;stroke:#1f77b4;stroke-linecap:square;stroke-width:1.5;\"/>\r\n    </g>\r\n    <g id=\"line2d_18\">\r\n     <g>\r\n      <use style=\"fill:#1f77b4;stroke:#1f77b4;\" x=\"255.025\" xlink:href=\"#m73160c27b4\" y=\"35.416562\"/>\r\n     </g>\r\n    </g>\r\n    <g id=\"text_16\">\r\n     <!-- History -->\r\n     <g transform=\"translate(273.025 38.916562)scale(0.1 -0.1)\">\r\n      <defs>\r\n       <path d=\"M 628 4666 \r\nL 1259 4666 \r\nL 1259 2753 \r\nL 3553 2753 \r\nL 3553 4666 \r\nL 4184 4666 \r\nL 4184 0 \r\nL 3553 0 \r\nL 3553 2222 \r\nL 1259 2222 \r\nL 1259 0 \r\nL 628 0 \r\nL 628 4666 \r\nz\r\n\" id=\"DejaVuSans-48\" transform=\"scale(0.015625)\"/>\r\n       <path d=\"M 2834 3397 \r\nL 2834 2853 \r\nQ 2591 2978 2328 3040 \r\nQ 2066 3103 1784 3103 \r\nQ 1356 3103 1142 2972 \r\nQ 928 2841 928 2578 \r\nQ 928 2378 1081 2264 \r\nQ 1234 2150 1697 2047 \r\nL 1894 2003 \r\nQ 2506 1872 2764 1633 \r\nQ 3022 1394 3022 966 \r\nQ 3022 478 2636 193 \r\nQ 2250 -91 1575 -91 \r\nQ 1294 -91 989 -36 \r\nQ 684 19 347 128 \r\nL 347 722 \r\nQ 666 556 975 473 \r\nQ 1284 391 1588 391 \r\nQ 1994 391 2212 530 \r\nQ 2431 669 2431 922 \r\nQ 2431 1156 2273 1281 \r\nQ 2116 1406 1581 1522 \r\nL 1381 1569 \r\nQ 847 1681 609 1914 \r\nQ 372 2147 372 2553 \r\nQ 372 3047 722 3315 \r\nQ 1072 3584 1716 3584 \r\nQ 2034 3584 2315 3537 \r\nQ 2597 3491 2834 3397 \r\nz\r\n\" id=\"DejaVuSans-73\" transform=\"scale(0.015625)\"/>\r\n       <path d=\"M 2059 -325 \r\nQ 1816 -950 1584 -1140 \r\nQ 1353 -1331 966 -1331 \r\nL 506 -1331 \r\nL 506 -850 \r\nL 844 -850 \r\nQ 1081 -850 1212 -737 \r\nQ 1344 -625 1503 -206 \r\nL 1606 56 \r\nL 191 3500 \r\nL 800 3500 \r\nL 1894 763 \r\nL 2988 3500 \r\nL 3597 3500 \r\nL 2059 -325 \r\nz\r\n\" id=\"DejaVuSans-79\" transform=\"scale(0.015625)\"/>\r\n      </defs>\r\n      <use xlink:href=\"#DejaVuSans-48\"/>\r\n      <use x=\"75.195312\" xlink:href=\"#DejaVuSans-69\"/>\r\n      <use x=\"102.978516\" xlink:href=\"#DejaVuSans-73\"/>\r\n      <use x=\"155.078125\" xlink:href=\"#DejaVuSans-74\"/>\r\n      <use x=\"194.287109\" xlink:href=\"#DejaVuSans-6f\"/>\r\n      <use x=\"255.46875\" xlink:href=\"#DejaVuSans-72\"/>\r\n      <use x=\"296.582031\" xlink:href=\"#DejaVuSans-79\"/>\r\n     </g>\r\n    </g>\r\n    <g id=\"line2d_19\"/>\r\n    <g id=\"line2d_20\">\r\n     <g>\r\n      <use style=\"fill:#ff0000;stroke:#ff0000;\" x=\"255.025\" xlink:href=\"#m7cff341156\" y=\"50.094687\"/>\r\n     </g>\r\n    </g>\r\n    <g id=\"text_17\">\r\n     <!-- True Future -->\r\n     <g transform=\"translate(273.025 53.594687)scale(0.1 -0.1)\">\r\n      <defs>\r\n       <path d=\"M 544 1381 \r\nL 544 3500 \r\nL 1119 3500 \r\nL 1119 1403 \r\nQ 1119 906 1312 657 \r\nQ 1506 409 1894 409 \r\nQ 2359 409 2629 706 \r\nQ 2900 1003 2900 1516 \r\nL 2900 3500 \r\nL 3475 3500 \r\nL 3475 0 \r\nL 2900 0 \r\nL 2900 538 \r\nQ 2691 219 2414 64 \r\nQ 2138 -91 1772 -91 \r\nQ 1169 -91 856 284 \r\nQ 544 659 544 1381 \r\nz\r\nM 1991 3584 \r\nL 1991 3584 \r\nz\r\n\" id=\"DejaVuSans-75\" transform=\"scale(0.015625)\"/>\r\n       <path d=\"M 628 4666 \r\nL 3309 4666 \r\nL 3309 4134 \r\nL 1259 4134 \r\nL 1259 2759 \r\nL 3109 2759 \r\nL 3109 2228 \r\nL 1259 2228 \r\nL 1259 0 \r\nL 628 0 \r\nL 628 4666 \r\nz\r\n\" id=\"DejaVuSans-46\" transform=\"scale(0.015625)\"/>\r\n      </defs>\r\n      <use xlink:href=\"#DejaVuSans-54\"/>\r\n      <use x=\"46.333984\" xlink:href=\"#DejaVuSans-72\"/>\r\n      <use x=\"87.447266\" xlink:href=\"#DejaVuSans-75\"/>\r\n      <use x=\"150.826172\" xlink:href=\"#DejaVuSans-65\"/>\r\n      <use x=\"212.349609\" xlink:href=\"#DejaVuSans-20\"/>\r\n      <use x=\"244.136719\" xlink:href=\"#DejaVuSans-46\"/>\r\n      <use x=\"296.15625\" xlink:href=\"#DejaVuSans-75\"/>\r\n      <use x=\"359.535156\" xlink:href=\"#DejaVuSans-74\"/>\r\n      <use x=\"398.744141\" xlink:href=\"#DejaVuSans-75\"/>\r\n      <use x=\"462.123047\" xlink:href=\"#DejaVuSans-72\"/>\r\n      <use x=\"500.986328\" xlink:href=\"#DejaVuSans-65\"/>\r\n     </g>\r\n    </g>\r\n    <g id=\"line2d_21\"/>\r\n    <g id=\"line2d_22\">\r\n     <g>\r\n      <use style=\"fill:#008000;stroke:#008000;\" x=\"255.025\" xlink:href=\"#m6c33f70e4d\" y=\"64.772812\"/>\r\n     </g>\r\n    </g>\r\n    <g id=\"text_18\">\r\n     <!-- Model Prediction -->\r\n     <g transform=\"translate(273.025 68.272812)scale(0.1 -0.1)\">\r\n      <defs>\r\n       <path d=\"M 628 4666 \r\nL 1569 4666 \r\nL 2759 1491 \r\nL 3956 4666 \r\nL 4897 4666 \r\nL 4897 0 \r\nL 4281 0 \r\nL 4281 4097 \r\nL 3078 897 \r\nL 2444 897 \r\nL 1241 4097 \r\nL 1241 0 \r\nL 628 0 \r\nL 628 4666 \r\nz\r\n\" id=\"DejaVuSans-4d\" transform=\"scale(0.015625)\"/>\r\n      </defs>\r\n      <use xlink:href=\"#DejaVuSans-4d\"/>\r\n      <use x=\"86.279297\" xlink:href=\"#DejaVuSans-6f\"/>\r\n      <use x=\"147.460938\" xlink:href=\"#DejaVuSans-64\"/>\r\n      <use x=\"210.9375\" xlink:href=\"#DejaVuSans-65\"/>\r\n      <use x=\"272.460938\" xlink:href=\"#DejaVuSans-6c\"/>\r\n      <use x=\"300.244141\" xlink:href=\"#DejaVuSans-20\"/>\r\n      <use x=\"332.03125\" xlink:href=\"#DejaVuSans-50\"/>\r\n      <use x=\"390.583984\" xlink:href=\"#DejaVuSans-72\"/>\r\n      <use x=\"429.447266\" xlink:href=\"#DejaVuSans-65\"/>\r\n      <use x=\"490.970703\" xlink:href=\"#DejaVuSans-64\"/>\r\n      <use x=\"554.447266\" xlink:href=\"#DejaVuSans-69\"/>\r\n      <use x=\"582.230469\" xlink:href=\"#DejaVuSans-63\"/>\r\n      <use x=\"637.210938\" xlink:href=\"#DejaVuSans-74\"/>\r\n      <use x=\"676.419922\" xlink:href=\"#DejaVuSans-69\"/>\r\n      <use x=\"704.203125\" xlink:href=\"#DejaVuSans-6f\"/>\r\n      <use x=\"765.384766\" xlink:href=\"#DejaVuSans-6e\"/>\r\n     </g>\r\n    </g>\r\n   </g>\r\n  </g>\r\n </g>\r\n <defs>\r\n  <clipPath id=\"p133c6aa6e0\">\r\n   <rect height=\"217.44\" width=\"334.8\" x=\"30.103125\" y=\"22.318125\"/>\r\n  </clipPath>\r\n </defs>\r\n</svg>\r\n",
      "image/png": "[encoded data removed]"
     },
     "metadata": {
      "needs_background": "light"
     }
    }
   ],
   "source": [
    "def show_plot(plot_data, delta, title):\n",
    "    labels = [\"History\", \"True Future\", \"Model Prediction\"]\n",
    "    marker = [\".-\", \"rx\", \"go\"]\n",
    "    time_steps = list(range(-(plot_data[0].shape[0]), 0))\n",
    "    if delta:\n",
    "        future = delta\n",
    "    else:\n",
    "        future = 0\n",
    "\n",
    "    plt.title(title)\n",
    "    for i, val in enumerate(plot_data):\n",
    "        if i:\n",
    "            plt.plot(future, plot_data[i], marker[i], markersize=10, label=labels[i])\n",
    "        else:\n",
    "            plt.plot(time_steps, plot_data[i].flatten(), marker[i], label=labels[i])\n",
    "    plt.legend()\n",
    "    plt.xlim([time_steps[0], (future + 5) * 2])\n",
    "    plt.xlabel(\"Time-Step\")\n",
    "    plt.show()\n",
    "    return\n",
    "\n",
    "for x, y in dataset_val.take(1):\n",
    "    show_plot(\n",
    "        [x[0][:, 0].numpy(), y[0].numpy(), model.predict(x)[0]],\n",
    "        1,\n",
    "        \"Single Step Prediction\",\n",
    "    )"
   ]
  },
  {
   "cell_type": "code",
   "execution_count": 31,
   "metadata": {},
   "outputs": [
    {
     "output_type": "stream",
     "name": "stdout",
     "text": [
      "predicted denormalized: [3660.935]\n",
      "   actual denormalized: [3961.93393179]\n",
      "             predicted: [0.9094473]\n",
      "                actual: [1.20625592]\n",
      "predicted denormalized: [1970.948]\n",
      "   actual denormalized: [1799.59298878]\n",
      "             predicted: [-0.75701237]\n",
      "                actual: [-0.92598181]\n",
      "predicted denormalized: [1950.4666]\n",
      "   actual denormalized: [1636.84681409]\n",
      "             predicted: [-0.7772086]\n",
      "                actual: [-1.0864623]\n",
      "predicted denormalized: [3033.3772]\n",
      "   actual denormalized: [3026.14342731]\n",
      "             predicted: [0.29062605]\n",
      "                actual: [0.2834931]\n",
      "predicted denormalized: [1909.251]\n",
      "   actual denormalized: [1911.72907256]\n",
      "             predicted: [-0.81785035]\n",
      "                actual: [-0.81540683]\n",
      "predicted denormalized: [1893.2123]\n",
      "   actual denormalized: [1844.24895135]\n",
      "             predicted: [-0.83366585]\n",
      "                actual: [-0.88194753]\n",
      "predicted denormalized: [2577.6313]\n",
      "   actual denormalized: [2704.62049683]\n",
      "             predicted: [-0.15877503]\n",
      "                actual: [-0.03355372]\n",
      "predicted denormalized: [2561.3677]\n",
      "   actual denormalized: [2624.2397642]\n",
      "             predicted: [-0.17481226]\n",
      "                actual: [-0.11281542]\n",
      "predicted denormalized: [4173.807]\n",
      "   actual denormalized: [4365.82230435]\n",
      "             predicted: [1.4151794]\n",
      "                actual: [1.60452152]\n",
      "predicted denormalized: [3014.2844]\n",
      "   actual denormalized: [2682.7886929]\n",
      "             predicted: [0.2717992]\n",
      "                actual: [-0.05508159]\n"
     ]
    }
   ],
   "source": [
    "def denormalize(value):\n",
    "    data_mean = mean[len(titles)-1]\n",
    "    data_std = std[len(titles)-1]\n",
    "    return value*data_std+data_mean\n",
    "\n",
    "for x, y in dataset_val.take(10):\n",
    "    predictionData = model.predict(x)\n",
    "    denormalized_predictionData = denormalize(predictionData)[0]\n",
    "    actualValue = y[0].numpy()\n",
    "    print(\"predicted denormalized:\", denormalized_predictionData)\n",
    "    print(\"   actual denormalized:\", denormalize(actualValue))\n",
    "    print(\"             predicted:\", predictionData[0])\n",
    "    print(\"                actual:\", actualValue)\n",
    "\n",
    "# for x, y in datasetPredTest.take(1):\n",
    "#     show_plot(\n",
    "#         [x[0][:, 0].numpy(), y[0].numpy(), model.predict(x)[0]],\n",
    "#         1,\n",
    "#         \"Single Step Prediction\",\n",
    "#     )"
   ]
  },
  {
   "cell_type": "code",
   "execution_count": 14,
   "metadata": {},
   "outputs": [
    {
     "output_type": "stream",
     "name": "stdout",
     "text": [
      "predicted denormalized: [[2421.7744]]\n",
      "   actual denormalized: [2357.]\n",
      "             predicted: [[-0.3124622]]\n",
      "                actual: [-0.37633479]\n",
      "predicted denormalized: [[2386.2842]]\n",
      "   actual denormalized: [2566.]\n",
      "             predicted: [[-0.34745836]]\n",
      "                actual: [-0.1702444]\n",
      "predicted denormalized: [[3595.429]]\n",
      "   actual denormalized: [3230.]\n",
      "             predicted: [[0.8448533]]\n",
      "                actual: [0.48451167]\n",
      "predicted denormalized: [[3215.875]]\n",
      "   actual denormalized: [2681.]\n",
      "             predicted: [[0.47058332]]\n",
      "                actual: [-0.05684538]\n",
      "predicted denormalized: [[1754.5969]]\n",
      "   actual denormalized: [1748.]\n",
      "             predicted: [[-0.97035146]]\n",
      "                actual: [-0.97685654]\n",
      "predicted denormalized: [[1783.121]]\n",
      "   actual denormalized: [2064.]\n",
      "             predicted: [[-0.9422245]]\n",
      "                actual: [-0.66525576]\n",
      "predicted denormalized: [[2254.8433]]\n",
      "   actual denormalized: [2810.]\n",
      "             predicted: [[-0.47706926]]\n",
      "                actual: [0.07035873]\n",
      "predicted denormalized: [[1778.4785]]\n",
      "   actual denormalized: [2020.]\n",
      "             predicted: [[-0.9468024]]\n",
      "                actual: [-0.70864321]\n",
      "predicted denormalized: [[1823.404]]\n",
      "   actual denormalized: [1846.]\n",
      "             predicted: [[-0.9025023]]\n",
      "                actual: [-0.88022085]\n",
      "predicted denormalized: [[3767.6284]]\n",
      "   actual denormalized: [3363.]\n",
      "             predicted: [[1.0146555]]\n",
      "                actual: [0.6156601]\n"
     ]
    }
   ],
   "source": [
    "def normalize(data):\n",
    "    return (data - mean) / std\n",
    "\n",
    "predTest = pd.read_csv('../data/test_val.csv',',')\n",
    "mean = train[titles].values.mean(axis=0)\n",
    "std = train[titles].values.std(axis=0)\n",
    "featuresPredTest = predTest[titles]\n",
    "predTestRange = int(featuresPredTest.shape[0])\n",
    "featuresPredTest = normalize(featuresPredTest.values)\n",
    "featuresPredTest = pd.DataFrame(featuresPredTest)\n",
    "x_predTest = featuresPredTest[[i for i in range(10)]].values\n",
    "y_predTest = featuresPredTest.iloc[0:][[10]]\n",
    "\n",
    "datasetPredTest = keras.preprocessing.timeseries_dataset_from_array(\n",
    "    x_predTest,\n",
    "    y_predTest,\n",
    "    sequence_length=1,\n",
    "    sampling_rate=1,\n",
    "    batch_size=1\n",
    ")\n",
    "\n",
    "for x, y in datasetPredTest.take(10):\n",
    "    predictionData = model.predict(x)\n",
    "    denormalized_predictionData = denormalize(predictionData)\n",
    "    print(\"predicted denormalized:\", denormalized_predictionData)\n",
    "    print(\"   actual denormalized:\", denormalize(y[0].numpy()))\n",
    "    print(\"             predicted:\", predictionData)\n",
    "    print(\"                actual:\", y[0].numpy())"
   ]
  },
  {
   "cell_type": "code",
   "execution_count": 15,
   "metadata": {},
   "outputs": [
    {
     "output_type": "execute_result",
     "data": {
      "text/plain": [
       "array([[ 9.57056263, -2.21558466, -2.18863405, -3.32742707, -0.8274864 ,\n",
       "        -2.29716242, -3.42282226, -2.8664453 , -2.92536327, -3.0582111 ,\n",
       "        -2.7008927 ],\n",
       "       [ 9.57313604, -2.214993  , -2.18863405, -3.32742707, -1.87660656,\n",
       "        -2.44970793, -3.62936511, -2.8664453 , -2.92536327, -3.0582111 ,\n",
       "        -2.70068948],\n",
       "       [ 9.57506631, -2.2146069 , -2.18863405, -3.32742707, -1.35204648,\n",
       "        -2.46977971, -3.41278198, -2.85019709, -2.75104366, -2.18661305,\n",
       "        -2.70004383],\n",
       "       [ 9.57832796, -2.21398669, -2.18863405, -3.23791786, -0.8274864 ,\n",
       "        -2.56612425, -3.27938972, -2.85567017, -2.83820346, -2.62241207,\n",
       "        -2.70057766],\n",
       "       [ 9.58014845, -2.21396186, -2.18863405, -3.14840866, -0.8274864 ,\n",
       "        -2.57013861, -3.44003416, -2.87619423, -3.01252307, -3.49401012,\n",
       "        -2.70148486],\n",
       "       [ 9.57979667, -2.2133324 , -2.18863405, -3.14840866, -1.35204648,\n",
       "        -2.34533468, -3.33245976, -2.87533906, -3.01252307, -3.49401012,\n",
       "        -2.7011776 ],\n",
       "       [ 9.5799946 , -2.2125974 , -2.18863405, -3.23791786, -1.35204648,\n",
       "        -2.39752131, -3.38266115, -2.86832667, -2.92536327, -3.0582111 ,\n",
       "        -2.70045222],\n",
       "       [ 9.57566339, -2.21246003, -2.18863405, -3.50644548, -1.35204648,\n",
       "        -2.81099995, -3.58633535, -2.87585216, -3.01252307, -3.49401012,\n",
       "        -2.70122038],\n",
       "       [ 9.57527209, -2.21228068, -2.18863405, -3.50644548, -0.8274864 ,\n",
       "        -3.14017712, -3.66522324, -2.87465492, -3.01252307, -3.49401012,\n",
       "        -2.70138957],\n",
       "       [ 9.57591682, -2.21221086, -2.18863405, -3.41693628, -0.8274864 ,\n",
       "        -2.90734449, -3.5949413 , -2.84780262, -2.75104366, -2.18661305,\n",
       "        -2.69991451],\n",
       "       [ 9.57259463, -2.21189428, -2.18863405, -3.77497311, -1.87660656,\n",
       "        -3.07996178, -3.64227404, -2.87260252, -3.01252307, -3.49401012,\n",
       "        -2.70122913],\n",
       "       [ 9.57303636, -2.21126787, -2.18863405, -3.95399152, -1.87660656,\n",
       "        -2.90734449, -3.48593257, -2.86849771, -2.92536327, -3.0582111 ,\n",
       "        -2.70094131],\n",
       "       [ 9.57381671, -2.21094601, -2.18863405, -3.95399152, -1.35204648,\n",
       "        -3.46132558, -3.92913911, -2.84917089, -2.75104366, -2.18661305,\n",
       "        -2.69948376],\n",
       "       [ 9.57381671, -2.21073211, -2.18863405, -3.86448231, -1.87660656,\n",
       "        -3.13616277, -3.51318476, -2.86730047, -2.92536327, -3.0582111 ,\n",
       "        -2.70117079],\n",
       "       [ 9.57418562, -2.2105129 , -2.18863405, -3.77497311,  0.22163376,\n",
       "        -2.89931578, -3.32385381, -2.87670733, -3.01252307, -3.49401012,\n",
       "        -2.70151014],\n",
       "       [ 9.57418562, -2.20982295, -2.18863405, -3.6854639 , -1.87660656,\n",
       "        -2.93945933, -3.52896234, -2.85840671, -2.83820346, -2.62241207,\n",
       "        -2.69974046],\n",
       "       [ 9.57428788, -2.20893537, -2.18863405, -3.59595469, -1.87660656,\n",
       "        -2.44167922, -3.25930917, -2.85703844, -2.83820346, -2.62241207,\n",
       "        -2.70051251],\n",
       "       [ 9.57623149, -2.20838009, -2.18863405, -4.13300993, -2.40116664,\n",
       "        -3.3689954 , -3.97503752, -2.85755154, -2.83820346, -2.62241207,\n",
       "        -2.69958197],\n",
       "       [ 9.57623149, -2.20863129, -2.18863405, -4.04350073, -1.87660656,\n",
       "        -4.0313641 , -4.68359425, -2.8659322 , -2.92536327, -3.0582111 ,\n",
       "        -2.7009841 ],\n",
       "       [ 9.57619276, -2.20874699, -2.18863405, -4.31202835, -2.40116664,\n",
       "        -4.28025415, -4.67355397, -2.84044816, -2.66388385, -1.75081403,\n",
       "        -2.69897911],\n",
       "       [ 9.5762354 , -2.20860759, -2.18863405, -4.31202835, -1.87660656,\n",
       "        -3.81860324, -4.18731768, -2.82522616, -2.48956424, -0.87921598,\n",
       "        -2.69871269],\n",
       "       [ 9.57605575, -2.20893465, -2.18863405, -4.22251914, -1.35204648,\n",
       "        -3.96312005, -4.51434386, -2.85755154, -2.83820346, -2.62241207,\n",
       "        -2.69954794],\n",
       "       [ 9.57579617, -2.20858321, -2.18863405, -4.04350073, -0.8274864 ,\n",
       "        -2.66246879, -3.02121116, -2.87670733, -3.01252307, -3.49401012,\n",
       "        -2.70118829],\n",
       "       [ 9.57579617, -2.20790312, -2.18863405, -3.77497311, -0.8274864 ,\n",
       "        -2.48985149, -3.51748773, -2.87636526, -3.01252307, -3.49401012,\n",
       "        -2.701304  ],\n",
       "       [ 9.57538901, -2.20738874, -2.18863405, -3.41693628,  0.22163376,\n",
       "        -1.87966942, -3.32385381, -2.8654191 , -2.92536327, -3.0582111 ,\n",
       "        -2.70019358],\n",
       "       [ 9.57507351, -2.20634928, -2.18863405, -3.23791786, -0.8274864 ,\n",
       "        -1.85156893, -3.3912671 , -2.87568113, -3.01252307, -3.49401012,\n",
       "        -2.70122621],\n",
       "       [ 9.57525836, -2.20563466, -2.18863405, -3.05889945, -0.8274864 ,\n",
       "        -1.85558328, -3.39843873, -2.86849771, -2.92536327, -3.0582111 ,\n",
       "        -2.70115231],\n",
       "       [ 9.57548026, -2.2045748 , -2.18863405, -3.05889945, -0.8274864 ,\n",
       "        -1.96397089, -3.25644052, -2.87636526, -3.01252307, -3.49401012,\n",
       "        -2.70146736]])"
      ]
     },
     "metadata": {},
     "execution_count": 15
    }
   ],
   "source": [
    "# for x,y in datasetPredTest.take(2):\n",
    "#     print(x[0][0].numpy(\n",
    "normalize(featuresPredTest.values)"
   ]
  },
  {
   "cell_type": "code",
   "execution_count": null,
   "metadata": {},
   "outputs": [],
   "source": []
  },
  {
   "cell_type": "code",
   "execution_count": 16,
   "metadata": {},
   "outputs": [
    {
     "output_type": "stream",
     "name": "stdout",
     "text": [
      "3153.9293079465024 2738.647931447526\n-415.28137649897644\n"
     ]
    }
   ],
   "source": [
    "cc=denormalize(0.4095)\n",
    "cc2=denormalize(0)\n",
    "print(cc, cc2)\n",
    "print(cc2 - cc)"
   ]
  },
  {
   "cell_type": "code",
   "execution_count": 17,
   "metadata": {},
   "outputs": [
    {
     "output_type": "execute_result",
     "data": {
      "text/plain": [
       "array([[ 3.40596794, -1.90604653, -2.02076244, ..., -0.84369596,\n",
       "        -0.90020148, -0.90020148],\n",
       "       [ 3.37779139, -1.88889169, -1.9802937 , ..., -0.05370992,\n",
       "        -0.24334794, -0.24334794],\n",
       "       [ 2.84744621, -1.87530813, -1.95736292, ...,  0.39956076,\n",
       "         0.4135056 ,  0.4135056 ],\n",
       "       ...,\n",
       "       [ 0.1567324 , -0.71422091, -0.72825345, ..., -0.86959714,\n",
       "        -0.90020148, -0.90020148],\n",
       "       [ 0.13531654, -0.72566164, -0.73016519, ...,  1.66871866,\n",
       "         1.72721268,  1.72721268],\n",
       "       [ 0.20596585, -0.64864747, -0.67820922, ..., -1.02500423,\n",
       "        -0.90020148, -0.90020148]])"
      ]
     },
     "metadata": {},
     "execution_count": 17
    }
   ],
   "source": [
    "x_train"
   ]
  },
  {
   "cell_type": "code",
   "execution_count": 18,
   "metadata": {},
   "outputs": [
    {
     "output_type": "execute_result",
     "data": {
      "text/plain": [
       "(15194, 10)"
      ]
     },
     "metadata": {},
     "execution_count": 18
    }
   ],
   "source": [
    "x_train.shape"
   ]
  },
  {
   "cell_type": "code",
   "execution_count": 19,
   "metadata": {},
   "outputs": [
    {
     "output_type": "execute_result",
     "data": {
      "text/plain": [
       "             10\n",
       "0     -0.718531\n",
       "1      0.409725\n",
       "2      0.621089\n",
       "3     -0.958274\n",
       "4      0.082892\n",
       "...         ...\n",
       "15189  0.025159\n",
       "15190 -0.530652\n",
       "15191 -0.804643\n",
       "15192  1.513517\n",
       "15193 -1.220522\n",
       "\n",
       "[15194 rows x 1 columns]"
      ],
      "text/html": "<div>\n<style scoped>\n    .dataframe tbody tr th:only-of-type {\n        vertical-align: middle;\n    }\n\n    .dataframe tbody tr th {\n        vertical-align: top;\n    }\n\n    .dataframe thead th {\n        text-align: right;\n    }\n</style>\n<table border=\"1\" class=\"dataframe\">\n  <thead>\n    <tr style=\"text-align: right;\">\n      <th></th>\n      <th>10</th>\n    </tr>\n  </thead>\n  <tbody>\n    <tr>\n      <th>0</th>\n      <td>-0.718531</td>\n    </tr>\n    <tr>\n      <th>1</th>\n      <td>0.409725</td>\n    </tr>\n    <tr>\n      <th>2</th>\n      <td>0.621089</td>\n    </tr>\n    <tr>\n      <th>3</th>\n      <td>-0.958274</td>\n    </tr>\n    <tr>\n      <th>4</th>\n      <td>0.082892</td>\n    </tr>\n    <tr>\n      <th>...</th>\n      <td>...</td>\n    </tr>\n    <tr>\n      <th>15189</th>\n      <td>0.025159</td>\n    </tr>\n    <tr>\n      <th>15190</th>\n      <td>-0.530652</td>\n    </tr>\n    <tr>\n      <th>15191</th>\n      <td>-0.804643</td>\n    </tr>\n    <tr>\n      <th>15192</th>\n      <td>1.513517</td>\n    </tr>\n    <tr>\n      <th>15193</th>\n      <td>-1.220522</td>\n    </tr>\n  </tbody>\n</table>\n<p>15194 rows × 1 columns</p>\n</div>"
     },
     "metadata": {},
     "execution_count": 19
    }
   ],
   "source": [
    "y_train"
   ]
  },
  {
   "cell_type": "code",
   "execution_count": 20,
   "metadata": {},
   "outputs": [
    {
     "output_type": "execute_result",
     "data": {
      "text/plain": [
       "(15194, 1)"
      ]
     },
     "metadata": {},
     "execution_count": 20
    }
   ],
   "source": [
    "y_train.shape"
   ]
  },
  {
   "cell_type": "code",
   "execution_count": 21,
   "metadata": {},
   "outputs": [
    {
     "output_type": "execute_result",
     "data": {
      "text/plain": [
       "array([-1.75076251e+03,  2.00791858e+02,  1.66287906e+09,  1.20148807e+01,\n",
       "        1.92274026e+00,  4.51550539e+00,  9.60973049e+00,  2.18946190e+02,\n",
       "        2.19052336e+01,  4.38104672e+00,  2.73864793e+03])"
      ]
     },
     "metadata": {},
     "execution_count": 21
    }
   ],
   "source": [
    "mean"
   ]
  },
  {
   "cell_type": "code",
   "execution_count": 22,
   "metadata": {},
   "outputs": [
    {
     "output_type": "execute_result",
     "data": {
      "text/plain": [
       "array([1.83020390e+02, 9.14870689e+01, 7.59779397e+08, 3.34245944e+00,\n",
       "       1.38070972e+00, 1.57830914e+00, 2.64043914e+00, 7.64643546e+01,\n",
       "       7.57402750e+00, 1.51480550e+00, 1.01411814e+03])"
      ]
     },
     "metadata": {},
     "execution_count": 22
    }
   ],
   "source": [
    "std"
   ]
  },
  {
   "cell_type": "code",
   "execution_count": 23,
   "metadata": {},
   "outputs": [
    {
     "output_type": "execute_result",
     "data": {
      "text/plain": [
       "array([-1.75076251e+03,  2.00791858e+02,  1.66287906e+09,  1.20148807e+01,\n",
       "        1.92274026e+00,  4.51550539e+00,  9.60973049e+00,  2.18946190e+02,\n",
       "        2.19052336e+01,  4.38104672e+00,  2.73864793e+03])"
      ]
     },
     "metadata": {},
     "execution_count": 23
    }
   ],
   "source": [
    "train[titles].values.mean(axis=0)"
   ]
  },
  {
   "cell_type": "code",
   "execution_count": 24,
   "metadata": {},
   "outputs": [],
   "source": [
    "test = [[[3.96250010e+00, 5.92916600e+07, 7.00000000e+00, 7.00000000e+00, 4.53000021e+00, 1.08999996e+01, 1.99000000e+02, 2.00000000e+01, 4.00000000e+00, 0.00000000e+00]]]"
   ]
  },
  {
   "cell_type": "code",
   "execution_count": 25,
   "metadata": {},
   "outputs": [
    {
     "output_type": "execute_result",
     "data": {
      "text/plain": [
       "[[[3.9625001,\n",
       "   59291660.0,\n",
       "   7.0,\n",
       "   7.0,\n",
       "   4.53000021,\n",
       "   10.8999996,\n",
       "   199.0,\n",
       "   20.0,\n",
       "   4.0,\n",
       "   0.0]]]"
      ]
     },
     "metadata": {},
     "execution_count": 25
    }
   ],
   "source": [
    "test"
   ]
  },
  {
   "cell_type": "code",
   "execution_count": 26,
   "metadata": {},
   "outputs": [
    {
     "output_type": "error",
     "ename": "ValueError",
     "evalue": "operands could not be broadcast together with shapes (1,1,10) (11,) ",
     "traceback": [
      "\u001b[1;31m---------------------------------------------------------------------------\u001b[0m",
      "\u001b[1;31mValueError\u001b[0m                                Traceback (most recent call last)",
      "\u001b[1;32m<ipython-input-26-b12188e1a37e>\u001b[0m in \u001b[0;36m<module>\u001b[1;34m\u001b[0m\n\u001b[1;32m----> 1\u001b[1;33m \u001b[1;33m(\u001b[0m\u001b[0mtest\u001b[0m\u001b[1;33m-\u001b[0m\u001b[0mtrain\u001b[0m\u001b[1;33m[\u001b[0m\u001b[0mtitles\u001b[0m\u001b[1;33m]\u001b[0m\u001b[1;33m.\u001b[0m\u001b[0mvalues\u001b[0m\u001b[1;33m.\u001b[0m\u001b[0mmean\u001b[0m\u001b[1;33m(\u001b[0m\u001b[0maxis\u001b[0m\u001b[1;33m=\u001b[0m\u001b[1;36m0\u001b[0m\u001b[1;33m)\u001b[0m\u001b[1;33m)\u001b[0m\u001b[1;33m/\u001b[0m\u001b[0mtrain\u001b[0m\u001b[1;33m[\u001b[0m\u001b[0mtitles\u001b[0m\u001b[1;33m]\u001b[0m\u001b[1;33m.\u001b[0m\u001b[0mvalues\u001b[0m\u001b[1;33m.\u001b[0m\u001b[0mstd\u001b[0m\u001b[1;33m(\u001b[0m\u001b[0maxis\u001b[0m\u001b[1;33m=\u001b[0m\u001b[1;36m0\u001b[0m\u001b[1;33m)\u001b[0m\u001b[1;33m\u001b[0m\u001b[1;33m\u001b[0m\u001b[0m\n\u001b[0m",
      "\u001b[1;31mValueError\u001b[0m: operands could not be broadcast together with shapes (1,1,10) (11,) "
     ]
    }
   ],
   "source": [
    "(test-train[titles].values.mean(axis=0))/train[titles].values.std(axis=0)"
   ]
  },
  {
   "cell_type": "code",
   "execution_count": 17,
   "metadata": {},
   "outputs": [
    {
     "output_type": "execute_result",
     "data": {
      "text/plain": [
       "array([-1.75083294e+03,  2.00750551e+02,  1.66239649e+09,  1.19796115e+01,\n",
       "        1.91216897e+00,  4.49067901e+00,  9.55689590e+00,  2.18859067e+02,\n",
       "        2.18968203e+01,  4.37936406e+00,  2.73739641e+03])"
      ]
     },
     "metadata": {},
     "execution_count": 17
    }
   ],
   "source": [
    "train[titles].values.mean(axis=0)"
   ]
  },
  {
   "cell_type": "code",
   "execution_count": 18,
   "metadata": {},
   "outputs": [
    {
     "output_type": "execute_result",
     "data": {
      "text/plain": [
       "array([1.83037727e+02, 9.15228348e+01, 7.60116407e+08, 3.36948488e+00,\n",
       "       1.38422981e+00, 1.60899072e+00, 2.72736533e+00, 7.63923341e+01,\n",
       "       7.56692744e+00, 1.51338549e+00, 1.01327208e+03])"
      ]
     },
     "metadata": {},
     "execution_count": 18
    }
   ],
   "source": [
    "train[titles].values.std(axis=0)"
   ]
  },
  {
   "cell_type": "code",
   "execution_count": null,
   "metadata": {},
   "outputs": [],
   "source": [
    "targets"
   ]
  },
  {
   "cell_type": "code",
   "execution_count": null,
   "metadata": {},
   "outputs": [],
   "source": [
    "train_data.shape"
   ]
  },
  {
   "cell_type": "code",
   "execution_count": 14,
   "metadata": {},
   "outputs": [
    {
     "data": {
      "text/plain": [
       "array([[ 1.18080767],\n",
       "       [ 0.19404747],\n",
       "       [ 0.36203571],\n",
       "       ...,\n",
       "       [-0.93475157],\n",
       "       [-0.51751248],\n",
       "       [-0.90675353]])"
      ]
     },
     "execution_count": 14,
     "metadata": {},
     "output_type": "execute_result"
    }
   ],
   "source": [
    "y_val.values"
   ]
  },
  {
   "cell_type": "code",
   "execution_count": 13,
   "metadata": {},
   "outputs": [
    {
     "data": {
      "text/plain": [
       "(52895, 7)"
      ]
     },
     "execution_count": 13,
     "metadata": {},
     "output_type": "execute_result"
    }
   ],
   "source": [
    "x_val.shape"
   ]
  },
  {
   "cell_type": "code",
   "execution_count": null,
   "metadata": {},
   "outputs": [],
   "source": []
  }
 ],
 "metadata": {
  "kernelspec": {
   "name": "python3",
   "display_name": "Python 3.8.7 64-bit"
  },
  "language_info": {
   "codemirror_mode": {
    "name": "ipython",
    "version": 3
   },
   "file_extension": ".py",
   "mimetype": "text/x-python",
   "name": "python",
   "nbconvert_exporter": "python",
   "pygments_lexer": "ipython3",
   "version": "3.8.7"
  },
  "interpreter": {
   "hash": "a8154e9a2ed6d4d929a2cd1b449f3e91e1744d4bfba7f152c541c1ec729f27fc"
  }
 },
 "nbformat": 4,
 "nbformat_minor": 4
}