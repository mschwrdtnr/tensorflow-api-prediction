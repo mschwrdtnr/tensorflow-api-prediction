{
 "cells": [
  {
   "cell_type": "code",
   "execution_count": 11,
   "metadata": {
    "colab": {
     "base_uri": "https://localhost:8080/",
     "height": 1000
    },
    "executionInfo": {
     "elapsed": 23512,
     "status": "ok",
     "timestamp": 1620482407776,
     "user": {
      "displayName": "Max S.",
      "photoUrl": "https://lh4.googleusercontent.com/-k4gYBVQolyU/AAAAAAAAAAI/AAAAAAAAAL4/pqtoeFCPcBs/s64/photo.jpg",
      "userId": "14906927569238660901"
     },
     "user_tz": -120
    },
    "id": "4IYmtuhpQ7Hh",
    "outputId": "5682f620-e50f-4fc6-b0cc-807c3e1b2f86"
   },
   "outputs": [
    {
     "name": "stdout",
     "output_type": "stream",
     "text": [
      "WARNING:tensorflow:SavedModel saved prior to TF 2.5 detected when loading Keras model. Please ensure that you are saving the model with model.save() or tf.keras.models.save_model(), *NOT* tf.saved_model.save(). To confirm, there should be a file named \"keras_metadata.pb\" in the SavedModel directory.\n"
     ]
    }
   ],
   "source": [
    "#!/usr/bin/python\n",
    "import numpy as np\n",
    "import pandas as pd\n",
    "import keras\n",
    "import math\n",
    "\n",
    "# mean and std of the initial training-dataset\n",
    "mean = [8.38349267e+01, 7.14052754e+08, 5.58996266e+00, 9.59101222e+00, 2.21157340e+02, 2.19141673e+01, 4.38283347e+00, 3.19661680e+03]\n",
    "std = [2.11527778e+01, 1.80308080e+08, 2.40437363e+00, 2.29533925e+00, 8.77253571e+01, 8.74016707e+00, 1.74803341e+00, 1.65355304e+03]\n",
    "# mean = pd.read_csv('config/mean.csv')\n",
    "# std = pd.read_csv('config/std.csv')\n",
    "\n",
    "# train = pd.read_csv('TestData/full_trainset.csv',',')\n",
    "modelPath = \"kerasModel\"\n",
    "model = keras.models.load_model(modelPath)\n",
    "model.load_weights(modelPath + \"/simpleModelCheckpoint.h5\")"
   ]
  },
  {
   "cell_type": "code",
   "execution_count": 29,
   "metadata": {},
   "outputs": [
    {
     "name": "stdout",
     "output_type": "stream",
     "text": [
      "predicted denormalized: [[[1755.0496]]]\n",
      "             predicted: [[[-0.8717997]]]\n",
      "                actual: [-1.93318069]\n"
     ]
    }
   ],
   "source": [
    "def normalize(data):\n",
    "    return (data - mean) / std\n",
    "\n",
    "def denormalize(value):\n",
    "    data_mean = mean[len(mean)-1]\n",
    "    data_std = std[len(std)-1]\n",
    "    return value*data_std+data_mean\n",
    "\n",
    "titles = ['Assembly',\n",
    "          'Material',\n",
    "#           'OpenOrders',\n",
    "#           'NewOrders',\n",
    "          'TotalWork',\n",
    "          'TotalSetup',\n",
    "          'SumDuration',\n",
    "          'SumOperations',\n",
    "          'ProductionOrders',\n",
    "          'CycleTime']\n",
    "\n",
    "# Prediction Test\n",
    "predTest = pd.read_csv('TestData/testData1.csv',';')\n",
    "featuresPredTest = predTest[titles]\n",
    "predTestRange = int(featuresPredTest.shape[0])\n",
    "featuresPredTest = normalize(featuresPredTest.values)\n",
    "featuresPredTest = pd.DataFrame(featuresPredTest)\n",
    "x_predTest = featuresPredTest[[i for i in range(len(titles))]].values\n",
    "y_predTest = featuresPredTest.iloc[0:][[len(titles)-1]]\n",
    "\n",
    "datasetPredTest = keras.preprocessing.timeseries_dataset_from_array(\n",
    "    x_predTest,\n",
    "    y_predTest,\n",
    "    sequence_length=1,\n",
    "    sampling_rate=1,\n",
    "    batch_size=1\n",
    ")\n",
    "\n",
    "for x, y in datasetPredTest.take(1):\n",
    "    predictionData = model.predict(x)\n",
    "    denormalized_predictionData = denormalize(predictionData)\n",
    "    print(\"predicted denormalized:\", denormalized_predictionData)\n",
    "    print(\"             predicted:\", predictionData)\n",
    "    print(\"                actual:\", y[0].numpy())"
   ]
  }
 ],
 "metadata": {
  "colab": {
   "name": "Spielwiese.ipynb",
   "provenance": []
  },
  "kernelspec": {
   "display_name": "Python 3",
   "language": "python",
   "name": "python3"
  },
  "language_info": {
   "codemirror_mode": {
    "name": "ipython",
    "version": 3
   },
   "file_extension": ".py",
   "mimetype": "text/x-python",
   "name": "python",
   "nbconvert_exporter": "python",
   "pygments_lexer": "ipython3",
   "version": "3.8.6"
  }
 },
 "nbformat": 4,
 "nbformat_minor": 4
}
